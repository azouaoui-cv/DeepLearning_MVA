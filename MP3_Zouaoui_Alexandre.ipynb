{
 "cells": [
  {
   "cell_type": "markdown",
   "metadata": {},
   "source": [
    "**You may need to install [OpenCV](https://pypi.python.org/pypi/opencv-python) and [scikit-video](http://www.scikit-video.org/stable/).**"
   ]
  },
  {
   "cell_type": "code",
   "execution_count": 1,
   "metadata": {
    "collapsed": true
   },
   "outputs": [
    {
     "name": "stderr",
     "output_type": "stream",
     "text": [
      "Using TensorFlow backend.\n"
     ]
    }
   ],
   "source": [
    "import keras\n",
    "import numpy as np\n",
    "import io\n",
    "import base64\n",
    "from IPython.display import HTML\n",
    "import skvideo.io\n",
    "import cv2\n",
    "import json\n",
    "\n",
    "from keras.models import Sequential,model_from_json\n",
    "from keras.layers.core import Dense\n",
    "from keras.optimizers import sgd\n",
    "from keras.optimizers import adam\n",
    "from keras.layers import Conv2D, MaxPooling2D, Activation, AveragePooling2D,Reshape,BatchNormalization, Flatten"
   ]
  },
  {
   "cell_type": "markdown",
   "metadata": {},
   "source": [
    "# MiniProject #3: Deep Reinforcement Learning"
   ]
  },
  {
   "cell_type": "markdown",
   "metadata": {},
   "source": [
    "__Notations__: $E_p$ is the expectation under probability $p$. Please justify each of your answer and widely comment your code."
   ]
  },
  {
   "cell_type": "markdown",
   "metadata": {},
   "source": [
    "# Context"
   ]
  },
  {
   "cell_type": "markdown",
   "metadata": {},
   "source": [
    "In a reinforcement learning algorithm, we modelize each step $t$ as an action $a_t$ obtained from a state $s_t$, i.e. $\\{(a_{t},s_{t})_{t\\leq T}\\}$ having the Markov property. We consider a discount factor $\\gamma \\in [0,1]$ that ensures convergence. The goal is to find among all the policies $\\pi$, one that maximizes the expected reward:\n",
    "\n",
    "\\begin{equation*}\n",
    "R(\\pi)=\\sum_{t\\leq T}E_{p^{\\pi}}[\\gamma^t r(s_{t},a_{t})] \\> ,\n",
    "\\end{equation*}\n",
    "\n",
    "where: \n",
    "\\begin{equation*}p^{\\pi}(a_{0},a_{1},s_{1},...,a_{T},s_{T})=p(a_{0})\\prod_{t=0}^{T-1}\\pi(a_{t}|s_{t})p(s_{t+1}|s_{t},a_{t}) \\> .\n",
    "\\end{equation*}\n",
    "\n",
    "We note the $Q$-function:\n",
    "\n",
    "\\begin{equation*}Q^\\pi(s,a)=E_{p^{\\pi}}[\\sum_{t\\leq T}\\gamma^{t}r(s_{t},a_{t})|s_{0}=s,a_{0}=a] \\> .\n",
    "\\end{equation*}\n",
    "\n",
    "Thus, the optimal Q function is:\n",
    "\\begin{equation*}\n",
    "Q^*(s,a)=\\max_{\\pi}Q^\\pi(s,a) \\> .\n",
    "\\end{equation*}\n",
    "\n",
    "In this project, we will apply the deep reinforcement learning techniques to a simple game: an agent will have to learn from scratch a policy that will permit it maximizing a reward."
   ]
  },
  {
   "cell_type": "markdown",
   "metadata": {},
   "source": [
    "## The environment, the agent and the game"
   ]
  },
  {
   "cell_type": "markdown",
   "metadata": {},
   "source": [
    "### The environment"
   ]
  },
  {
   "cell_type": "markdown",
   "metadata": {},
   "source": [
    "```Environment``` is an abstract class that represents the states, rewards, and actions to obtain the new state."
   ]
  },
  {
   "cell_type": "code",
   "execution_count": 2,
   "metadata": {
    "collapsed": true
   },
   "outputs": [],
   "source": [
    "class Environment(object):\n",
    "    def __init__(self):\n",
    "        pass\n",
    "\n",
    "    def act(self, act):\n",
    "        \"\"\"\n",
    "        One can act on the environment and obtain its reaction:\n",
    "        - the new state\n",
    "        - the reward of the new state\n",
    "        - should we continue the game?\n",
    "\n",
    "        :return: state, reward, game_over\n",
    "        \"\"\"\n",
    "        pass\n",
    "\n",
    "\n",
    "    def reset(self):\n",
    "        \"\"\"\n",
    "        Reinitialize the environment to a random state and returns\n",
    "        the original state\n",
    "\n",
    "        :return: state\n",
    "        \"\"\"\n",
    "        pass\n",
    "    \n",
    "    def draw(self):\n",
    "        \"\"\"\n",
    "        Visualize in the console or graphically the current state\n",
    "        \"\"\"\n",
    "        pass"
   ]
  },
  {
   "cell_type": "markdown",
   "metadata": {},
   "source": [
    "The method ```act``` allows to act on the environment at a given state $s_t$ (stored internally), via action $a_t$. The method will return the new state $s_{t+1}$, the reward $r(s_{t},a_{t})$ and determines if $t\\leq T$ (*game_over*).\n",
    "\n",
    "The method ```reset``` simply reinitializes the environment to a random state $s_0$.\n",
    "\n",
    "The method ```draw``` displays the current state $s_t$ (this is useful to check the behavior of the Agent).\n",
    "\n",
    "We modelize $s_t$ as a tensor, while $a_t$ is an integer."
   ]
  },
  {
   "cell_type": "markdown",
   "metadata": {},
   "source": [
    "### The Agent"
   ]
  },
  {
   "cell_type": "markdown",
   "metadata": {},
   "source": [
    "The goal of the ```Agent``` is to interact with the ```Environment``` by proposing actions $a_t$ obtained from a given state $s_t$ to attempt to maximize its __reward__ $r(s_t,a_t)$. We propose the following abstract class:"
   ]
  },
  {
   "cell_type": "code",
   "execution_count": 3,
   "metadata": {
    "collapsed": true
   },
   "outputs": [],
   "source": [
    "class Agent(object):\n",
    "    def __init__(self, epsilon=0.1, n_action=4):\n",
    "        self.epsilon = epsilon\n",
    "        self.n_action = n_action\n",
    "    \n",
    "    def set_epsilon(self,e):\n",
    "        self.epsilon = e\n",
    "\n",
    "    def act(self,s,train=True):\n",
    "        \"\"\" This function should return the next action to do:\n",
    "        an integer between 0 and 4 (not included) with a random exploration of epsilon\"\"\"\n",
    "        if train:\n",
    "            if np.random.rand() <= self.epsilon:\n",
    "                a = np.random.randint(0, self.n_action, size=1)[0]\n",
    "            else:\n",
    "                a = self.learned_act(s)\n",
    "        else: # in some cases, this can improve the performance.. remove it if poor performances\n",
    "            a = self.learned_act(s)\n",
    "\n",
    "        return a\n",
    "\n",
    "    def learned_act(self,s):\n",
    "        \"\"\" Act via the policy of the agent, from a given state s\n",
    "        it proposes an action a\"\"\"\n",
    "        pass\n",
    "\n",
    "    def reinforce(self, s, n_s, a, r, game_over_):\n",
    "        \"\"\" This function is the core of the learning algorithm. \n",
    "        It takes as an input the current state s_, the next state n_s_\n",
    "        the action a_ used to move from s_ to n_s_ and the reward r_.\n",
    "        \n",
    "        Its goal is to learn a policy.\n",
    "        \"\"\"\n",
    "        pass\n",
    "\n",
    "    def save(self):\n",
    "        \"\"\" This function returns basic stats if applicable: the\n",
    "        loss and/or the model\"\"\"\n",
    "        pass\n",
    "\n",
    "    def load(self):\n",
    "        \"\"\" This function allows to restore a model\"\"\"\n",
    "        pass"
   ]
  },
  {
   "cell_type": "markdown",
   "metadata": {},
   "source": [
    "***\n",
    "__Question 1__:\n",
    "Explain the function act. Why is ```epsilon``` essential?"
   ]
  },
  {
   "cell_type": "markdown",
   "metadata": {},
   "source": [
    "Learning the optimal policy $\\pi^*$ induces a trade-off between exploiting the current policy $\\pi$ and exploring the environment by taking actions that are not necessarily in line with the current policy. Here ``epsilon`` is the probability of taking a random action. In other words it fosters exploration. If the randomly generated sample is below ``epsilon``, we explore the environment by taking a random action, else we use the action according to the current policy."
   ]
  },
  {
   "cell_type": "markdown",
   "metadata": {},
   "source": [
    "***\n",
    "### The Game"
   ]
  },
  {
   "cell_type": "markdown",
   "metadata": {},
   "source": [
    "The ```Agent``` and the ```Environment``` work in an interlaced way as in the following (take some time to understand this code as it is the core of the project)\n",
    "\n",
    "```python\n",
    "\n",
    "epoch = 300\n",
    "env = Environment()\n",
    "agent = Agent()\n",
    "\n",
    "\n",
    "# Number of won games\n",
    "score = 0\n",
    "loss = 0\n",
    "\n",
    "\n",
    "for e in range(epoch):\n",
    "    # At each epoch, we restart to a fresh game and get the initial state\n",
    "    state = env.reset()\n",
    "    # This assumes that the games will end\n",
    "    game_over = False\n",
    "\n",
    "    win = 0\n",
    "    lose = 0\n",
    "    \n",
    "    while not game_over:\n",
    "        # The agent performs an action\n",
    "        action = agent.act(state)\n",
    "\n",
    "        # Apply an action to the environment, get the next state, the reward\n",
    "        # and if the games end\n",
    "        prev_state = state\n",
    "        state, reward, game_over = env.act(action)\n",
    "\n",
    "        # Update the counters\n",
    "        if reward > 0:\n",
    "            win = win + reward\n",
    "        if reward < 0:\n",
    "            lose = lose -reward\n",
    "\n",
    "        # Apply the reinforcement strategy\n",
    "        loss = agent.reinforce(prev_state, state,  action, reward, game_over)\n",
    "\n",
    "    # Save as a mp4\n",
    "    if e % 10 == 0:\n",
    "        env.draw(e)\n",
    "\n",
    "    # Update stats\n",
    "    score += win-lose\n",
    "\n",
    "    print(\"Epoch {:03d}/{:03d} | Loss {:.4f} | Win/lose count {}/{} ({})\"\n",
    "          .format(e, epoch, loss, win, lose, win-lose))\n",
    "    agent.save()\n",
    "```"
   ]
  },
  {
   "cell_type": "markdown",
   "metadata": {},
   "source": [
    "# The game, *eat cheese*"
   ]
  },
  {
   "cell_type": "markdown",
   "metadata": {},
   "source": [
    "A rat runs on an island and tries to eat as much as possible. The island is subdivided into $N\\times N$ cells, in which there are cheese (+0.5) and poisonous cells (-1). The rat has a visibility of 2 cells (thus it can see $5^2$ cells). The rat is given a time $T$ to accumulate as much food as possible. It can perform 4 actions: going up, down, left, right. \n",
    "\n",
    "The goal is to code an agent to solve this task that will learn by trial and error. We propose the following environment:"
   ]
  },
  {
   "cell_type": "code",
   "execution_count": 4,
   "metadata": {
    "collapsed": true
   },
   "outputs": [],
   "source": [
    "class Environment(object):\n",
    "    def __init__(self, grid_size=10, max_time=500, temperature=0.1):\n",
    "        grid_size = grid_size+4\n",
    "        self.grid_size = grid_size\n",
    "        self.max_time = max_time\n",
    "        self.temperature = temperature\n",
    "\n",
    "        #board on which one plays\n",
    "        self.board = np.zeros((grid_size,grid_size))\n",
    "        self.position = np.zeros((grid_size,grid_size))\n",
    "\n",
    "        # coordinate of the cat\n",
    "        self.x = 0\n",
    "        self.y = 1\n",
    "\n",
    "        # self time\n",
    "        self.t = 0\n",
    "\n",
    "        self.scale=16\n",
    "\n",
    "        self.to_draw = np.zeros((max_time+2, grid_size*self.scale, grid_size*self.scale, 3))\n",
    "\n",
    "\n",
    "    def draw(self,e):\n",
    "        skvideo.io.vwrite(str(e) + '.mp4', self.to_draw)\n",
    "\n",
    "    def get_frame(self,t):\n",
    "        b = np.zeros((self.grid_size,self.grid_size,3))+128\n",
    "        b[self.board>0,0] = 256\n",
    "        b[self.board < 0, 2] = 256\n",
    "        b[self.x,self.y,:]=256\n",
    "        b[-2:,:,:]=0\n",
    "        b[:,-2:,:]=0\n",
    "        b[:2,:,:]=0\n",
    "        b[:,:2,:]=0\n",
    "        \n",
    "        b =  cv2.resize(b, None, fx=self.scale, fy=self.scale, interpolation=cv2.INTER_NEAREST)\n",
    "\n",
    "        self.to_draw[t,:,:,:]=b\n",
    "\n",
    "\n",
    "    def act(self, action):\n",
    "        \"\"\"This function returns the new state, reward and decides if the\n",
    "        game ends.\"\"\"\n",
    "\n",
    "        self.get_frame(int(self.t))\n",
    "\n",
    "        self.position = np.zeros((self.grid_size, self.grid_size))\n",
    "\n",
    "        self.position[0:2,:]= -1\n",
    "        self.position[:,0:2] = -1\n",
    "        self.position[-2:, :] = -1\n",
    "        self.position[-2:, :] = -1\n",
    "\n",
    "        self.position[self.x, self.y] = 1\n",
    "        if action == 0: # up\n",
    "            if self.x == self.grid_size-3:\n",
    "                self.x = self.x-1\n",
    "            else:\n",
    "                self.x = self.x + 1\n",
    "        elif action == 1: # down\n",
    "            if self.x == 2:\n",
    "                self.x = self.x+1\n",
    "            else:\n",
    "                self.x = self.x-1\n",
    "        elif action == 2: # right\n",
    "            if self.y == self.grid_size - 3:\n",
    "                self.y = self.y - 1\n",
    "            else:\n",
    "                self.y = self.y + 1\n",
    "        elif action == 3: # left\n",
    "            if self.y == 2:\n",
    "                self.y = self.y + 1\n",
    "            else:\n",
    "                self.y = self.y - 1\n",
    "        else:\n",
    "            RuntimeError('Error: action not recognized')\n",
    "\n",
    "        self.t = self.t + 1\n",
    "        reward = self.board[self.x, self.y]\n",
    "        self.board[self.x, self.y] = 0\n",
    "        game_over = self.t > self.max_time\n",
    "        state = np.concatenate((self.board.reshape(self.grid_size, self.grid_size,1),\n",
    "                        self.position.reshape(self.grid_size, self.grid_size,1)),axis=2)\n",
    "        state = state[self.x-2:self.x+3,self.y-2:self.y+3,:]\n",
    "\n",
    "        return state, reward, game_over\n",
    "\n",
    "    def reset(self):\n",
    "        \"\"\"This function resets the game and returns the initial state\"\"\"\n",
    "\n",
    "        self.x = np.random.randint(3, self.grid_size-3, size=1)[0]\n",
    "        self.y = np.random.randint(3, self.grid_size-3, size=1)[0]\n",
    "\n",
    "\n",
    "        bonus = 0.5*np.random.binomial(1,self.temperature,size=self.grid_size**2)\n",
    "        bonus = bonus.reshape(self.grid_size,self.grid_size)\n",
    "\n",
    "        malus = -1.0*np.random.binomial(1,self.temperature,size=self.grid_size**2)\n",
    "        malus = malus.reshape(self.grid_size, self.grid_size)\n",
    "\n",
    "        self.to_draw = np.zeros((self.max_time+2, self.grid_size*self.scale, self.grid_size*self.scale, 3))\n",
    "\n",
    "\n",
    "        malus[bonus>0]=0\n",
    "\n",
    "        self.board = bonus + malus\n",
    "\n",
    "        self.position = np.zeros((self.grid_size, self.grid_size))\n",
    "        self.position[0:2,:]= -1\n",
    "        self.position[:,0:2] = -1\n",
    "        self.position[-2:, :] = -1\n",
    "        #self.position[-2:, :] = -1\n",
    "        self.position[:, -2:] = -1\n",
    "        self.board[self.x,self.y] = 0\n",
    "        self.t = 0\n",
    "\n",
    "        state = np.concatenate((\n",
    "                               self.board.reshape(self.grid_size, self.grid_size,1),\n",
    "                        self.position.reshape(self.grid_size, self.grid_size,1)),axis=2)\n",
    "\n",
    "        state = state[self.x - 2:self.x + 3, self.y - 2:self.y + 3, :]\n",
    "        return state"
   ]
  },
  {
   "cell_type": "markdown",
   "metadata": {},
   "source": [
    "The following elements are important because they correspond to the hyper parameters for this project:"
   ]
  },
  {
   "cell_type": "code",
   "execution_count": 5,
   "metadata": {},
   "outputs": [],
   "source": [
    "# parameters\n",
    "size = 13\n",
    "T=200\n",
    "temperature=0.3\n",
    "epochs_train=30 # set small when debugging\n",
    "epochs_test=20 # set small when debugging\n",
    "\n",
    "# display videos\n",
    "def display_videos(name):\n",
    "    video = io.open(name, 'r+b').read()\n",
    "    encoded = base64.b64encode(video)\n",
    "    return '''<video alt=\"test\" controls>\n",
    "                <source src=\"data:video/mp4;base64,{0}\" type=\"video/mp4\" />\n",
    "             </video>'''.format(encoded.decode('ascii'))"
   ]
  },
  {
   "cell_type": "markdown",
   "metadata": {},
   "source": [
    "__Question 2__ Explain the use of the arrays ```position``` and ```board```."
   ]
  },
  {
   "cell_type": "markdown",
   "metadata": {},
   "source": [
    "The arrays ``position`` and ``board`` are used to form the ``state``. Indeed, the ``state`` is a $5$ by $5$ grid on two channels. The first channel is the ``board`` that is visible for the agent, while the second channel is the ``position`` that is visible for the agent.\n",
    "\n",
    "The ``board`` array contains the *cheese* and *poisonous* cells. The ``bonus`` represents the *cheese* cells while the ``malus`` represents the *poisonous* cells. The ``bonus`` and ``malus`` masks are then mapped onto the ``board`` array.\n",
    "\n",
    "The ``position`` array contains the allowed positions on the board. ``-1`` cells represent *walls*, ``0`` cells are allowed, while the ``1`` cell represents the agent position.\n",
    "\n",
    "**Note:** I corrected a small mistake in the ``position`` variable assignment done in ``Environment.reset`` as can be seen above."
   ]
  },
  {
   "cell_type": "markdown",
   "metadata": {},
   "source": [
    "## Random Agent"
   ]
  },
  {
   "cell_type": "markdown",
   "metadata": {},
   "source": [
    "***\n",
    "__Question 3__ Implement a random Agent (only ```learned_act``` needs to be implemented):"
   ]
  },
  {
   "cell_type": "code",
   "execution_count": 6,
   "metadata": {
    "collapsed": true
   },
   "outputs": [],
   "source": [
    "class RandomAgent(Agent):\n",
    "    def __init__(self):\n",
    "        super(RandomAgent, self).__init__()\n",
    "        pass\n",
    "\n",
    "    def learned_act(self, s):\n",
    "        \"\"\" Act randomly from a given state s\n",
    "        it proposes an random action a\"\"\"\n",
    "        # Randomly select an action\n",
    "        a = np.random.randint(0, self.n_action, size=1)[0]\n",
    "        return a"
   ]
  },
  {
   "cell_type": "markdown",
   "metadata": {},
   "source": [
    "***\n",
    "***\n",
    "__Question 4__ Visualize the game moves. You need to fill in the following function for the evaluation:"
   ]
  },
  {
   "cell_type": "code",
   "execution_count": 7,
   "metadata": {
    "collapsed": true
   },
   "outputs": [],
   "source": [
    "def test(agent,env,epochs,prefix='', epsilon_greedy=True):\n",
    "    # Number of won games\n",
    "    score = 0\n",
    "        \n",
    "    for e in range(epochs):\n",
    "        \n",
    "        ##### FILL IN HERE\n",
    "        state = env.reset()\n",
    "        game_over = False\n",
    "        win = 0\n",
    "        lose = 0\n",
    "        \n",
    "        while not game_over:\n",
    "            if epsilon_greedy: # Are we using sticky actions (i.e. random action with probability ϵ)?\n",
    "                action = agent.act(state, train=True)\n",
    "            else: # Else, no sticky action. This is helpful to enhance the expert DQN\n",
    "                action = agent.act(state, train=False)\n",
    "            prev_state = state\n",
    "            state, reward, game_over = env.act(action)\n",
    "            if reward > 0:\n",
    "                win += reward\n",
    "            if reward < 0:\n",
    "                lose -= reward\n",
    "        \n",
    "        # Save as a mp4\n",
    "        env.draw(prefix+str(e + 1))\n",
    "\n",
    "        # Update stats\n",
    "        score = score + win-lose\n",
    "\n",
    "        print(\"Win/lose count {}/{}. Average score ({})\"\n",
    "              .format(win, lose, score/(1+e)))\n",
    "    print('Final score: '+str(score/epochs))"
   ]
  },
  {
   "cell_type": "code",
   "execution_count": 8,
   "metadata": {},
   "outputs": [
    {
     "name": "stdout",
     "output_type": "stream",
     "text": [
      "Win/lose count 10.5/10.0. Average score (0.5)\n",
      "Win/lose count 8.5/16.0. Average score (-3.5)\n",
      "Win/lose count 17.0/16.0. Average score (-2.0)\n",
      "Win/lose count 5.5/5.0. Average score (-1.375)\n",
      "Win/lose count 12.5/25.0. Average score (-3.6)\n",
      "Win/lose count 9.0/16.0. Average score (-4.166666666666667)\n",
      "Win/lose count 8.5/17.0. Average score (-4.785714285714286)\n",
      "Win/lose count 9.5/13.0. Average score (-4.625)\n",
      "Win/lose count 9.0/14.0. Average score (-4.666666666666667)\n",
      "Win/lose count 9.0/14.0. Average score (-4.7)\n",
      "Win/lose count 13.5/18.0. Average score (-4.681818181818182)\n",
      "Win/lose count 11.0/15.0. Average score (-4.625)\n",
      "Win/lose count 10.5/13.0. Average score (-4.461538461538462)\n",
      "Win/lose count 8.5/13.0. Average score (-4.464285714285714)\n",
      "Win/lose count 11.0/15.0. Average score (-4.433333333333334)\n",
      "Win/lose count 9.5/12.0. Average score (-4.3125)\n",
      "Win/lose count 9.5/10.0. Average score (-4.088235294117647)\n",
      "Win/lose count 9.0/15.0. Average score (-4.194444444444445)\n",
      "Win/lose count 10.0/14.0. Average score (-4.184210526315789)\n",
      "Win/lose count 9.0/4.0. Average score (-3.725)\n",
      "Final score: -3.725\n"
     ]
    },
    {
     "data": {
      "text/html": [
       "<video alt=\"test\" controls>\n",
       "                <source src=\"data:video/mp4;base64,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\" type=\"video/mp4\" />\n",
       "             </video>"
      ],
      "text/plain": [
       "<IPython.core.display.HTML object>"
      ]
     },
     "execution_count": 8,
     "metadata": {},
     "output_type": "execute_result"
    }
   ],
   "source": [
    "# Initialize the game\n",
    "env = Environment(grid_size=size, max_time=T,temperature=temperature)\n",
    "\n",
    "# Initialize the agent!\n",
    "agent = RandomAgent()\n",
    "\n",
    "test(agent,env,epochs_test,prefix='random')\n",
    "HTML(display_videos('random1.mp4'))\n",
    "\n",
    "########################################################\n",
    "### Note: ``mp4`` videos cannot be played on Firefox ###\n",
    "########################################################"
   ]
  },
  {
   "cell_type": "markdown",
   "metadata": {},
   "source": [
    "***\n",
    "## DQN"
   ]
  },
  {
   "cell_type": "markdown",
   "metadata": {},
   "source": [
    "Let us assume here that $T=\\infty$.\n",
    "\n",
    "***\n",
    "__Question 5__ Let $\\pi$ be a policy, show that:\n",
    "\n",
    "\\begin{equation*}\n",
    "Q^{\\pi}(s,a)=E_{(s',a')\\sim p(.|s,a)}[r(s,a)+\\gamma Q^{\\pi}(s',a')]\n",
    "\\end{equation*}\n",
    "\n",
    "Then, show that for the optimal policy $\\pi^*$ (we assume its existence), the following holds: \n",
    "\n",
    "\\begin{equation*}\n",
    "Q^{*}(s,a)=E_{s'\\sim \\pi^*(.|s,a)}[r(s,a)+\\gamma\\max_{a'}Q^{*}(s',a')].\n",
    "\\end{equation*}\n",
    "Finally, deduce that a plausible objective is:\n",
    "\n",
    "\\begin{equation*}\n",
    "\\mathcal{L}(\\theta)=E_{s' \\sim \\pi^*(.|s,a)}\\Vert r+\\gamma\\max\\max_{a'}Q(s',a',\\theta)-Q(s,a,\\theta)\\Vert^{2}.\n",
    "\\end{equation*}\n",
    "\n",
    "\n"
   ]
  },
  {
   "cell_type": "markdown",
   "metadata": {},
   "source": [
    "**Answer:**\n",
    "\n",
    "\n",
    "1.\n",
    "First, let us rewrite $Q^{\\pi}(s, a)$ now that $T = \\infty$:\n",
    "\n",
    "$$Q^{\\pi}(s,a) = E_{p^{\\pi}}[\\sum_{t=0}^{\\infty} \\gamma^t r(s_t, a_t) | s_0 = s, a_0 = a]$$\n",
    "\n",
    "We can now write:\n",
    "\n",
    "\\begin{align}\n",
    "Q^{\\pi}(s,a) & =  E_{p^{\\pi}}[\\gamma^0 r(s_0, a_0) + \\sum_{t=1}^{\\infty} \\gamma^t r(s_t, a_t) | s_0 = s, a_0 = a] \\\\\n",
    "  & = r(s, a) + \\gamma \\sum_{s', a'} p(s', a' | s, a) E_{p^{\\pi}}[\\sum_{t=1}^{\\infty} \\gamma^{t-1} r(s_t, a_t) | s_1 = s', a_1 = a'] \\\\\n",
    "  & = r(s, a) + \\gamma E_{(s', a') \\sim p(. |s,a)}[Q^{\\pi}(s', a')] \\\\\n",
    "\\end{align}\n",
    "\n",
    "Hence:\n",
    "\n",
    "$$\\boxed{Q^{\\pi}(s,a) = E_{(s', a') \\sim p(. |s,a)}[r(s, a) + \\gamma Q^{\\pi}(s', a')]}$$\n",
    "\n",
    "\n",
    "2.\n",
    "By definition of $Q^*(s,a) = \\max_{\\pi}Q^{\\pi}(s,a)$, we get:\n",
    "\n",
    "\\begin{align}\n",
    "Q^*(s,a) & =  \\max_{\\pi}Q^{\\pi}(s,a) \\\\\n",
    "  & = \\max_{\\pi} E_{(s', a') \\sim p(. |s,a)}[r(s, a) + \\gamma Q^{\\pi}(s', a')] \\\\\n",
    "  & =  \\max_{\\pi} \\sum_{(s', a')} [r(s,a) + \\gamma Q^{\\pi}(s', a')] p(s',a'|s,a)\\\\\n",
    "  & = \\sum_{s'} [r(s, a) + \\gamma \\max_{a'} Q^*(s', a')] \\pi^*(s' |s, a) \\\\\n",
    "\\end{align}\n",
    "\n",
    "Hence we obtain Bellman's optimality equation:\n",
    "\n",
    "$$\\boxed{Q^*(s,a) = E_{s' \\sim \\pi^*(.|s,a)}[r(s,a) + \\gamma \\max_{a'}Q^*(s',a')]}$$\n",
    "\n",
    "3.\n",
    "At this point we can turn this equation into an update. Until the optimal policy $\\pi^*$ is reached, there will always be a difference between $y_t = r(s, a) + \\gamma \\max_{a'} Q(s', a', \\theta)$ and $Q(s, a, \\theta)$ where $s' \\sim \\pi^t(. | s, a)$ and $\\pi^t$ is the current policy. Therefore we can derive a plausible objective:\n",
    "\n",
    "$$\\boxed{\\mathcal{L}(\\theta) = E_{s' \\sim \\pi(. | s, a)} \\big[||r(s, a) + \\gamma \\max_{a'} Q(s', a', \\theta) - Q(s, a, \\theta)||^2\\big]}$$"
   ]
  },
  {
   "cell_type": "markdown",
   "metadata": {},
   "source": [
    "***\n",
    "The DQN-learning algorithm relies on these derivations to train the parameters $\\theta$ of a Deep Neural Network:\n",
    "\n",
    "1. At the state $s_t$, select the action $a_t$ with best reward using $Q_t$ and store the results;\n",
    "\n",
    "2. Obtain the new state $s_{t+1}$ from the environment $p$;\n",
    "\n",
    "3. Store $(s_t,a_t,s_{t+1})$;\n",
    "\n",
    "4. Obtain $Q_{t+1}$ by minimizing  $\\mathcal{L}$ from a recovered batch from the previously stored results.\n",
    "\n",
    "***\n",
    "__Question 6__ Implement the class ```Memory``` that stores moves (in a replay buffer) via ```remember``` and provides a ```random_access``` to these. Specify a maximum memory size to avoid side effects. You can for example use a ```list()``` and set by default ```max_memory=100```."
   ]
  },
  {
   "cell_type": "code",
   "execution_count": 9,
   "metadata": {
    "collapsed": true
   },
   "outputs": [],
   "source": [
    "class Memory(object):\n",
    "    def __init__(self, max_memory=100):\n",
    "        self.max_memory = max_memory\n",
    "        self.memory = list()\n",
    "\n",
    "    def remember(self, m):\n",
    "        memory_size = len(self.memory)\n",
    "        if memory_size == self.max_memory:\n",
    "            self.memory.pop(0) # Remove first element\n",
    "        self.memory.append(m)\n",
    "        \n",
    "\n",
    "    def random_access(self):\n",
    "        # Randomly select an index in the memory buffer\n",
    "        ix = np.random.randint(0, len(self.memory))\n",
    "        # Select the move\n",
    "        m = self.memory[ix]\n",
    "        return m"
   ]
  },
  {
   "cell_type": "markdown",
   "metadata": {},
   "source": [
    "***\n",
    "The pipeline we will use for training is given below:"
   ]
  },
  {
   "cell_type": "code",
   "execution_count": 10,
   "metadata": {
    "collapsed": true
   },
   "outputs": [],
   "source": [
    "def train(agent,env,epoch,prefix=''):\n",
    "    # Number of won games\n",
    "    score = 0\n",
    "    loss = 0\n",
    "\n",
    "    for e in range(epoch):\n",
    "        # At each epoch, we restart to a fresh game and get the initial state\n",
    "        state = env.reset()\n",
    "        # This assumes that the games will terminate\n",
    "        game_over = False\n",
    "\n",
    "        win = 0\n",
    "        lose = 0\n",
    "\n",
    "        while not game_over:\n",
    "            # The agent performs an action\n",
    "            action = agent.act(state)\n",
    "\n",
    "            # Apply an action to the environment, get the next state, the reward\n",
    "            # and if the games end\n",
    "            prev_state = state\n",
    "            state, reward, game_over = env.act(action)\n",
    "\n",
    "            # Update the counters\n",
    "            if reward > 0:\n",
    "                win = win + reward\n",
    "            if reward < 0:\n",
    "                lose = lose -reward\n",
    "\n",
    "            # Apply the reinforcement strategy\n",
    "            loss = agent.reinforce(prev_state, state,  action, reward, game_over)\n",
    "\n",
    "        # Save as a mp4\n",
    "        if (e + 1) % 10 == 0:\n",
    "            env.draw(prefix+str(e + 1))\n",
    "\n",
    "        # Update stats\n",
    "        score += win-lose\n",
    "\n",
    "        print(\"Epoch {:03d}/{:03d} | Loss {:.4f} | Win/lose count {}/{} ({})\"\n",
    "              .format(e + 1, epoch, loss, win, lose, win-lose))\n",
    "        agent.save(name_weights=prefix+'model.h5',name_model=prefix+'model.json')"
   ]
  },
  {
   "cell_type": "markdown",
   "metadata": {},
   "source": [
    "***\n",
    "__Question 7__ Implement the DQN training algorithm using a cascade of fully connected layers. You can use different learning rate, batch size or memory size parameters. In particular, the loss might oscillate while the player will start to win the games. You have to find a good criterium."
   ]
  },
  {
   "cell_type": "code",
   "execution_count": 16,
   "metadata": {
    "collapsed": true
   },
   "outputs": [],
   "source": [
    "class DQN(Agent):\n",
    "    def __init__(self, grid_size,  epsilon = 0.1, memory_size=100, batch_size = 16,n_state=2):\n",
    "        super(DQN, self).__init__(epsilon = epsilon)\n",
    "\n",
    "        # Discount for Q learning\n",
    "        self.discount = 0.99\n",
    "        \n",
    "        self.grid_size = grid_size\n",
    "        \n",
    "        # number of state\n",
    "        self.n_state = n_state\n",
    "\n",
    "        # Memory\n",
    "        self.memory = Memory(memory_size)\n",
    "        \n",
    "        # Batch size when learning\n",
    "        self.batch_size = batch_size\n",
    "\n",
    "    def learned_act(self, s):\n",
    "        # Get the model output\n",
    "        out = self.model.predict(s.reshape(1, 5, 5, self.n_state))\n",
    "        # Return the action that maximizes the output\n",
    "        return np.argmax(out)\n",
    "\n",
    "    def reinforce(self, s_, n_s_, a_, r_, game_over_):\n",
    "        # Two steps: first memorize the states, second learn from the pool\n",
    "\n",
    "        self.memory.remember([s_, n_s_, a_, r_, game_over_])\n",
    "        \n",
    "        input_states = np.zeros((self.batch_size, 5,5,self.n_state))\n",
    "        target_q = np.zeros((self.batch_size, 4))\n",
    "        \n",
    "        for i in range(self.batch_size):\n",
    "            ######## FILL IN\n",
    "            # Randomly access the memory\n",
    "            state, next_state, action, reward, game_over = self.memory.random_access()\n",
    "            input_states[i] = state\n",
    "            # Get the current model prediction on the current state \n",
    "            target_q[i] = self.model.predict(state.reshape(1, 5, 5, self.n_state))\n",
    "            # Given the action taken, update the target with the next state prediction when the game is on\n",
    "            if game_over:\n",
    "                ######## FILL IN\n",
    "                target_q[i, action] = reward\n",
    "            else:\n",
    "                ######## FILL IN\n",
    "                target_q[i, action] = reward + self.discount * np.max(self.model.predict(next_state.reshape(1, 5, 5, self.n_state)))\n",
    "        ######## FILL IN\n",
    "        # HINT: Clip the target to avoid exploiding gradients.. -- clipping is a bit tighter\n",
    "        target_q = np.clip(target_q, -3, 3)\n",
    "\n",
    "        # Train the model on the moves batch\n",
    "        l = self.model.train_on_batch(input_states, target_q)\n",
    "\n",
    "        return l\n",
    "\n",
    "    def save(self,name_weights='model.h5',name_model='model.json'):\n",
    "        self.model.save_weights(name_weights, overwrite=True)\n",
    "        with open(name_model, \"w\") as outfile:\n",
    "            json.dump(self.model.to_json(), outfile)\n",
    "            \n",
    "    def load(self,name_weights='model.h5',name_model='model.json'):\n",
    "        with open(name_model, \"r\") as jfile:\n",
    "            model = model_from_json(json.load(jfile))\n",
    "        model.load_weights(name_weights)\n",
    "        #model.compile(\"sgd\", \"mse\")\n",
    "        model.compile(\"adam\", \"mse\")\n",
    "        self.model = model\n",
    "\n",
    "            \n",
    "class DQN_FC(DQN):\n",
    "    def __init__(self, *args, lr=0.1,**kwargs):\n",
    "        super(DQN_FC, self).__init__( *args,**kwargs)\n",
    "        \n",
    "        # NN Model\n",
    "        \n",
    "        ####### FILL IN\n",
    "        model = Sequential()\n",
    "        model.add(Flatten(input_shape=(5, 5, self.n_state,)))\n",
    "        model.add(Dense(30, activation=\"linear\")) # linear activations work better than ReLU\n",
    "        model.add(Dense(10, activation=\"linear\"))\n",
    "        model.add(Dense(4))\n",
    "        \n",
    "        #model.compile(sgd(lr=lr, decay=1e-4, momentum=0.0), \"mse\")\n",
    "        model.compile(\"adam\", \"mse\") # Use default ADAM instead\n",
    "        self.model = model\n",
    "        print(self.model.summary())\n",
    "        "
   ]
  },
  {
   "cell_type": "code",
   "execution_count": 17,
   "metadata": {
    "collapsed": true
   },
   "outputs": [
    {
     "name": "stdout",
     "output_type": "stream",
     "text": [
      "_________________________________________________________________\n",
      "Layer (type)                 Output Shape              Param #   \n",
      "=================================================================\n",
      "flatten_5 (Flatten)          (None, 50)                0         \n",
      "_________________________________________________________________\n",
      "dense_11 (Dense)             (None, 30)                1530      \n",
      "_________________________________________________________________\n",
      "dense_12 (Dense)             (None, 10)                310       \n",
      "_________________________________________________________________\n",
      "dense_13 (Dense)             (None, 4)                 44        \n",
      "=================================================================\n",
      "Total params: 1,884\n",
      "Trainable params: 1,884\n",
      "Non-trainable params: 0\n",
      "_________________________________________________________________\n",
      "None\n",
      "Epoch 001/030 | Loss 0.0203 | Win/lose count 2.5/2.0 (0.5)\n",
      "Epoch 002/030 | Loss 0.0050 | Win/lose count 1.5/4.0 (-2.5)\n",
      "Epoch 003/030 | Loss 0.0650 | Win/lose count 9.5/3.0 (6.5)\n",
      "Epoch 004/030 | Loss 0.0107 | Win/lose count 4.0/2.0 (2.0)\n",
      "Epoch 005/030 | Loss 0.0067 | Win/lose count 4.0/5.0 (-1.0)\n",
      "Epoch 006/030 | Loss 0.1185 | Win/lose count 8.0/5.0 (3.0)\n",
      "Epoch 007/030 | Loss 0.0091 | Win/lose count 11.0/6.0 (5.0)\n",
      "Epoch 008/030 | Loss 0.0028 | Win/lose count 4.5/4.0 (0.5)\n",
      "Epoch 009/030 | Loss 0.0019 | Win/lose count 6.0/4.0 (2.0)\n",
      "Epoch 010/030 | Loss 0.0062 | Win/lose count 5.5/3.0 (2.5)\n",
      "Epoch 011/030 | Loss 0.0044 | Win/lose count 14.0/2.0 (12.0)\n",
      "Epoch 012/030 | Loss 0.0080 | Win/lose count 11.5/3.0 (8.5)\n",
      "Epoch 013/030 | Loss 0.0042 | Win/lose count 12.5/4.0 (8.5)\n",
      "Epoch 014/030 | Loss 0.0027 | Win/lose count 17.5/6.0 (11.5)\n",
      "Epoch 015/030 | Loss 0.0731 | Win/lose count 8.5/6.0 (2.5)\n",
      "Epoch 016/030 | Loss 0.0076 | Win/lose count 12.0/5.0 (7.0)\n",
      "Epoch 017/030 | Loss 0.0027 | Win/lose count 8.0/1.0 (7.0)\n",
      "Epoch 018/030 | Loss 0.1651 | Win/lose count 3.0/1.0 (2.0)\n",
      "Epoch 019/030 | Loss 0.0030 | Win/lose count 11.0/1.0 (10.0)\n",
      "Epoch 020/030 | Loss 0.0023 | Win/lose count 16.5/3.0 (13.5)\n",
      "Epoch 021/030 | Loss 0.0079 | Win/lose count 8.5/5.0 (3.5)\n",
      "Epoch 022/030 | Loss 0.0015 | Win/lose count 6.0/2.0 (4.0)\n",
      "Epoch 023/030 | Loss 0.0027 | Win/lose count 8.5/4.0 (4.5)\n",
      "Epoch 024/030 | Loss 0.0022 | Win/lose count 11.0/4.0 (7.0)\n",
      "Epoch 025/030 | Loss 0.0056 | Win/lose count 16.0/8.0 (8.0)\n",
      "Epoch 026/030 | Loss 0.0036 | Win/lose count 11.0/6.0 (5.0)\n",
      "Epoch 027/030 | Loss 0.0041 | Win/lose count 15.0/3.0 (12.0)\n",
      "Epoch 028/030 | Loss 0.0013 | Win/lose count 9.5/6.0 (3.5)\n",
      "Epoch 029/030 | Loss 0.0036 | Win/lose count 8.0/4.0 (4.0)\n",
      "Epoch 030/030 | Loss 0.0030 | Win/lose count 8.0/5.0 (3.0)\n"
     ]
    },
    {
     "data": {
      "text/html": [
       "<video alt=\"test\" controls>\n",
       "                <source src=\"data:video/mp4;base64,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\" type=\"video/mp4\" />\n",
       "             </video>"
      ],
      "text/plain": [
       "<IPython.core.display.HTML object>"
      ]
     },
     "execution_count": 17,
     "metadata": {},
     "output_type": "execute_result"
    }
   ],
   "source": [
    "env = Environment(grid_size=size, max_time=T, temperature=0.3)\n",
    "agent = DQN_FC(size, epsilon = 0.2, memory_size=2000, batch_size = 32) # default learning rate lr=0.001\n",
    "train(agent, env, epochs_train, prefix='fc_train')\n",
    "HTML(display_videos('fc_train30.mp4'))"
   ]
  },
  {
   "cell_type": "markdown",
   "metadata": {},
   "source": [
    "***\n",
    "***\n",
    "__Question 8__ Implement the DQN training algorithm using a CNN (for example, 2 convolutional layers and one final fully connected layer)."
   ]
  },
  {
   "cell_type": "code",
   "execution_count": 18,
   "metadata": {
    "collapsed": true
   },
   "outputs": [],
   "source": [
    "class DQN_CNN(DQN):\n",
    "    def __init__(self, *args,lr=0.1,**kwargs):\n",
    "        super(DQN_CNN, self).__init__(*args,**kwargs)\n",
    "        \n",
    "        ###### FILL IN\n",
    "        model = Sequential()\n",
    "        # Note: plain linear activation were found to work better in practice\n",
    "        model.add(Conv2D(16, kernel_size=3, input_shape=(5, 5, self.n_state,), activation=\"linear\"))\n",
    "        model.add(Conv2D(8, kernel_size=3, activation=\"linear\"))\n",
    "        model.add(Flatten())\n",
    "        model.add(Dense(4))\n",
    "        \n",
    "        #model.compile(sgd(lr=lr, decay=1e-4, momentum=0.0), \"mse\")\n",
    "        model.compile(\"adam\", \"mse\")\n",
    "        self.model = model\n",
    "        print(self.model.summary())"
   ]
  },
  {
   "cell_type": "code",
   "execution_count": 14,
   "metadata": {
    "collapsed": true
   },
   "outputs": [
    {
     "name": "stdout",
     "output_type": "stream",
     "text": [
      "_________________________________________________________________\n",
      "Layer (type)                 Output Shape              Param #   \n",
      "=================================================================\n",
      "conv2d_1 (Conv2D)            (None, 3, 3, 16)          304       \n",
      "_________________________________________________________________\n",
      "conv2d_2 (Conv2D)            (None, 1, 1, 8)           1160      \n",
      "_________________________________________________________________\n",
      "flatten_2 (Flatten)          (None, 8)                 0         \n",
      "_________________________________________________________________\n",
      "dense_5 (Dense)              (None, 4)                 36        \n",
      "=================================================================\n",
      "Total params: 1,500\n",
      "Trainable params: 1,500\n",
      "Non-trainable params: 0\n",
      "_________________________________________________________________\n",
      "None\n",
      "Epoch 001/030 | Loss 0.0061 | Win/lose count 9.0/7.0 (2.0)\n",
      "Epoch 002/030 | Loss 0.0036 | Win/lose count 9.0/2.0 (7.0)\n",
      "Epoch 003/030 | Loss 0.0038 | Win/lose count 8.5/7.0 (1.5)\n",
      "Epoch 004/030 | Loss 0.0073 | Win/lose count 5.5/2.0 (3.5)\n",
      "Epoch 005/030 | Loss 0.0031 | Win/lose count 4.0/1.0 (3.0)\n",
      "Epoch 006/030 | Loss 0.0026 | Win/lose count 10.5/2.0 (8.5)\n",
      "Epoch 007/030 | Loss 0.0732 | Win/lose count 15.5/4.0 (11.5)\n",
      "Epoch 008/030 | Loss 0.0029 | Win/lose count 12.5/2.0 (10.5)\n",
      "Epoch 009/030 | Loss 0.0606 | Win/lose count 9.5/8.0 (1.5)\n",
      "Epoch 010/030 | Loss 0.0034 | Win/lose count 12.5/5.0 (7.5)\n",
      "Epoch 011/030 | Loss 0.0036 | Win/lose count 6.5/4.0 (2.5)\n",
      "Epoch 012/030 | Loss 0.0319 | Win/lose count 9.0/4.0 (5.0)\n",
      "Epoch 013/030 | Loss 0.0028 | Win/lose count 9.0/5.0 (4.0)\n",
      "Epoch 014/030 | Loss 0.0064 | Win/lose count 9.5/2.0 (7.5)\n",
      "Epoch 015/030 | Loss 0.0037 | Win/lose count 8.5/5.0 (3.5)\n",
      "Epoch 016/030 | Loss 0.0028 | Win/lose count 7.5/4.0 (3.5)\n",
      "Epoch 017/030 | Loss 0.0022 | Win/lose count 10.5/4.0 (6.5)\n",
      "Epoch 018/030 | Loss 0.0056 | Win/lose count 16.0/5.0 (11.0)\n",
      "Epoch 019/030 | Loss 0.0065 | Win/lose count 11.0/4.0 (7.0)\n",
      "Epoch 020/030 | Loss 0.0027 | Win/lose count 11.5/3.0 (8.5)\n",
      "Epoch 021/030 | Loss 0.0082 | Win/lose count 8.0/0 (8.0)\n",
      "Epoch 022/030 | Loss 0.0008 | Win/lose count 14.0/3.0 (11.0)\n",
      "Epoch 023/030 | Loss 0.0024 | Win/lose count 14.0/3.0 (11.0)\n",
      "Epoch 024/030 | Loss 0.0038 | Win/lose count 12.0/6.0 (6.0)\n",
      "Epoch 025/030 | Loss 0.0537 | Win/lose count 9.5/6.0 (3.5)\n",
      "Epoch 026/030 | Loss 0.0557 | Win/lose count 11.0/1.0 (10.0)\n",
      "Epoch 027/030 | Loss 0.0030 | Win/lose count 5.0/4.0 (1.0)\n",
      "Epoch 028/030 | Loss 0.0029 | Win/lose count 10.0/2.0 (8.0)\n",
      "Epoch 029/030 | Loss 0.0055 | Win/lose count 15.5/3.0 (12.5)\n",
      "Epoch 030/030 | Loss 0.0026 | Win/lose count 11.5/0 (11.5)\n"
     ]
    },
    {
     "data": {
      "text/html": [
       "<video alt=\"test\" controls>\n",
       "                <source src=\"data:video/mp4;base64,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\" type=\"video/mp4\" />\n",
       "             </video>"
      ],
      "text/plain": [
       "<IPython.core.display.HTML object>"
      ]
     },
     "execution_count": 14,
     "metadata": {},
     "output_type": "execute_result"
    }
   ],
   "source": [
    "env = Environment(grid_size=size, max_time=T, temperature=0.3)\n",
    "agent = DQN_CNN(size, epsilon = 0.2, memory_size=2000, batch_size = 32) # default learning rate lr=0.001\n",
    "train(agent,env,epochs_train,prefix='cnn_train')\n",
    "HTML(display_videos('cnn_train30.mp4'))"
   ]
  },
  {
   "cell_type": "markdown",
   "metadata": {},
   "source": [
    "***\n",
    "***\n",
    "__Question 9__ Test both algorithms and compare their performances. Which issue(s) do you observe? Observe also different behaviors by changing the temperature."
   ]
  },
  {
   "cell_type": "code",
   "execution_count": 19,
   "metadata": {
    "collapsed": true
   },
   "outputs": [
    {
     "name": "stdout",
     "output_type": "stream",
     "text": [
      "_________________________________________________________________\n",
      "Layer (type)                 Output Shape              Param #   \n",
      "=================================================================\n",
      "conv2d_5 (Conv2D)            (None, 3, 3, 16)          304       \n",
      "_________________________________________________________________\n",
      "conv2d_6 (Conv2D)            (None, 1, 1, 8)           1160      \n",
      "_________________________________________________________________\n",
      "flatten_6 (Flatten)          (None, 8)                 0         \n",
      "_________________________________________________________________\n",
      "dense_14 (Dense)             (None, 4)                 36        \n",
      "=================================================================\n",
      "Total params: 1,500\n",
      "Trainable params: 1,500\n",
      "Non-trainable params: 0\n",
      "_________________________________________________________________\n",
      "None\n",
      "_________________________________________________________________\n",
      "Layer (type)                 Output Shape              Param #   \n",
      "=================================================================\n",
      "flatten_7 (Flatten)          (None, 50)                0         \n",
      "_________________________________________________________________\n",
      "dense_15 (Dense)             (None, 30)                1530      \n",
      "_________________________________________________________________\n",
      "dense_16 (Dense)             (None, 10)                310       \n",
      "_________________________________________________________________\n",
      "dense_17 (Dense)             (None, 4)                 44        \n",
      "=================================================================\n",
      "Total params: 1,884\n",
      "Trainable params: 1,884\n",
      "Non-trainable params: 0\n",
      "_________________________________________________________________\n",
      "None\n",
      "Test of the CNN\n",
      "Win/lose count 9.0/2.0. Average score (7.0)\n",
      "Win/lose count 20.0/2.0. Average score (12.5)\n",
      "Win/lose count 10.5/0. Average score (11.833333333333334)\n",
      "Win/lose count 11.0/5.0. Average score (10.375)\n",
      "Win/lose count 13.5/2.0. Average score (10.6)\n",
      "Win/lose count 5.0/2.0. Average score (9.333333333333334)\n",
      "Win/lose count 6.5/1.0. Average score (8.785714285714286)\n",
      "Win/lose count 3.0/0. Average score (8.0625)\n",
      "Win/lose count 26.0/0. Average score (10.055555555555555)\n",
      "Win/lose count 7.5/2.0. Average score (9.6)\n",
      "Win/lose count 19.5/3.0. Average score (10.227272727272727)\n",
      "Win/lose count 17.0/7.0. Average score (10.208333333333334)\n",
      "Win/lose count 13.0/3.0. Average score (10.192307692307692)\n",
      "Win/lose count 13.5/6.0. Average score (10.0)\n",
      "Win/lose count 8.5/1.0. Average score (9.833333333333334)\n",
      "Win/lose count 19.5/1.0. Average score (10.375)\n",
      "Win/lose count 13.0/0. Average score (10.529411764705882)\n",
      "Win/lose count 22.5/2.0. Average score (11.083333333333334)\n",
      "Win/lose count 4.5/0. Average score (10.736842105263158)\n",
      "Win/lose count 9.5/3.0. Average score (10.525)\n",
      "Final score: 10.525\n",
      "Test of the FC\n",
      "Win/lose count 4.0/4.0. Average score (0.0)\n",
      "Win/lose count 3.0/10.0. Average score (-3.5)\n",
      "Win/lose count 3.5/2.0. Average score (-1.8333333333333333)\n",
      "Win/lose count 7.5/8.0. Average score (-1.5)\n",
      "Win/lose count 4.5/8.0. Average score (-1.9)\n",
      "Win/lose count 4.5/2.0. Average score (-1.1666666666666667)\n",
      "Win/lose count 5.0/10.0. Average score (-1.7142857142857142)\n",
      "Win/lose count 4.0/6.0. Average score (-1.75)\n",
      "Win/lose count 4.5/9.0. Average score (-2.0555555555555554)\n",
      "Win/lose count 4.0/2.0. Average score (-1.65)\n",
      "Win/lose count 6.5/2.0. Average score (-1.0909090909090908)\n",
      "Win/lose count 1.5/1.0. Average score (-0.9583333333333334)\n",
      "Win/lose count 5.0/6.0. Average score (-0.9615384615384616)\n",
      "Win/lose count 6.5/3.0. Average score (-0.6428571428571429)\n",
      "Win/lose count 4.0/2.0. Average score (-0.4666666666666667)\n",
      "Win/lose count 6.5/4.0. Average score (-0.28125)\n",
      "Win/lose count 2.5/1.0. Average score (-0.17647058823529413)\n",
      "Win/lose count 6.0/6.0. Average score (-0.16666666666666666)\n",
      "Win/lose count 5.0/8.0. Average score (-0.3157894736842105)\n",
      "Win/lose count 3.0/1.0. Average score (-0.2)\n",
      "Final score: -0.2\n"
     ]
    }
   ],
   "source": [
    "env = Environment(grid_size=size, max_time=T, temperature=.45)\n",
    "agent_cnn = DQN_CNN(size, epsilon = 0.1, memory_size=2000, batch_size = 32)\n",
    "agent_cnn.load(name_weights='cnn_trainmodel.h5',name_model='cnn_trainmodel.json')\n",
    "\n",
    "agent_fc = DQN_FC(size, epsilon = 0.1, memory_size=2000, batch_size = 32)\n",
    "agent_cnn.load(name_weights='fc_trainmodel.h5',name_model='fc_trainmodel.json')\n",
    "print('Test of the CNN')\n",
    "test(agent_cnn,env,epochs_test,prefix='cnn_test')\n",
    "print('Test of the FC')\n",
    "test(agent_fc,env,epochs_test,prefix='fc_test')"
   ]
  },
  {
   "cell_type": "code",
   "execution_count": 20,
   "metadata": {
    "collapsed": true
   },
   "outputs": [
    {
     "data": {
      "text/html": [
       "<video alt=\"test\" controls>\n",
       "                <source src=\"data:video/mp4;base64,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\" type=\"video/mp4\" />\n",
       "             </video>"
      ],
      "text/plain": [
       "<IPython.core.display.HTML object>"
      ]
     },
     "execution_count": 20,
     "metadata": {},
     "output_type": "execute_result"
    }
   ],
   "source": [
    "HTML(display_videos('cnn_test20.mp4'))"
   ]
  },
  {
   "cell_type": "code",
   "execution_count": 21,
   "metadata": {
    "collapsed": true
   },
   "outputs": [
    {
     "data": {
      "text/html": [
       "<video alt=\"test\" controls>\n",
       "                <source src=\"data:video/mp4;base64,AAAAIGZ0eXBpc29tAAACAGlzb21pc28yYXZjMW1wNDEAAAAIZnJlZQAAFrRtZGF0AAACrQYF//+p3EXpvebZSLeWLNgg2SPu73gyNjQgLSBjb3JlIDE1MiByMjg1NCBlOWE1OTAzIC0gSC4yNjQvTVBFRy00IEFWQyBjb2RlYyAtIENvcHlsZWZ0IDIwMDMtMjAxNyAtIGh0dHA6Ly93d3cudmlkZW9sYW4ub3JnL3gyNjQuaHRtbCAtIG9wdGlvbnM6IGNhYmFjPTEgcmVmPTMgZGVibG9jaz0xOjA6MCBhbmFseXNlPTB4MToweDExMSBtZT1oZXggc3VibWU9NyBwc3k9MSBwc3lfcmQ9MS4wMDowLjAwIG1peGVkX3JlZj0xIG1lX3JhbmdlPTE2IGNocm9tYV9tZT0xIHRyZWxsaXM9MSA4eDhkY3Q9MCBjcW09MCBkZWFkem9uZT0yMSwxMSBmYXN0X3Bza2lwPTEgY2hyb21hX3FwX29mZnNldD00IHRocmVhZHM9NiBsb29rYWhlYWRfdGhyZWFkcz0xIHNsaWNlZF90aHJlYWRzPTAgbnI9MCBkZWNpbWF0ZT0xIGludGVybGFjZWQ9MCBibHVyYXlfY29tcGF0PTAgY29uc3RyYWluZWRfaW50cmE9MCBiZnJhbWVzPTMgYl9weXJhbWlkPTIgYl9hZGFwdD0xIGJfYmlhcz0wIGRpcmVjdD0xIHdlaWdodGI9MSBvcGVuX2dvcD0wIHdlaWdodHA9MiBrZXlpbnQ9MjUwIGtleWludF9taW49MjUgc2NlbmVjdXQ9NDAgaW50cmFfcmVmcmVzaD0wIHJjX2xvb2thaGVhZD00MCByYz1jcmYgbWJ0cmVlPTEgY3JmPTIzLjAgcWNvbXA9MC42MCBxcG1pbj0wIHFwbWF4PTY5IHFwc3RlcD00IGlwX3JhdGlvPTEuNDAgYXE9MToxLjAwAIAAAAMZZYiEADf//vaH+BTZWBP+Wb/9DX/cj9uPrP1xYyEE31qvIejAGS+1H+b/rFFs6Z6UB/fgCJQAc24ZwpIoZ/8CmWxwvgUK/HE+UwozlT/KDbJHQMPKO2F9ljZpjE9b3LkaE+WrR1523cF36d7Yh0cTDyaACH0Yl6eOXS8zq/VAKVthiUi3Ft42kBaJkmeN3Ijev1vNUuQc2ku9kR0arCQqox7ChrFNIuKXTvoZ0et3haWQy+IUXive4P72MGwSbWy9lqXEwTQrVBGj5cZJf6Q3jxXl+vpI7v2pOZmhWG51EtHQQfRuPLre6DfF6FFQpzLSlecBxddYpfNuVg4A3kZDTZghogQl8XcGfH9TeiGtlzp/KDdM6F72fMjVrJ3w3wPMMLXWaDFtz+D5IhAM+NJfl9Z/Y/qqGLrZjojp4OC8mpDQr2k1/AWeH9RqrhILnVk3wsW5pCJ+GRG7jcd68nB9oBDbyavpfuoyqabkCarqah9eSty2VH2bcWoyzDCsaZnLq/G9jiQpACEY789W/CZ5ckjJfJTISHgPeYOW576e99C4dknUlyqvdy9FOgFrOy3Id1K8UPL6kbmKm8OJKp+PpBYp2Cem4VGcBmyyz7MAvidzk4AZACl6a9aQUf25cZtnqOyYZUBKJndcSKs7QlvWh4Kvif5sDCoLCV14+WU8P1m2V2s7OsYc6g2y67arHVh+BwyetAKh56TJ/hFvrAkkuBvifKVjXnrXam3SsjfHI1Srf+A8CStNiAJed6B7BayDYekKTPDHF6BL0MOEHZnEwmubJqzgPanc0pAHmnMu52wFMFXPgUIUq4vIafkDCF5lKF4OeWnOKF6u/484Ztc+aKddWa8wH7aDu9agAA7r4SHizuSRik25BimSldzYKVmEpE1qMdfAPMNrDqLifAEU70nsKMjeOGWLGEAKmVLrnuAAdz3cDrWyJeV7iZ1y5yhvklD8SL5a1/nnFMIRSoaObMXVdhjkH52J6CjUJIzIfhvAfRK0rh3kSHasPBw+cvURiZwiHh3F7fCjr3xMEupPxhYM7QAAAwDggQAAABRBmiFsQ3/+p4QAR0z45wuNmCv3QAAAABhBmkI8IZMphDv//qmWADeVIMz7dJ6g1D8AAAASQZpmSeEPJlMCHf/+qZYAAJWAAAAADEGehEURPC//AACygQAAABABnqN0Qr8AiwgDoWMSZFJhAAAAEAGepWpCvwCK2td3kk+ypMEAAAATQZqqSahBaJlMCHf//qmWAACVgQAAAAxBnshFESwv/wAAsoAAAAAQAZ7ndEK/AIsIA6FjEmRSYAAAABABnulqQr8AitrXd5JPsqTBAAAAE0Ga7kmoQWyZTAh3//6plgAAlYAAAAAMQZ8MRRUsL/8AALKAAAAAEAGfK3RCvwCLCAOhYxJkUmEAAAAQAZ8takK/AIra13eST7KkwQAAABNBmzJJqEFsmUwId//+qZYAAJWBAAAADEGfUEUVLC//AACygAAAABABn290Qr8AiwgDoWMSZFJgAAAAEAGfcWpCvwCK2td3kk+ypMEAAAATQZt2SahBbJlMCHf//qmWAACVgAAAAAxBn5RFFSwv/wAAsoAAAAAQAZ+zdEK/AIsIA6FjEmRSYQAAABABn7VqQr8AitrXd5JPsqTAAAAAE0GbukmoQWyZTAh3//6plgAAlYEAAAAMQZ/YRRUsL/8AALKBAAAAEAGf93RCvwCLCAOhYxJkUmAAAAAQAZ/5akK/AIra13eST7KkwQAAABNBm/5JqEFsmUwId//+qZYAAJWAAAAADEGeHEUVLC//AACygQAAABABnjt0Qr8AiwgDoWMSZFJhAAAAEAGePWpCvwCK2td3kk+ypMAAAAATQZoiSahBbJlMCHf//qmWAACVgAAAAAxBnkBFFSwv/wAAsoEAAAAQAZ5/dEK/AIsIA6FjEmRSYAAAABABnmFqQr8AitrXd5JPsqTBAAAAF0GaZkmoQWyZTAhv//6nhABxvYP8u6mAAAAADkGehEUVLC//AENz8GgRAAAAEAGeo3RCvwCLCAOhYxJkUmEAAAAPAZ6lakK/AF0UaILUeXWzAAAAGkGaqUmoQWyZTAhv//6nhACsBUrNts+z5pBxAAAAD0Gex0UVLCv/AIrK4EmdwAAAAA0BnuhqQr8Aiwaw8UzuAAAAE0Ga60moQWyZTBRMN//+p4QAAScAAAAQAZ8KakK/AIksW7FaPt1zQAAAABJBmw1J4QpSZTBSw3/+p4QAAScAAAAQAZ8sakK/AIksW7FaPt1zQQAAABJBmy9J4Q6JlMFEw3/+p4QAAScAAAAQAZ9OakK/AIksW7FaPt1zQQAAABJBm1FJ4Q8mUwU8N//+p4QAAScAAAAQAZ9wakK/AIksW7FaPt1zQAAAABJBm3NJ4Q8mUwU8N//+p4QAAScAAAAQAZ+SakK/AIksW7FaPt1zQAAAABJBm5VJ4Q8mUwU8N//+p4QAAScAAAAQAZ+0akK/AIksW7FaPt1zQQAAABJBm7dJ4Q8mUwU8N//+p4QAAScAAAAQAZ/WakK/AIksW7FaPt1zQQAAABJBm9lJ4Q8mUwU8N//+p4QAAScAAAAQAZ/4akK/AIksW7FaPt1zQAAAABJBm/tJ4Q8mUwU8N//+p4QAAScAAAAQAZ4aakK/AIksW7FaPt1zQAAAABJBmh1J4Q8mUwU8N//+p4QAAScAAAAQAZ48akK/AIksW7FaPt1zQQAAABJBmj9J4Q8mUwU8N//+p4QAAScAAAAQAZ5eakK/AIksW7FaPt1zQAAAABJBmkFJ4Q8mUwU8N//+p4QAAScAAAAQAZ5gakK/AIksW7FaPt1zQAAAABJBmmNJ4Q8mUwU8N//+p4QAAScAAAAQAZ6CakK/AIksW7FaPt1zQAAAABJBmoVJ4Q8mUwU8N//+p4QAAScAAAAQAZ6kakK/AIksW7FaPt1zQQAAABJBmqdJ4Q8mUwU8N//+p4QAAScAAAAQAZ7GakK/AIksW7FaPt1zQQAAABJBmslJ4Q8mUwU8N//+p4QAAScAAAAQAZ7oakK/AIksW7FaPt1zQAAAABJBmutJ4Q8mUwU8N//+p4QAAScAAAAQAZ8KakK/AIksW7FaPt1zQAAAABJBmw1J4Q8mUwU8N//+p4QAAScAAAAQAZ8sakK/AIksW7FaPt1zQQAAABJBmy9J4Q8mUwU8N//+p4QAAScAAAAQAZ9OakK/AIksW7FaPt1zQQAAABJBm1FJ4Q8mUwU8N//+p4QAAScAAAAQAZ9wakK/AIksW7FaPt1zQAAAABJBm3NJ4Q8mUwU8N//+p4QAAScAAAAQAZ+SakK/AIksW7FaPt1zQAAAABJBm5VJ4Q8mUwU8N//+p4QAAScAAAAQAZ+0akK/AIksW7FaPt1zQQAAABJBm7dJ4Q8mUwU8N//+p4QAAScAAAAQAZ/WakK/AIksW7FaPt1zQQAAABlBm9hJ4Q8mUwId//6plgBXfkl9+yDcU/xxAAAAEkGb/EnhDyZTAh3//qmWAACVgAAAAAxBnhpFETwv/wAAsoEAAAAQAZ45dEK/AFnso78AH27aQAAAAA8BnjtqQr8AiwmA6FbP1JkAAAASQZogSahBaJlMCG///qeEAAEnAAAADEGeXkURLC//AACygAAAABABnn10Qr8AWeyjvwAfbtpAAAAADwGef2pCvwCLCYDoVs/UmQAAABpBmmNJqEFsmUwIb//+p4QArAVKzbbPs+aQcAAAAA9BnoFFFSwr/wCKyuBJncEAAAANAZ6iakK/AIsGsPFM7gAAABNBmqVJqEFsmUwUTDf//qeEAAEnAAAAEAGexGpCvwCJLFuxWj7dc0EAAAASQZrHSeEKUmUwUsN//qeEAAEnAAAAEAGe5mpCvwCJLFuxWj7dc0EAAAASQZrpSeEOiZTBRMN//qeEAAEnAAAAEAGfCGpCvwCJLFuxWj7dc0AAAAASQZsLSeEPJlMFPDf//qeEAAEnAAAAEAGfKmpCvwCJLFuxWj7dc0AAAAASQZstSeEPJlMFPDf//qeEAAEnAAAAEAGfTGpCvwCJLFuxWj7dc0EAAAASQZtPSeEPJlMFPDf//qeEAAEnAAAAEAGfbmpCvwCJLFuxWj7dc0EAAAASQZtxSeEPJlMFPDf//qeEAAEnAAAAEAGfkGpCvwCJLFuxWj7dc0AAAAASQZuTSeEPJlMFPDf//qeEAAEnAAAAEAGfsmpCvwCJLFuxWj7dc0AAAAASQZu1SeEPJlMFPDf//qeEAAEnAAAAEAGf1GpCvwCJLFuxWj7dc0EAAAASQZvXSeEPJlMFPDf//qeEAAEnAAAAEAGf9mpCvwCJLFuxWj7dc0EAAAASQZv5SeEPJlMFPDf//qeEAAEnAAAAEAGeGGpCvwCJLFuxWj7dc0AAAAAZQZoaSeEPJlMCHf/+qZYAV35Jffsg3FP8cQAAABFBmj5J4Q8mUwIb//6nhAABJwAAAAxBnlxFETwv/wAAsoEAAAAQAZ57dEK/AF0tHdHbfCr5gQAAAA8Bnn1qQr8AiwmA6FbP1JgAAAAaQZphSahBaJlMCG///qeEAKwFSs22z7PmkHAAAAAPQZ6fRREsK/8AisrgSZ3BAAAADQGeoGpCvwCLBrDxTO4AAAATQZqjSahBbJlMFEw3//6nhAABJwAAABABnsJqQr8AiSxbsVo+3XNAAAAAEkGaxUnhClJlMFLDf/6nhAABJwAAABABnuRqQr8AiSxbsVo+3XNBAAAAEkGa50nhDomUwUTDf/6nhAABJwAAABABnwZqQr8AiSxbsVo+3XNBAAAAGUGbCEnhDyZTAh3//qmWAFd+SX37INxT/HAAAAARQZssSeEPJlMCG//+p4QAAScAAAAMQZ9KRRE8L/8AALKBAAAAEAGfaXRCvwBZ7KO/AB9u2kAAAAAPAZ9rakK/AIsJgOhWz9SYAAAAGkGbb0moQWiZTAhv//6nhACsBUrNts+z5pBxAAAAD0GfjUURLCv/AIrK4EmdwQAAAA0Bn65qQr8Aiwaw8UzvAAAAE0GbsUmoQWyZTBRMN//+p4QAAScAAAAQAZ/QakK/AIksW7FaPt1zQAAAABlBm9JJ4QpSZTAh3/6plgBXfkl9+yDcU/xxAAAAEUGb9knhDomUwIb//qeEAAEnAAAADEGeFEURPC//AACygAAAABABnjN0Qr8AXS0d0dt8KvmBAAAADwGeNWpCvwCLCYDoVs/UmAAAABxBmjlJqEFomUwIb//+p4QArAVKzbbQGDZ/X/HBAAAAD0GeV0URLCv/AIrK4EmdwQAAAA0BnnhqQr8Aiwaw8UzuAAAAE0Gae0moQWyZTBRMN//+p4QAAScAAAAQAZ6aakK/AIksW7FaPt1zQAAAABJBmp1J4QpSZTBSw3/+p4QAAScAAAAQAZ68akK/AIksW7FaPt1zQQAAABNBmr9J4Q6JlMFEw7/+qZYAAJWAAAAAEAGe3mpCvwCJLFuxWj7dc0AAAAAZQZrCSeEPJlMCHf/+qZYAWTSyszyEpDSV3QAAABJBnuBFETwr/wCO7FewsF+Wx4AAAAAOAZ8BakK/AI7smPOCBj0AAAAmQZsGSahBaJlMCG///qeEAewwxqW4lc5llX/dcSi/O1lxS3gtsoAAAAAWQZ8kRREsL/8A/s87FenK5FfPrjSr4QAAAA8Bn0N0Qr8A4kYeUNAzUdMAAAAQAZ9FakK/AWNRomRNKzZdwQAAABpBm0lJqEFsmUwIb//+p4QB7HvWbPg/y508IQAAAA9Bn2dFFSwr/wFja3DWXcAAAAANAZ+IakK/AWPlIt6y7gAAABNBm4tJqEFsmUwUTDf//qeEAAEnAAAAEgGfqmpCvwFj4UIOny/lyHRxwAAAABJBm61J4QpSZTBSw3/+p4QAAScAAAASAZ/MakK/AWNSEiViuCxQFl3BAAAAEkGbz0nhDomUwUTDf/6nhAABJwAAABIBn+5qQr8BY1ISJWK4LFAWXcEAAAASQZvxSeEPJlMFPDf//qeEAAEnAAAAEgGeEGpCvwFjUhIlYrgsUBZdwAAAABJBmhNJ4Q8mUwU8N//+p4QAAScAAAASAZ4yakK/AWNSEiViuCxQFl3AAAAAEkGaNUnhDyZTBTw3//6nhAABJwAAABIBnlRqQr8BY1ISJWK4LFAWXcEAAAASQZpXSeEPJlMFPDf//qeEAAEnAAAAEgGedmpCvwFjUhIlYrgsUBZdwQAAABJBmnlJ4Q8mUwU8N//+p4QAAScAAAASAZ6YakK/AWNSEiViuCxQFl3AAAAAEkGam0nhDyZTBTw3//6nhAABJwAAABIBnrpqQr8BY1ISJWK4LFAWXcAAAAASQZq9SeEPJlMFPDf//qeEAAEnAAAAEgGe3GpCvwFjUhIlYrgsUBZdwQAAABJBmt9J4Q8mUwU8N//+p4QAAScAAAASAZ7+akK/AWNSEiViuCxQFl3AAAAAEkGa4UnhDyZTBTw3//6nhAABJwAAABIBnwBqQr8BY1ISJWK4LFAWXcAAAAAfQZsFSeEPJlMCGf/+nhAYq7Ywj7sR0/FY+Apn8kypgQAAABBBnyNFETwv/wGjnnYvH0p2AAAADwGfQnRCvwFjjCAyS5SDgQAAABABn0RqQr8CMgsa95cCgGVBAAAAGkGbSUuoQhBaJEYIKAfyAf2HgCFf/jhAABFxAAAAI0GfZ0URLC//AgHc6kvbMwq5gOgatahcCUAZaJPC3zKTNJwxAAAADwGfhnRCvwIy8m6QluQBGwAAACQBn4hqQr8Cr2PtQcUZh20MV9cnuOsnKpmaeTnk4yii+CycTMAAAAxAbW9vdgAAAGxtdmhkAAAAAAAAAAAAAAAAAAAD6AAAH5AAAQAAAQAAAAAAAAAAAAAAAAEAAAAAAAAAAAAAAAAAAAABAAAAAAAAAAAAAAAAAABAAAAAAAAAAAAAAAAAAAAAAAAAAAAAAAAAAAAAAAAAAgAAC2p0cmFrAAAAXHRraGQAAAADAAAAAAAAAAAAAAABAAAAAAAAH5AAAAAAAAAAAAAAAAAAAAAAAAEAAAAAAAAAAAAAAAAAAAABAAAAAAAAAAAAAAAAAABAAAAAARAAAAEQAAAAAAAkZWR0cwAAABxlbHN0AAAAAAAAAAEAAB+QAAAEAAABAAAAAAribWRpYQAAACBtZGhkAAAAAAAAAAAAAAAAAAAyAAABlABVxAAAAAAALWhkbHIAAAAAAAAAAHZpZGUAAAAAAAAAAAAAAABWaWRlb0hhbmRsZXIAAAAKjW1pbmYAAAAUdm1oZAAAAAEAAAAAAAAAAAAAACRkaW5mAAAAHGRyZWYAAAAAAAAAAQAAAAx1cmwgAAAAAQAACk1zdGJsAAAAlXN0c2QAAAAAAAAAAQAAAIVhdmMxAAAAAAAAAAEAAAAAAAAAAAAAAAAAAAAAARABEABIAAAASAAAAAAAAAABAAAAAAAAAAAAAAAAAAAAAAAAAAAAAAAAAAAAAAAAAAAAGP//AAAAL2F2Y0MB9AAN/+EAF2f0AA2RmygiEdCAAAADAIAAABkHihTLAQAFaOvjxEgAAAAYc3R0cwAAAAAAAAABAAAAygAAAgAAAAAUc3RzcwAAAAAAAAABAAAAAQAABhhjdHRzAAAAAAAAAMEAAAADAAAEAAAAAAEAAAoAAAAAAQAABAAAAAABAAAAAAAAAAEAAAIAAAAAAQAACgAAAAABAAAEAAAAAAEAAAAAAAAAAQAAAgAAAAABAAAKAAAAAAEAAAQAAAAAAQAAAAAAAAABAAACAAAAAAEAAAoAAAAAAQAABAAAAAABAAAAAAAAAAEAAAIAAAAAAQAACgAAAAABAAAEAAAAAAEAAAAAAAAAAQAAAgAAAAABAAAKAAAAAAEAAAQAAAAAAQAAAAAAAAABAAACAAAAAAEAAAoAAAAAAQAABAAAAAABAAAAAAAAAAEAAAIAAAAAAQAACgAAAAABAAAEAAAAAAEAAAAAAAAAAQAAAgAAAAABAAAKAAAAAAEAAAQAAAAAAQAAAAAAAAABAAACAAAAAAEAAAgAAAAAAgAAAgAAAAABAAAGAAAAAAEAAAIAAAAAAQAABgAAAAABAAACAAAAAAEAAAYAAAAAAQAAAgAAAAABAAAGAAAAAAEAAAIAAAAAAQAABgAAAAABAAACAAAAAAEAAAYAAAAAAQAAAgAAAAABAAAGAAAAAAEAAAIAAAAAAQAABgAAAAABAAACAAAAAAEAAAYAAAAAAQAAAgAAAAABAAAGAAAAAAEAAAIAAAAAAQAABgAAAAABAAACAAAAAAEAAAYAAAAAAQAAAgAAAAABAAAGAAAAAAEAAAIAAAAAAQAABgAAAAABAAACAAAAAAEAAAYAAAAAAQAAAgAAAAABAAAGAAAAAAEAAAIAAAAAAQAABgAAAAABAAACAAAAAAEAAAYAAAAAAQAAAgAAAAABAAAGAAAAAAEAAAIAAAAAAQAABgAAAAABAAACAAAAAAEAAAYAAAAAAQAAAgAAAAABAAAGAAAAAAEAAAIAAAAAAQAABgAAAAABAAACAAAAAAEAAAQAAAAAAQAACgAAAAABAAAEAAAAAAEAAAAAAAAAAQAAAgAAAAABAAAKAAAAAAEAAAQAAAAAAQAAAAAAAAABAAACAAAAAAEAAAgAAAAAAgAAAgAAAAABAAAGAAAAAAEAAAIAAAAAAQAABgAAAAABAAACAAAAAAEAAAYAAAAAAQAAAgAAAAABAAAGAAAAAAEAAAIAAAAAAQAABgAAAAABAAACAAAAAAEAAAYAAAAAAQAAAgAAAAABAAAGAAAAAAEAAAIAAAAAAQAABgAAAAABAAACAAAAAAEAAAYAAAAAAQAAAgAAAAABAAAGAAAAAAEAAAIAAAAAAQAABgAAAAABAAACAAAAAAEAAAQAAAAAAQAACgAAAAABAAAEAAAAAAEAAAAAAAAAAQAAAgAAAAABAAAIAAAAAAIAAAIAAAAAAQAABgAAAAABAAACAAAAAAEAAAYAAAAAAQAAAgAAAAABAAAGAAAAAAEAAAIAAAAAAQAABAAAAAABAAAKAAAAAAEAAAQAAAAAAQAAAAAAAAABAAACAAAAAAEAAAgAAAAAAgAAAgAAAAABAAAGAAAAAAEAAAIAAAAAAQAABAAAAAABAAAKAAAAAAEAAAQAAAAAAQAAAAAAAAABAAACAAAAAAEAAAgAAAAAAgAAAgAAAAABAAAGAAAAAAEAAAIAAAAAAQAABgAAAAABAAACAAAAAAEAAAYAAAAAAQAAAgAAAAABAAAIAAAAAAIAAAIAAAAAAQAACgAAAAABAAAEAAAAAAEAAAAAAAAAAQAAAgAAAAABAAAIAAAAAAIAAAIAAAAAAQAABgAAAAABAAACAAAAAAEAAAYAAAAAAQAAAgAAAAABAAAGAAAAAAEAAAIAAAAAAQAABgAAAAABAAACAAAAAAEAAAYAAAAAAQAAAgAAAAABAAAGAAAAAAEAAAIAAAAAAQAABgAAAAABAAACAAAAAAEAAAYAAAAAAQAAAgAAAAABAAAGAAAAAAEAAAIAAAAAAQAABgAAAAABAAACAAAAAAEAAAYAAAAAAQAAAgAAAAABAAAGAAAAAAEAAAIAAAAAAQAACgAAAAABAAAEAAAAAAEAAAAAAAAAAQAAAgAAAAABAAAKAAAAAAEAAAQAAAAAAQAAAAAAAAABAAACAAAAABxzdHNjAAAAAAAAAAEAAAABAAAAygAAAAEAAAM8c3RzegAAAAAAAAAAAAAAygAABc4AAAAYAAAAHAAAABYAAAAQAAAAFAAAABQAAAAXAAAAEAAAABQAAAAUAAAAFwAAABAAAAAUAAAAFAAAABcAAAAQAAAAFAAAABQAAAAXAAAAEAAAABQAAAAUAAAAFwAAABAAAAAUAAAAFAAAABcAAAAQAAAAFAAAABQAAAAXAAAAEAAAABQAAAAUAAAAGwAAABIAAAAUAAAAEwAAAB4AAAATAAAAEQAAABcAAAAUAAAAFgAAABQAAAAWAAAAFAAAABYAAAAUAAAAFgAAABQAAAAWAAAAFAAAABYAAAAUAAAAFgAAABQAAAAWAAAAFAAAABYAAAAUAAAAFgAAABQAAAAWAAAAFAAAABYAAAAUAAAAFgAAABQAAAAWAAAAFAAAABYAAAAUAAAAFgAAABQAAAAWAAAAFAAAABYAAAAUAAAAFgAAABQAAAAWAAAAFAAAABYAAAAUAAAAFgAAABQAAAAdAAAAFgAAABAAAAAUAAAAEwAAABYAAAAQAAAAFAAAABMAAAAeAAAAEwAAABEAAAAXAAAAFAAAABYAAAAUAAAAFgAAABQAAAAWAAAAFAAAABYAAAAUAAAAFgAAABQAAAAWAAAAFAAAABYAAAAUAAAAFgAAABQAAAAWAAAAFAAAABYAAAAUAAAAHQAAABUAAAAQAAAAFAAAABMAAAAeAAAAEwAAABEAAAAXAAAAFAAAABYAAAAUAAAAFgAAABQAAAAdAAAAFQAAABAAAAAUAAAAEwAAAB4AAAATAAAAEQAAABcAAAAUAAAAHQAAABUAAAAQAAAAFAAAABMAAAAgAAAAEwAAABEAAAAXAAAAFAAAABYAAAAUAAAAFwAAABQAAAAdAAAAFgAAABIAAAAqAAAAGgAAABMAAAAUAAAAHgAAABMAAAARAAAAFwAAABYAAAAWAAAAFgAAABYAAAAWAAAAFgAAABYAAAAWAAAAFgAAABYAAAAWAAAAFgAAABYAAAAWAAAAFgAAABYAAAAWAAAAFgAAABYAAAAWAAAAFgAAABYAAAAWAAAAIwAAABQAAAATAAAAFAAAAB4AAAAnAAAAEwAAACgAAAAUc3RjbwAAAAAAAAABAAAAMAAAAGJ1ZHRhAAAAWm1ldGEAAAAAAAAAIWhkbHIAAAAAAAAAAG1kaXJhcHBsAAAAAAAAAAAAAAAALWlsc3QAAAAlqXRvbwAAAB1kYXRhAAAAAQAAAABMYXZmNTcuODMuMTAw\" type=\"video/mp4\" />\n",
       "             </video>"
      ],
      "text/plain": [
       "<IPython.core.display.HTML object>"
      ]
     },
     "execution_count": 21,
     "metadata": {},
     "output_type": "execute_result"
    }
   ],
   "source": [
    "HTML(display_videos('fc_test20.mp4'))"
   ]
  },
  {
   "cell_type": "markdown",
   "metadata": {},
   "source": [
    "**Comment:**\n",
    "\n",
    "* The ``temperature`` corresponds to the likelihood of a cell to contain either a malus or a bonus. When it decreases, there are fewer malus or bonus cells. In other words, the rewards are sparse. Conversely, when it is equal to 1, then all cells are bonus cells (since bonus cells suppress malus cells by design of the environment). In the testing experiment above, we increased by 0.15 (from 0.3 to 0.45).\n",
    "\n",
    "* What we observe is the tendency of the agent to get stuck in certain loops. However since we currently use the ``epsilon``-greedy exploration even in the testing phase, we get out of these loops from time to time. That being said, we still observe the agent exploring only a small part of the environment.\n",
    "\n",
    "* In addition, the vision range of the agent is fairly limited. This means that given a sparse reward environment and a poorly learned policy, the agent may never see any bonus or malus cells and be stuck in an edge of the grid. We even notice that behavior for the fully connected DQN on the maximal temperature once it has cleared a large reward zone, it does not know where to go next.\n",
    "\n",
    "* Regardless of the ``temperature`` variable, we notice that the CNN DQN performs **significantly better** than the fully-connected one while fewer parameters."
   ]
  },
  {
   "cell_type": "markdown",
   "metadata": {},
   "source": [
    "***\n",
    "\n",
    "The algorithm tends to not explore the map which can be an issue. We propose two ideas in order to encourage exploration:\n",
    "1. Incorporating a decreasing $\\epsilon$-greedy exploration. You can use the method ```set_epsilon```\n",
    "2. Append via the environment a new state that describes if a cell has been visited or not\n",
    "\n",
    "***\n",
    "__Question 10__ Design a new ```train_explore``` function and environment class ```EnvironmentExploring``` to tackle the issue of exploration.\n",
    "\n"
   ]
  },
  {
   "cell_type": "code",
   "execution_count": 22,
   "metadata": {
    "collapsed": true
   },
   "outputs": [],
   "source": [
    "def train_explore(agent,env,epoch,prefix='', epsilon_decay=0.9, env_explore=False):\n",
    "    # Number of won games\n",
    "    score = 0\n",
    "    loss = 0\n",
    "\n",
    "    for e in range(epoch):\n",
    "        # At each epoch, we restart to a fresh game and get the initial state\n",
    "        state = env.reset()\n",
    "        # This assumes that the games will terminate\n",
    "        game_over = False\n",
    "\n",
    "        win = 0\n",
    "        lose = 0\n",
    "        \n",
    "        # Add the epsilon decay (similar to a learning rate decay) to reduce\n",
    "        # exploration as training goes\n",
    "        agent.set_epsilon(agent.epsilon * (epsilon_decay ** e))\n",
    "\n",
    "        while not game_over:\n",
    "            # The agent performs an action\n",
    "            action = agent.act(state, train=True)\n",
    "\n",
    "            # Apply an action to the environment, get the next state, the reward\n",
    "            # and if the games end\n",
    "            prev_state = state\n",
    "            if env_explore: # Are we using EnvironmentExploring?\n",
    "                state, reward, game_over = env.act(action, train=True)\n",
    "            else: # If not, back to standard environment to compare\n",
    "                state, reward, game_over = env.act(action)\n",
    "\n",
    "            # Update the counters\n",
    "            if reward > 0:\n",
    "                win = win + reward\n",
    "            if reward < 0:\n",
    "                lose = lose -reward\n",
    "\n",
    "            # Apply the reinforcement strategy\n",
    "            loss = agent.reinforce(prev_state, state,  action, reward, game_over)\n",
    "\n",
    "        # Save as a mp4\n",
    "        if (e + 1) % 10 == 0:\n",
    "            env.draw(prefix+str(e + 1))\n",
    "\n",
    "        # Update stats\n",
    "        score += win-lose\n",
    "\n",
    "        print(\"Epoch {:03d}/{:03d} | Loss {:.4f} | Win/lose count {}/{} ({})\"\n",
    "              \" | Agent epsilon: {:.6f}\"\n",
    "              .format(e + 1, epoch, loss, win, lose, win-lose, agent.epsilon))\n",
    "        agent.save(name_weights=prefix+'model.h5',name_model=prefix+'model.json')"
   ]
  },
  {
   "cell_type": "code",
   "execution_count": 23,
   "metadata": {
    "collapsed": true
   },
   "outputs": [
    {
     "name": "stdout",
     "output_type": "stream",
     "text": [
      "_________________________________________________________________\n",
      "Layer (type)                 Output Shape              Param #   \n",
      "=================================================================\n",
      "conv2d_7 (Conv2D)            (None, 3, 3, 16)          304       \n",
      "_________________________________________________________________\n",
      "conv2d_8 (Conv2D)            (None, 1, 1, 8)           1160      \n",
      "_________________________________________________________________\n",
      "flatten_8 (Flatten)          (None, 8)                 0         \n",
      "_________________________________________________________________\n",
      "dense_18 (Dense)             (None, 4)                 36        \n",
      "=================================================================\n",
      "Total params: 1,500\n",
      "Trainable params: 1,500\n",
      "Non-trainable params: 0\n",
      "_________________________________________________________________\n",
      "None\n",
      "Epoch 001/030 | Loss 0.0145 | Win/lose count 9.0/10.0 (-1.0) | Agent epsilon: 0.500000\n",
      "Epoch 002/030 | Loss 0.0065 | Win/lose count 5.0/5.0 (0.0) | Agent epsilon: 0.495000\n",
      "Epoch 003/030 | Loss 0.0099 | Win/lose count 18.0/13.0 (5.0) | Agent epsilon: 0.485149\n",
      "Epoch 004/030 | Loss 0.0065 | Win/lose count 6.5/4.0 (2.5) | Agent epsilon: 0.470740\n",
      "Epoch 005/030 | Loss 0.0090 | Win/lose count 18.0/4.0 (14.0) | Agent epsilon: 0.452191\n",
      "Epoch 006/030 | Loss 0.0038 | Win/lose count 14.0/9.0 (5.0) | Agent epsilon: 0.430029\n",
      "Epoch 007/030 | Loss 0.0028 | Win/lose count 9.5/6.0 (3.5) | Agent epsilon: 0.404864\n",
      "Epoch 008/030 | Loss 0.0022 | Win/lose count 14.5/8.0 (6.5) | Agent epsilon: 0.377360\n",
      "Epoch 009/030 | Loss 0.0036 | Win/lose count 9.5/8.0 (1.5) | Agent epsilon: 0.348207\n",
      "Epoch 010/030 | Loss 0.0038 | Win/lose count 14.0/11.0 (3.0) | Agent epsilon: 0.318093\n",
      "Epoch 011/030 | Loss 0.0052 | Win/lose count 13.0/5.0 (8.0) | Agent epsilon: 0.287677\n",
      "Epoch 012/030 | Loss 0.0038 | Win/lose count 11.0/5.0 (6.0) | Agent epsilon: 0.257569\n",
      "Epoch 013/030 | Loss 0.0053 | Win/lose count 6.5/3.0 (3.5) | Agent epsilon: 0.228305\n",
      "Epoch 014/030 | Loss 0.0044 | Win/lose count 16.5/4.0 (12.5) | Agent epsilon: 0.200342\n",
      "Epoch 015/030 | Loss 0.0027 | Win/lose count 9.0/1.0 (8.0) | Agent epsilon: 0.174047\n",
      "Epoch 016/030 | Loss 0.0039 | Win/lose count 4.0/3.0 (1.0) | Agent epsilon: 0.149690\n",
      "Epoch 017/030 | Loss 0.0033 | Win/lose count 9.0/3.0 (6.0) | Agent epsilon: 0.127455\n",
      "Epoch 018/030 | Loss 0.0149 | Win/lose count 7.0/1.0 (6.0) | Agent epsilon: 0.107437\n",
      "Epoch 019/030 | Loss 0.0036 | Win/lose count 8.0/3.0 (5.0) | Agent epsilon: 0.089658\n",
      "Epoch 020/030 | Loss 0.0013 | Win/lose count 12.0/3.0 (9.0) | Agent epsilon: 0.074072\n",
      "Epoch 021/030 | Loss 0.0118 | Win/lose count 6.0/1.0 (5.0) | Agent epsilon: 0.060584\n",
      "Epoch 022/030 | Loss 0.0032 | Win/lose count 16.0/3.0 (13.0) | Agent epsilon: 0.049057\n",
      "Epoch 023/030 | Loss 0.0033 | Win/lose count 11.0/3.0 (8.0) | Agent epsilon: 0.039325\n",
      "Epoch 024/030 | Loss 0.0010 | Win/lose count 21.0/1.0 (20.0) | Agent epsilon: 0.031209\n",
      "Epoch 025/030 | Loss 0.0030 | Win/lose count 21.5/1.0 (20.5) | Agent epsilon: 0.024520\n",
      "Epoch 026/030 | Loss 0.0018 | Win/lose count 20.0/1.0 (19.0) | Agent epsilon: 0.019073\n",
      "Epoch 027/030 | Loss 0.0535 | Win/lose count 8.5/1.0 (7.5) | Agent epsilon: 0.014687\n",
      "Epoch 028/030 | Loss 0.1156 | Win/lose count 16.5/1.0 (15.5) | Agent epsilon: 0.011196\n",
      "Epoch 029/030 | Loss 0.0057 | Win/lose count 9.5/0 (9.5) | Agent epsilon: 0.008450\n",
      "Epoch 030/030 | Loss 0.0036 | Win/lose count 18.0/0 (18.0) | Agent epsilon: 0.006314\n"
     ]
    },
    {
     "data": {
      "text/html": [
       "<video alt=\"test\" controls>\n",
       "                <source src=\"data:video/mp4;base64,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\" type=\"video/mp4\" />\n",
       "             </video>"
      ],
      "text/plain": [
       "<IPython.core.display.HTML object>"
      ]
     },
     "execution_count": 23,
     "metadata": {},
     "output_type": "execute_result"
    }
   ],
   "source": [
    "# Training\n",
    "#env = EnvironmentExploring(grid_size=size, max_time=T, temperature=0.3)\n",
    "env = Environment(grid_size=size, max_time=T, temperature=0.3) # We only implement the ϵ-greedy exploration first\n",
    "#agent = DQN_CNN(size, lr=.1, epsilon = 0.1, memory_size=2000, batch_size = 32,n_state=3)\n",
    "agent = DQN_CNN(size, epsilon = 0.5, memory_size=2000, batch_size = 32,n_state=2)\n",
    "train_explore(agent, env, epochs_train, prefix='cnn_train_eps_explore', epsilon_decay=0.99)\n",
    "HTML(display_videos('cnn_train_eps_explore30.mp4'))"
   ]
  },
  {
   "cell_type": "code",
   "execution_count": 24,
   "metadata": {
    "collapsed": true
   },
   "outputs": [
    {
     "name": "stdout",
     "output_type": "stream",
     "text": [
      "Win/lose count 8.5/1.0. Average score (7.5)\n",
      "Win/lose count 2.5/0. Average score (5.0)\n",
      "Win/lose count 4.0/0. Average score (4.666666666666667)\n",
      "Win/lose count 4.0/0. Average score (4.5)\n",
      "Win/lose count 3.5/0. Average score (4.3)\n",
      "Win/lose count 3.0/0. Average score (4.083333333333333)\n",
      "Win/lose count 13.0/0. Average score (5.357142857142857)\n",
      "Win/lose count 2.5/0. Average score (5.0)\n",
      "Win/lose count 2.5/0. Average score (4.722222222222222)\n",
      "Win/lose count 7.0/0. Average score (4.95)\n",
      "Win/lose count 4.0/0. Average score (4.863636363636363)\n",
      "Win/lose count 6.5/0. Average score (5.0)\n",
      "Win/lose count 2.5/0. Average score (4.8076923076923075)\n",
      "Win/lose count 6.5/0. Average score (4.928571428571429)\n",
      "Win/lose count 5.0/0. Average score (4.933333333333334)\n",
      "Win/lose count 7.5/0. Average score (5.09375)\n",
      "Win/lose count 10.5/0. Average score (5.411764705882353)\n",
      "Win/lose count 2.5/0. Average score (5.25)\n",
      "Win/lose count 4.0/0. Average score (5.184210526315789)\n",
      "Win/lose count 1.5/0. Average score (5.0)\n",
      "Final score: 5.0\n"
     ]
    },
    {
     "data": {
      "text/html": [
       "<video alt=\"test\" controls>\n",
       "                <source src=\"data:video/mp4;base64,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\" type=\"video/mp4\" />\n",
       "             </video>"
      ],
      "text/plain": [
       "<IPython.core.display.HTML object>"
      ]
     },
     "execution_count": 24,
     "metadata": {},
     "output_type": "execute_result"
    }
   ],
   "source": [
    "# Evaluation\n",
    "test(agent,env,epochs_test,prefix='cnn_test_eps_explore', epsilon_greedy=True) # ϵ-greedy exploration during testing\n",
    "HTML(display_videos('cnn_test_eps_explore20.mp4'))"
   ]
  },
  {
   "cell_type": "code",
   "execution_count": 25,
   "metadata": {},
   "outputs": [
    {
     "name": "stdout",
     "output_type": "stream",
     "text": [
      "Win/lose count 4.0/0. Average score (4.0)\n",
      "Win/lose count 6.0/0. Average score (5.0)\n",
      "Win/lose count 4.5/0. Average score (4.833333333333333)\n",
      "Win/lose count 4.5/1.0. Average score (4.5)\n",
      "Win/lose count 5.5/0. Average score (4.7)\n",
      "Win/lose count 1.0/0. Average score (4.083333333333333)\n",
      "Win/lose count 8.5/0. Average score (4.714285714285714)\n",
      "Win/lose count 4.5/0. Average score (4.6875)\n",
      "Win/lose count 3.0/0. Average score (4.5)\n",
      "Win/lose count 4.5/0. Average score (4.5)\n",
      "Win/lose count 3.0/0. Average score (4.363636363636363)\n",
      "Win/lose count 2.5/0. Average score (4.208333333333333)\n",
      "Win/lose count 5.5/0. Average score (4.3076923076923075)\n",
      "Win/lose count 6.5/0. Average score (4.464285714285714)\n",
      "Win/lose count 4.0/0. Average score (4.433333333333334)\n",
      "Win/lose count 4.0/0. Average score (4.40625)\n",
      "Win/lose count 5.0/0. Average score (4.4411764705882355)\n",
      "Win/lose count 2.0/0. Average score (4.305555555555555)\n",
      "Win/lose count 6.0/0. Average score (4.394736842105263)\n",
      "Win/lose count 2.5/0. Average score (4.3)\n",
      "Final score: 4.3\n"
     ]
    },
    {
     "data": {
      "text/html": [
       "<video alt=\"test\" controls>\n",
       "                <source src=\"data:video/mp4;base64,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\" type=\"video/mp4\" />\n",
       "             </video>"
      ],
      "text/plain": [
       "<IPython.core.display.HTML object>"
      ]
     },
     "execution_count": 25,
     "metadata": {},
     "output_type": "execute_result"
    }
   ],
   "source": [
    "# Evaluation\n",
    "test(agent,env,epochs_test,prefix='cnn_test_eps_explore', epsilon_greedy=False) # No ϵ-greedy exploration during test\n",
    "HTML(display_videos('cnn_test_eps_explore20.mp4'))"
   ]
  },
  {
   "cell_type": "markdown",
   "metadata": {},
   "source": [
    "**Comment:**\n",
    "\n",
    "* Using the decreasing $\\epsilon$-greedy scheme alone, we see that the agent is able to explore a significantly larger area of the map and it performs almost flawlessly after 30 epochs during training. Besides, it almost always avoids *poisonous* cells during the testing phase when we do not use $\\epsilon$-greedy scheme in the testing phase. However the testing average score results remain below the results we obtained not using a decreasing $\\epsilon$-greedy policy. In addition, using sticky actions in training seems to help the agent overcome certain loops and get a slightly better average final score than when removing the sticky actions entirely.\n",
    "\n",
    "* Now we add the EnvironmentExploring that indicates whether a state has been visited."
   ]
  },
  {
   "cell_type": "code",
   "execution_count": 26,
   "metadata": {},
   "outputs": [],
   "source": [
    "class EnvironmentExploring(Environment):\n",
    "    def __init__(self, *args, **kwargs):\n",
    "        super(EnvironmentExploring, self).__init__(*args, **kwargs)\n",
    "    # Environment.draw and Environment.get_frame do not change\n",
    "    \n",
    "    def act(self, action, train=False):\n",
    "        \"\"\"This function returns the new state, reward and decides if the\n",
    "        game ends.\"\"\"\n",
    "\n",
    "        self.get_frame(int(self.t))\n",
    "\n",
    "        self.position = np.zeros((self.grid_size, self.grid_size))\n",
    "\n",
    "        self.position[0:2,:]= -1\n",
    "        self.position[:,0:2] = -1\n",
    "        self.position[-2:, :] = -1\n",
    "        self.position[-2:, :] = -1\n",
    "\n",
    "        self.position[self.x, self.y] = 1\n",
    "        if action == 0: # up\n",
    "            if self.x == self.grid_size-3:\n",
    "                self.x = self.x-1\n",
    "            else:\n",
    "                self.x = self.x + 1\n",
    "        elif action == 1: # down\n",
    "            if self.x == 2:\n",
    "                self.x = self.x+1\n",
    "            else:\n",
    "                self.x = self.x-1\n",
    "        elif action == 2: # right\n",
    "            if self.y == self.grid_size - 3:\n",
    "                self.y = self.y - 1\n",
    "            else:\n",
    "                self.y = self.y + 1\n",
    "        elif action == 3: # left\n",
    "            if self.y == 2:\n",
    "                self.y = self.y + 1\n",
    "            else:\n",
    "                self.y = self.y - 1\n",
    "        else:\n",
    "            RuntimeError('Error: action not recognized')\n",
    "\n",
    "        self.t = self.t + 1\n",
    "        \n",
    "        reward = 0\n",
    "        if train:\n",
    "            reward = -self.malus_position[self.x, self.y]\n",
    "        self.malus_position[self.x, self.y] = 0.1\n",
    "\n",
    "        reward = reward + self.board[self.x, self.y]\n",
    "        \n",
    "        #reward = self.board[self.x, self.y]\n",
    "        self.board[self.x, self.y] = 0\n",
    "        game_over = self.t > self.max_time\n",
    "        \n",
    "        \n",
    "        state = np.concatenate((self.malus_position.reshape(self.grid_size, self.grid_size, 1),\n",
    "                                self.board.reshape(self.grid_size, self.grid_size,1),\n",
    "                        self.position.reshape(self.grid_size, self.grid_size,1)),axis=2)\n",
    "        state = state[self.x-2:self.x+3,self.y-2:self.y+3,:]\n",
    "\n",
    "        return state, reward, game_over\n",
    "\n",
    "    def reset(self):\n",
    "        \"\"\"This function resets the game and returns the initial state\"\"\"\n",
    "\n",
    "        self.x = np.random.randint(3, self.grid_size-3, size=1)[0]\n",
    "        self.y = np.random.randint(3, self.grid_size-3, size=1)[0]\n",
    "\n",
    "\n",
    "        bonus = 0.5*np.random.binomial(1,self.temperature,size=self.grid_size**2)\n",
    "        bonus = bonus.reshape(self.grid_size,self.grid_size)\n",
    "\n",
    "        malus = -1.0*np.random.binomial(1,self.temperature,size=self.grid_size**2)\n",
    "        malus = malus.reshape(self.grid_size, self.grid_size)\n",
    "\n",
    "        self.to_draw = np.zeros((self.max_time+2, self.grid_size*self.scale, self.grid_size*self.scale, 3))\n",
    "\n",
    "\n",
    "        self.malus_position = np.zeros((self.grid_size, self.grid_size))\n",
    "        \n",
    "        malus[bonus>0]=0\n",
    "\n",
    "        self.board = bonus + malus\n",
    "\n",
    "        self.position = np.zeros((self.grid_size, self.grid_size))\n",
    "        self.position[0:2,:]= -1\n",
    "        self.position[:,0:2] = -1\n",
    "        self.position[-2:, :] = -1\n",
    "        #self.position[-2:, :] = -1\n",
    "        self.position[:, -2:] = -1\n",
    "        self.board[self.x,self.y] = 0\n",
    "        self.t = 0\n",
    "\n",
    "        state = np.concatenate((self.malus_position.reshape(self.grid_size, self.grid_size,1),\n",
    "                               self.board.reshape(self.grid_size, self.grid_size,1),\n",
    "                        self.position.reshape(self.grid_size, self.grid_size,1)),axis=2)\n",
    "\n",
    "        state = state[self.x - 2:self.x + 3, self.y - 2:self.y + 3, :]\n",
    "        return state\n",
    "    \n",
    "    \n",
    "    #if False:\n",
    "    ## use those samples of code:\n",
    "    #In train explore:\n",
    "    #state, reward, game_over = env.act(action, train=True)\n",
    "\n",
    "    ## In Environment exploring:\n",
    "    # You will have to change n_state to 3 because you will use one more layer!\n",
    "    #reward = 0\n",
    "    #if train:\n",
    "    #    reward = -self.malus_position[self.x, self.y]\n",
    "    #self.malus_position[self.x, self.y] = 0.1\n",
    "\n",
    "    #reward = reward + self.board[self.x, self.y]\n",
    "    # 3 \"feature\" states instead of 2\n",
    "    #state = np.concatenate((self.malus_position.reshape(self.grid_size, self.grid_size,1),\n",
    "    #                                self.board.reshape(self.grid_size, self.grid_size,1),\n",
    "    #                        self.position.reshape(self.grid_size, self.grid_size,1)),axis=2)"
   ]
  },
  {
   "cell_type": "code",
   "execution_count": 27,
   "metadata": {},
   "outputs": [
    {
     "name": "stdout",
     "output_type": "stream",
     "text": [
      "_________________________________________________________________\n",
      "Layer (type)                 Output Shape              Param #   \n",
      "=================================================================\n",
      "conv2d_9 (Conv2D)            (None, 3, 3, 16)          448       \n",
      "_________________________________________________________________\n",
      "conv2d_10 (Conv2D)           (None, 1, 1, 8)           1160      \n",
      "_________________________________________________________________\n",
      "flatten_9 (Flatten)          (None, 8)                 0         \n",
      "_________________________________________________________________\n",
      "dense_19 (Dense)             (None, 4)                 36        \n",
      "=================================================================\n",
      "Total params: 1,644\n",
      "Trainable params: 1,644\n",
      "Non-trainable params: 0\n",
      "_________________________________________________________________\n",
      "None\n",
      "Epoch 001/030 | Loss 0.0822 | Win/lose count 5.5/11.0 (-5.5) | Agent epsilon: 0.500000\n",
      "Epoch 002/030 | Loss 0.0054 | Win/lose count 2.5/3.0 (-0.5) | Agent epsilon: 0.495000\n",
      "Epoch 003/030 | Loss 0.0087 | Win/lose count 12.5/12.0 (0.5) | Agent epsilon: 0.485149\n",
      "Epoch 004/030 | Loss 0.0035 | Win/lose count 8.5/6.0 (2.5) | Agent epsilon: 0.470740\n",
      "Epoch 005/030 | Loss 0.0477 | Win/lose count 12.0/11.0 (1.0) | Agent epsilon: 0.452191\n",
      "Epoch 006/030 | Loss 0.0066 | Win/lose count 17.0/5.0 (12.0) | Agent epsilon: 0.430029\n",
      "Epoch 007/030 | Loss 0.0023 | Win/lose count 9.0/6.0 (3.0) | Agent epsilon: 0.404864\n",
      "Epoch 008/030 | Loss 0.0049 | Win/lose count 16.5/6.0 (10.5) | Agent epsilon: 0.377360\n",
      "Epoch 009/030 | Loss 0.0048 | Win/lose count 7.0/4.0 (3.0) | Agent epsilon: 0.348207\n",
      "Epoch 010/030 | Loss 0.0051 | Win/lose count 8.0/2.0 (6.0) | Agent epsilon: 0.318093\n",
      "Epoch 011/030 | Loss 0.0045 | Win/lose count 15.5/4.0 (11.5) | Agent epsilon: 0.287677\n",
      "Epoch 012/030 | Loss 0.0050 | Win/lose count 5.5/6.0 (-0.5) | Agent epsilon: 0.257569\n",
      "Epoch 013/030 | Loss 0.0024 | Win/lose count 11.5/4.0 (7.5) | Agent epsilon: 0.228305\n",
      "Epoch 014/030 | Loss 0.0026 | Win/lose count 15.5/5.0 (10.5) | Agent epsilon: 0.200342\n",
      "Epoch 015/030 | Loss 0.0032 | Win/lose count 14.5/6.0 (8.5) | Agent epsilon: 0.174047\n",
      "Epoch 016/030 | Loss 0.0584 | Win/lose count 10.0/3.0 (7.0) | Agent epsilon: 0.149690\n",
      "Epoch 017/030 | Loss 0.0596 | Win/lose count 12.0/7.0 (5.0) | Agent epsilon: 0.127455\n",
      "Epoch 018/030 | Loss 0.0551 | Win/lose count 4.0/2.0 (2.0) | Agent epsilon: 0.107437\n",
      "Epoch 019/030 | Loss 0.0024 | Win/lose count 3.5/2.0 (1.5) | Agent epsilon: 0.089658\n",
      "Epoch 020/030 | Loss 0.0099 | Win/lose count 9.5/5.0 (4.5) | Agent epsilon: 0.074072\n",
      "Epoch 021/030 | Loss 0.0027 | Win/lose count 13.5/0 (13.5) | Agent epsilon: 0.060584\n",
      "Epoch 022/030 | Loss 0.0008 | Win/lose count 6.5/1.0 (5.5) | Agent epsilon: 0.049057\n",
      "Epoch 023/030 | Loss 0.0011 | Win/lose count 8.5/0 (8.5) | Agent epsilon: 0.039325\n",
      "Epoch 024/030 | Loss 0.0024 | Win/lose count 8.5/2.0 (6.5) | Agent epsilon: 0.031209\n",
      "Epoch 025/030 | Loss 0.0030 | Win/lose count 4.5/1.0 (3.5) | Agent epsilon: 0.024520\n",
      "Epoch 026/030 | Loss 0.0052 | Win/lose count 9.5/0 (9.5) | Agent epsilon: 0.019073\n",
      "Epoch 027/030 | Loss 0.0033 | Win/lose count 3.5/0 (3.5) | Agent epsilon: 0.014687\n",
      "Epoch 028/030 | Loss 0.0539 | Win/lose count 5.5/1.0 (4.5) | Agent epsilon: 0.011196\n",
      "Epoch 029/030 | Loss 0.0035 | Win/lose count 4.5/0 (4.5) | Agent epsilon: 0.008450\n",
      "Epoch 030/030 | Loss 0.0040 | Win/lose count 15.5/1.0 (14.5) | Agent epsilon: 0.006314\n"
     ]
    },
    {
     "data": {
      "text/html": [
       "<video alt=\"test\" controls>\n",
       "                <source src=\"data:video/mp4;base64,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\" type=\"video/mp4\" />\n",
       "             </video>"
      ],
      "text/plain": [
       "<IPython.core.display.HTML object>"
      ]
     },
     "execution_count": 27,
     "metadata": {},
     "output_type": "execute_result"
    }
   ],
   "source": [
    "# Training\n",
    "env = EnvironmentExploring(grid_size=size, max_time=T, temperature=0.3)\n",
    "#env = Environment(grid_size=size, max_time=T, temperature=0.3)\n",
    "agent = DQN_CNN(size, epsilon = 0.5, memory_size=2000, batch_size = 32,n_state=3)\n",
    "#agent = DQN_CNN(size, lr=.1, epsilon = 0.5, memory_size=2000, batch_size = 32,n_state=2)\n",
    "train_explore(agent, env, epochs_train, prefix='cnn_train_full_explore', epsilon_decay=0.99) \n",
    "HTML(display_videos('cnn_train_full_explore30.mp4'))"
   ]
  },
  {
   "cell_type": "code",
   "execution_count": 28,
   "metadata": {},
   "outputs": [
    {
     "name": "stdout",
     "output_type": "stream",
     "text": [
      "Win/lose count 2.0/0. Average score (2.0)\n",
      "Win/lose count 0.5/0. Average score (1.25)\n",
      "Win/lose count 4.0/1.0. Average score (1.8333333333333333)\n",
      "Win/lose count 2.5/0. Average score (2.0)\n",
      "Win/lose count 8.0/0. Average score (3.2)\n",
      "Win/lose count 1.0/0. Average score (2.8333333333333335)\n",
      "Win/lose count 3.0/0. Average score (2.857142857142857)\n",
      "Win/lose count 0.5/0. Average score (2.5625)\n",
      "Win/lose count 4.0/0. Average score (2.7222222222222223)\n",
      "Win/lose count 6.5/0. Average score (3.1)\n",
      "Win/lose count 1.0/0. Average score (2.909090909090909)\n",
      "Win/lose count 2.5/0. Average score (2.875)\n",
      "Win/lose count 2.5/0. Average score (2.8461538461538463)\n",
      "Win/lose count 5.5/0. Average score (3.0357142857142856)\n",
      "Win/lose count 2.0/0. Average score (2.966666666666667)\n",
      "Win/lose count 11.5/0. Average score (3.5)\n",
      "Win/lose count 2.0/0. Average score (3.411764705882353)\n",
      "Win/lose count 3.0/1.0. Average score (3.3333333333333335)\n",
      "Win/lose count 1.0/0. Average score (3.210526315789474)\n",
      "Win/lose count 2.5/0. Average score (3.175)\n",
      "Final score: 3.175\n"
     ]
    },
    {
     "data": {
      "text/html": [
       "<video alt=\"test\" controls>\n",
       "                <source src=\"data:video/mp4;base64,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\" type=\"video/mp4\" />\n",
       "             </video>"
      ],
      "text/plain": [
       "<IPython.core.display.HTML object>"
      ]
     },
     "execution_count": 28,
     "metadata": {},
     "output_type": "execute_result"
    }
   ],
   "source": [
    "# Evaluation\n",
    "test(agent,env,epochs_test,prefix='cnn_test_full_explore_no_eps_test', epsilon_greedy=True) # ϵ-greedy exploration during testing\n",
    "HTML(display_videos('cnn_test_full_explore_no_eps_test20.mp4'))"
   ]
  },
  {
   "cell_type": "markdown",
   "metadata": {},
   "source": [
    "**Comment:**\n",
    "\n",
    "By adding in the count-based exploration scheme, we obtain similar results on the training phase. Even when using the $\\epsilon$-greedy scheme in the testing phase, we obtain slightly worse results on average when using the count-based exploration AND the $\\epsilon$-greedy exploration approaches together.\n",
    "\n",
    "Our last experiment consists in using only the count-based exploration but no $\\epsilon$-greedy approach in both training and testing phases."
   ]
  },
  {
   "cell_type": "code",
   "execution_count": 29,
   "metadata": {},
   "outputs": [
    {
     "name": "stdout",
     "output_type": "stream",
     "text": [
      "_________________________________________________________________\n",
      "Layer (type)                 Output Shape              Param #   \n",
      "=================================================================\n",
      "conv2d_11 (Conv2D)           (None, 3, 3, 16)          448       \n",
      "_________________________________________________________________\n",
      "conv2d_12 (Conv2D)           (None, 1, 1, 8)           1160      \n",
      "_________________________________________________________________\n",
      "flatten_10 (Flatten)         (None, 8)                 0         \n",
      "_________________________________________________________________\n",
      "dense_20 (Dense)             (None, 4)                 36        \n",
      "=================================================================\n",
      "Total params: 1,644\n",
      "Trainable params: 1,644\n",
      "Non-trainable params: 0\n",
      "_________________________________________________________________\n",
      "None\n",
      "Epoch 001/030 | Loss 0.0225 | Win/lose count 0.5/0 (0.5) | Agent epsilon: 0.000000\n",
      "Epoch 002/030 | Loss 0.0013 | Win/lose count 0.5/0 (0.5) | Agent epsilon: 0.000000\n",
      "Epoch 003/030 | Loss 0.0079 | Win/lose count 2.0/1.0 (1.0) | Agent epsilon: 0.000000\n",
      "Epoch 004/030 | Loss 0.0015 | Win/lose count 0.5/0 (0.5) | Agent epsilon: 0.000000\n",
      "Epoch 005/030 | Loss 0.0008 | Win/lose count 0.5/0 (0.5) | Agent epsilon: 0.000000\n",
      "Epoch 006/030 | Loss 0.0680 | Win/lose count 0/1.0 (-1.0) | Agent epsilon: 0.000000\n",
      "Epoch 007/030 | Loss 0.0019 | Win/lose count 2.0/0 (2.0) | Agent epsilon: 0.000000\n",
      "Epoch 008/030 | Loss 0.0011 | Win/lose count 1.0/0 (1.0) | Agent epsilon: 0.000000\n",
      "Epoch 009/030 | Loss 0.0004 | Win/lose count 2.5/0 (2.5) | Agent epsilon: 0.000000\n",
      "Epoch 010/030 | Loss 0.0010 | Win/lose count 2.0/0 (2.0) | Agent epsilon: 0.000000\n",
      "Epoch 011/030 | Loss 0.0015 | Win/lose count 0.5/0 (0.5) | Agent epsilon: 0.000000\n",
      "Epoch 012/030 | Loss 0.0006 | Win/lose count 0.5/1.0 (-0.5) | Agent epsilon: 0.000000\n",
      "Epoch 013/030 | Loss 0.0010 | Win/lose count 0.5/0 (0.5) | Agent epsilon: 0.000000\n",
      "Epoch 014/030 | Loss 0.0648 | Win/lose count 0.5/0 (0.5) | Agent epsilon: 0.000000\n",
      "Epoch 015/030 | Loss 0.0022 | Win/lose count 0/0 (0) | Agent epsilon: 0.000000\n",
      "Epoch 016/030 | Loss 0.0017 | Win/lose count 1.0/0 (1.0) | Agent epsilon: 0.000000\n",
      "Epoch 017/030 | Loss 0.0030 | Win/lose count 0/0 (0) | Agent epsilon: 0.000000\n",
      "Epoch 018/030 | Loss 0.0006 | Win/lose count 2.5/0 (2.5) | Agent epsilon: 0.000000\n",
      "Epoch 019/030 | Loss 0.0005 | Win/lose count 0.5/1.0 (-0.5) | Agent epsilon: 0.000000\n",
      "Epoch 020/030 | Loss 0.0008 | Win/lose count 2.0/1.0 (1.0) | Agent epsilon: 0.000000\n",
      "Epoch 021/030 | Loss 0.0380 | Win/lose count 0.5/0 (0.5) | Agent epsilon: 0.000000\n",
      "Epoch 022/030 | Loss 0.0378 | Win/lose count 1.5/1.0 (0.5) | Agent epsilon: 0.000000\n",
      "Epoch 023/030 | Loss 0.0083 | Win/lose count 2.5/1.0 (1.5) | Agent epsilon: 0.000000\n",
      "Epoch 024/030 | Loss 0.0011 | Win/lose count 0.5/0 (0.5) | Agent epsilon: 0.000000\n",
      "Epoch 025/030 | Loss 0.0004 | Win/lose count 2.0/0 (2.0) | Agent epsilon: 0.000000\n",
      "Epoch 026/030 | Loss 0.0017 | Win/lose count 5.5/0 (5.5) | Agent epsilon: 0.000000\n",
      "Epoch 027/030 | Loss 0.0176 | Win/lose count 2.0/0 (2.0) | Agent epsilon: 0.000000\n",
      "Epoch 028/030 | Loss 0.0290 | Win/lose count 0/0 (0) | Agent epsilon: 0.000000\n",
      "Epoch 029/030 | Loss 0.0020 | Win/lose count 2.0/2.0 (0.0) | Agent epsilon: 0.000000\n",
      "Epoch 030/030 | Loss 0.0004 | Win/lose count 0.5/0 (0.5) | Agent epsilon: 0.000000\n"
     ]
    },
    {
     "data": {
      "text/html": [
       "<video alt=\"test\" controls>\n",
       "                <source src=\"data:video/mp4;base64,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\" type=\"video/mp4\" />\n",
       "             </video>"
      ],
      "text/plain": [
       "<IPython.core.display.HTML object>"
      ]
     },
     "execution_count": 29,
     "metadata": {},
     "output_type": "execute_result"
    }
   ],
   "source": [
    "# Training\n",
    "env = EnvironmentExploring(grid_size=size, max_time=T, temperature=0.3)\n",
    "#env = Environment(grid_size=size, max_time=T, temperature=0.3)\n",
    "agent = DQN_CNN(size, lr=.1, epsilon = 0, memory_size=2000, batch_size = 32,n_state=3) # no ϵ-greedy exploration during training\n",
    "#agent = DQN_CNN(size, lr=.1, epsilon = 0.5, memory_size=2000, batch_size = 32,n_state=2)\n",
    "train_explore(agent, env, epochs_train, prefix='cnn_train_count_explore', epsilon_decay=0.99)\n",
    "HTML(display_videos('cnn_train_count_explore30.mp4'))"
   ]
  },
  {
   "cell_type": "code",
   "execution_count": 30,
   "metadata": {},
   "outputs": [
    {
     "name": "stdout",
     "output_type": "stream",
     "text": [
      "Win/lose count 1.0/0. Average score (1.0)\n",
      "Win/lose count 0/1.0. Average score (0.0)\n",
      "Win/lose count 2.0/0. Average score (0.6666666666666666)\n",
      "Win/lose count 0.5/0. Average score (0.625)\n",
      "Win/lose count 0/0. Average score (0.5)\n",
      "Win/lose count 0.5/0. Average score (0.5)\n",
      "Win/lose count 3.5/1.0. Average score (0.7857142857142857)\n",
      "Win/lose count 1.5/1.0. Average score (0.75)\n",
      "Win/lose count 1.5/0. Average score (0.8333333333333334)\n",
      "Win/lose count 0.5/0. Average score (0.8)\n",
      "Win/lose count 2.0/0. Average score (0.9090909090909091)\n",
      "Win/lose count 0/0. Average score (0.8333333333333334)\n",
      "Win/lose count 1.0/1.0. Average score (0.7692307692307693)\n",
      "Win/lose count 0/0. Average score (0.7142857142857143)\n",
      "Win/lose count 0.5/0. Average score (0.7)\n",
      "Win/lose count 2.0/1.0. Average score (0.71875)\n",
      "Win/lose count 1.5/0. Average score (0.7647058823529411)\n",
      "Win/lose count 0.5/0. Average score (0.75)\n",
      "Win/lose count 3.0/2.0. Average score (0.7631578947368421)\n",
      "Win/lose count 3.5/0. Average score (0.9)\n",
      "Final score: 0.9\n"
     ]
    },
    {
     "data": {
      "text/html": [
       "<video alt=\"test\" controls>\n",
       "                <source src=\"data:video/mp4;base64,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\" type=\"video/mp4\" />\n",
       "             </video>"
      ],
      "text/plain": [
       "<IPython.core.display.HTML object>"
      ]
     },
     "execution_count": 30,
     "metadata": {},
     "output_type": "execute_result"
    }
   ],
   "source": [
    "# Evaluation\n",
    "test(agent,env,epochs_test,prefix='cnn_test_count_explore', epsilon_greedy=True) # ϵ-greedy exploration during testing\n",
    "HTML(display_videos('cnn_test_count_explore20.mp4'))"
   ]
  },
  {
   "cell_type": "markdown",
   "metadata": {},
   "source": [
    "**Comment:**\n",
    "\n",
    "* Here we observe that the count-based exploration approach on its own performs worse than the $\\epsilon$-greedy approach on its own and worse than both approaches simultaneously.\n",
    "\n",
    "* That being said, note that the number of test environments is fairly small (here 20), so the results should be taken with caution as there is significant variance. One should in fact conduct multiple runs and plot the standard deviations. In addition we are only observing the results using the same ``temperature`` in both training and testing phases."
   ]
  },
  {
   "cell_type": "markdown",
   "metadata": {},
   "source": [
    "***\n",
    "***\n",
    "__BONUS question__ Use the expert DQN from the previous question to generate some winning games. Train a model that mimicks its behavior. Compare the performances."
   ]
  },
  {
   "cell_type": "markdown",
   "metadata": {},
   "source": [
    "**Comment:**\n",
    "\n",
    "* In this section we explore training a model that imitates an expert DQN. This can be seen as an instance of Imitation Learning where agents learn from domain (often human) experts.\n",
    "\n",
    "* Moreover, it may relate to the fact that shallow networks might be able to learn complex function by using deeper original models as mentors (see [paper](https://arxiv.org/abs/1312.6184) from Lei Jimmy Ba and Rich Caruana where the authors conclude: \"Our success in training shallow neural nets to mimic deeper models suggests that there probably exist better algorithms for training shallow feed-forward nets than those currently available.\")\n",
    "\n",
    "* In addition, using the output of a fixed and randomly initialized network has recently being used in Reinforcement Learning to tackle sparse reward environments. The authors (Yuri Burda, Harrison Edwards, Amos Storkey and Oleg Klimov) present an intrinsic reward (as opposed to extrinsinc reward given by the environment) that acts as a curiosity module and that is essentially the prediction error on the output of a fixed and randomly intialized network. They coin this technique as [Random Network Distillation](https://arxiv.org/pdf/1810.12894.pdf) and achieve state-of-the-art on the infamous Montezuma's Revenge game from the Atari Learning Environment that is considered as an exploration benchmark since the rewards are very rare (i.e. sparse)."
   ]
  },
  {
   "cell_type": "code",
   "execution_count": 31,
   "metadata": {},
   "outputs": [],
   "source": [
    "class DQN_imitate(DQN):\n",
    "    def __init__(self, mentor, *args, lr=0.1,**kwargs):\n",
    "        super(DQN_imitate, self).__init__( *args,**kwargs)\n",
    "        \n",
    "        # NN Model\n",
    "        self.mentor = mentor\n",
    "        \n",
    "        ####### FILL IN\n",
    "        model = Sequential()\n",
    "        model.add(Flatten(input_shape=(5, 5, self.n_state,)))\n",
    "        model.add(Dense(30, activation=\"linear\"))\n",
    "        model.add(Dense(10, activation=\"linear\"))\n",
    "        model.add(Dense(4))\n",
    "        \n",
    "        #model.compile(sgd(lr=lr, decay=1e-4, momentum=0.0), \"mse\")\n",
    "        model.compile(\"adam\", \"mse\") # default ADAM\n",
    "        self.model = model\n",
    "        print(self.model.summary())\n",
    "        \n",
    "    # Overwrite reinforce\n",
    "    def reinforce(self, s_, n_s_, a_, r_, game_over_):\n",
    "        # Two steps: first memorize the states, second learn from the pool\n",
    "\n",
    "        # Use the agent own memory\n",
    "        self.memory.remember([s_, n_s_, a_, r_, game_over_])\n",
    "        \n",
    "        input_states = np.zeros((self.batch_size, 5,5,self.n_state))\n",
    "        target_q = np.zeros((self.batch_size, 4))\n",
    "        \n",
    "        for i in range(self.batch_size):\n",
    "            ######## FILL IN\n",
    "            state, next_state, action, reward, game_over = self.memory.random_access()\n",
    "            input_states[i] = state\n",
    "            #target_q[i] = self.model.predict(state.reshape(1, 5, 5, self.n_state))\n",
    "            # Use the mentor model predictions\n",
    "            target_q[i] = self.mentor.model.predict(state.reshape(1, 5, 5, self.n_state))\n",
    "            \n",
    "        # HINT: Clip the target to avoid exploiding gradients.. -- clipping is a bit tighter\n",
    "        target_q = np.clip(target_q, -3, 3)\n",
    "\n",
    "        l = self.model.train_on_batch(input_states, target_q)\n",
    "\n",
    "        return l "
   ]
  },
  {
   "cell_type": "code",
   "execution_count": 34,
   "metadata": {},
   "outputs": [
    {
     "name": "stdout",
     "output_type": "stream",
     "text": [
      "_________________________________________________________________\n",
      "Layer (type)                 Output Shape              Param #   \n",
      "=================================================================\n",
      "conv2d_13 (Conv2D)           (None, 3, 3, 16)          448       \n",
      "_________________________________________________________________\n",
      "conv2d_14 (Conv2D)           (None, 1, 1, 8)           1160      \n",
      "_________________________________________________________________\n",
      "flatten_12 (Flatten)         (None, 8)                 0         \n",
      "_________________________________________________________________\n",
      "dense_24 (Dense)             (None, 4)                 36        \n",
      "=================================================================\n",
      "Total params: 1,644\n",
      "Trainable params: 1,644\n",
      "Non-trainable params: 0\n",
      "_________________________________________________________________\n",
      "None\n",
      "Epoch 001/030 | Loss 0.0095 | Win/lose count 7.0/4.0 (3.0) | Agent epsilon: 0.500000\n",
      "Epoch 002/030 | Loss 0.0071 | Win/lose count 4.5/5.0 (-0.5) | Agent epsilon: 0.495000\n",
      "Epoch 003/030 | Loss 0.0032 | Win/lose count 5.0/9.0 (-4.0) | Agent epsilon: 0.485149\n",
      "Epoch 004/030 | Loss 0.0042 | Win/lose count 9.5/6.0 (3.5) | Agent epsilon: 0.470740\n",
      "Epoch 005/030 | Loss 0.0972 | Win/lose count 11.5/6.0 (5.5) | Agent epsilon: 0.452191\n",
      "Epoch 006/030 | Loss 0.0029 | Win/lose count 9.0/9.0 (0.0) | Agent epsilon: 0.430029\n",
      "Epoch 007/030 | Loss 0.0092 | Win/lose count 17.5/6.0 (11.5) | Agent epsilon: 0.404864\n",
      "Epoch 008/030 | Loss 0.0096 | Win/lose count 4.5/2.0 (2.5) | Agent epsilon: 0.377360\n",
      "Epoch 009/030 | Loss 0.0067 | Win/lose count 8.0/5.0 (3.0) | Agent epsilon: 0.348207\n",
      "Epoch 010/030 | Loss 0.0040 | Win/lose count 9.0/4.0 (5.0) | Agent epsilon: 0.318093\n",
      "Epoch 011/030 | Loss 0.0018 | Win/lose count 15.0/3.0 (12.0) | Agent epsilon: 0.287677\n",
      "Epoch 012/030 | Loss 0.0819 | Win/lose count 5.5/3.0 (2.5) | Agent epsilon: 0.257569\n",
      "Epoch 013/030 | Loss 0.0036 | Win/lose count 4.5/4.0 (0.5) | Agent epsilon: 0.228305\n",
      "Epoch 014/030 | Loss 0.0044 | Win/lose count 14.0/6.0 (8.0) | Agent epsilon: 0.200342\n",
      "Epoch 015/030 | Loss 0.0034 | Win/lose count 9.0/4.0 (5.0) | Agent epsilon: 0.174047\n",
      "Epoch 016/030 | Loss 0.0015 | Win/lose count 7.0/3.0 (4.0) | Agent epsilon: 0.149690\n",
      "Epoch 017/030 | Loss 0.0021 | Win/lose count 15.0/2.0 (13.0) | Agent epsilon: 0.127455\n",
      "Epoch 018/030 | Loss 0.0025 | Win/lose count 4.0/1.0 (3.0) | Agent epsilon: 0.107437\n",
      "Epoch 019/030 | Loss 0.0037 | Win/lose count 11.0/3.0 (8.0) | Agent epsilon: 0.089658\n",
      "Epoch 020/030 | Loss 0.0622 | Win/lose count 4.5/2.0 (2.5) | Agent epsilon: 0.074072\n",
      "Epoch 021/030 | Loss 0.0034 | Win/lose count 10.5/1.0 (9.5) | Agent epsilon: 0.060584\n",
      "Epoch 022/030 | Loss 0.0013 | Win/lose count 5.5/0 (5.5) | Agent epsilon: 0.049057\n",
      "Epoch 023/030 | Loss 0.0020 | Win/lose count 15.5/1.0 (14.5) | Agent epsilon: 0.039325\n",
      "Epoch 024/030 | Loss 0.0023 | Win/lose count 8.0/1.0 (7.0) | Agent epsilon: 0.031209\n",
      "Epoch 025/030 | Loss 0.0050 | Win/lose count 17.0/0 (17.0) | Agent epsilon: 0.024520\n",
      "Epoch 026/030 | Loss 0.0082 | Win/lose count 10.0/1.0 (9.0) | Agent epsilon: 0.019073\n",
      "Epoch 027/030 | Loss 0.0021 | Win/lose count 4.0/0 (4.0) | Agent epsilon: 0.014687\n",
      "Epoch 028/030 | Loss 0.0023 | Win/lose count 11.5/0 (11.5) | Agent epsilon: 0.011196\n",
      "Epoch 029/030 | Loss 0.0025 | Win/lose count 7.5/0 (7.5) | Agent epsilon: 0.008450\n",
      "Epoch 030/030 | Loss 0.0014 | Win/lose count 8.5/0 (8.5) | Agent epsilon: 0.006314\n"
     ]
    },
    {
     "data": {
      "text/html": [
       "<video alt=\"test\" controls>\n",
       "                <source src=\"data:video/mp4;base64,AAAAIGZ0eXBpc29tAAACAGlzb21pc28yYXZjMW1wNDEAAAAIZnJlZQAAFxltZGF0AAACrQYF//+p3EXpvebZSLeWLNgg2SPu73gyNjQgLSBjb3JlIDE1MiByMjg1NCBlOWE1OTAzIC0gSC4yNjQvTVBFRy00IEFWQyBjb2RlYyAtIENvcHlsZWZ0IDIwMDMtMjAxNyAtIGh0dHA6Ly93d3cudmlkZW9sYW4ub3JnL3gyNjQuaHRtbCAtIG9wdGlvbnM6IGNhYmFjPTEgcmVmPTMgZGVibG9jaz0xOjA6MCBhbmFseXNlPTB4MToweDExMSBtZT1oZXggc3VibWU9NyBwc3k9MSBwc3lfcmQ9MS4wMDowLjAwIG1peGVkX3JlZj0xIG1lX3JhbmdlPTE2IGNocm9tYV9tZT0xIHRyZWxsaXM9MSA4eDhkY3Q9MCBjcW09MCBkZWFkem9uZT0yMSwxMSBmYXN0X3Bza2lwPTEgY2hyb21hX3FwX29mZnNldD00IHRocmVhZHM9NiBsb29rYWhlYWRfdGhyZWFkcz0xIHNsaWNlZF90aHJlYWRzPTAgbnI9MCBkZWNpbWF0ZT0xIGludGVybGFjZWQ9MCBibHVyYXlfY29tcGF0PTAgY29uc3RyYWluZWRfaW50cmE9MCBiZnJhbWVzPTMgYl9weXJhbWlkPTIgYl9hZGFwdD0xIGJfYmlhcz0wIGRpcmVjdD0xIHdlaWdodGI9MSBvcGVuX2dvcD0wIHdlaWdodHA9MiBrZXlpbnQ9MjUwIGtleWludF9taW49MjUgc2NlbmVjdXQ9NDAgaW50cmFfcmVmcmVzaD0wIHJjX2xvb2thaGVhZD00MCByYz1jcmYgbWJ0cmVlPTEgY3JmPTIzLjAgcWNvbXA9MC42MCBxcG1pbj0wIHFwbWF4PTY5IHFwc3RlcD00IGlwX3JhdGlvPTEuNDAgYXE9MToxLjAwAIAAAAL8ZYiEADP//vaG+BTYUyP+T7/8I/+5H7cfWfrixkIJvrVeQ9GAMl8a/5lGYaXpyc8t7R+vTNAEZz8ZS8pY/spyzVFwWHwKXAT75llFqRAcpX3GoyqjKTtV6/21oPnVVVyZCIUlHSDoeeyt661juOWCMkkrcw5URLeVd6hdi+sALLQKMIglUTjgKtxIM0DUwY08YVgyPbkTzoddgu7PyKtX9xUd1KmnviiKCVPggUpSOvG4XVksn9j+P+2Kqx+mHSPpT5Hk2L1Zqu24qVY3HUEj/DelsZwJ98fbHxZ+smR2+Szo2ip7gvUrdmDnLFzrbj80TV2kLVOr+aLoAbl3+HVXQMz5LK61xKuyHXBycAdCFbGzIj28cU7saEzL1k/gS5rq9oi0Gm3lrUHSrFfqKdKkff432nHEvSgLY1yR8ojbY+XHftqVM9xgoirRexfZMLV0lBzvxKv2qne9oEljWnEjfItUsMyNvTeyHxWnY4YgLCZhbgNShF0md+HrE6mLHz0m5AExcs/OobGxLCgQ/ZVc/7xYYDpR5NNGQfUObBSKK1YA5L5/0+pbiD3Wb6w3iH6dNrCQrL45jm+SbfxmMGJDEBwgnerwjudQN7cXu6O83wA1BEdEXxA/+BqRo/Pf2BaNhi+G3u2JrWG+OBuNCZL50BphZz45AYVWIE3DjNq7LgXc3fYI4/Tc/KGpDxfRUIqLNjTIkt2d7IjT8RfPSrZCkmG8J88lsqBTQWVyZmFTONLkADRDjuECun3dLjtM3kL4kvzVkPIfcuMToNN5JvgGZ4oCa7DJfH7Iii4e3uIpxTqdibZshybyiQ7Iz1FVSKItHDXr+GJzFQ/G1w9AAAVg3/O8FQJGAAmTYUod6Q99R3KxAiSS02TcwWM5lQAy78B8gBlUiyeYhR1TsIYmXLtbQyk2DsTCmuVkK8BdLoCoWl9YxfoP+C3eG4Ew6YbU+c7X23z+8yxdjAvpPHr2Ra+GsQK5MDjHdv2snM7ZvkCsAunnAws0SGf9zigABYUAAAAVQZohbEN//qeEASQz5qjRRIgORaWzAAAAHUGaQzwhkymEM//+nhAC6e6b3VEZv3Mc502KmwbhAAAAEAGeYmpCvwCayfOdaGF4scAAAAAZQZpkSeEPJlMCG//+p4QAdz2D/CcFuhJgQQAAAB1BmoZJ4Q8mUwURPDP//p4QAdpaKPrIa0Yh/eyoQQAAABABnqVqQr8AZJ2pbhs2psaBAAAAF0Gap0nhDyZTAhn//p4QAuXBjn6X9yWpAAAAG0GayEnhDyZTAhv//qeEAMK6tIISiBO/6NZvQAAAAB9BmupJ4Q8mUwURPDf//qeEAMe62MCGY/OMAFiHctWwAAAAEAGfCWpCvwCj0o3mmKtpBMEAAAAZQZsLSeEPJlMCG//+p4QAf32D/CcFuhJZQAAAABlBmyxJ4Q8mUwId//6plgAqnvq+uxBuKg0wAAAAGUGbUEnhDyZTAh3//qmWABvvaX9f72Ga5C0AAAAQQZ9uRRE8L/8AILQGbg3ysQAAAA8Bn410Qr8ALXaO6O2+Ff8AAAAQAZ+PakK/ACvWUd7PH284gAAAABNBm5RJqEFomUwId//+qZYAAJWAAAAADEGfskURLC//AACygQAAABABn9F0Qr8AQ4QBz+tA5LDAAAAAEAGf02pCvwBDbWu6yGHJYYAAAAATQZvYSahBbJlMCHf//qmWAACVgQAAAAxBn/ZFFSwv/wAAsoAAAAAQAZ4VdEK/AEOEAc/rQOSwwQAAABABnhdqQr8AQ21rushhyWGBAAAAE0GaHEmoQWyZTAh3//6plgAAlYAAAAAMQZ46RRUsL/8AALKBAAAAEAGeWXRCvwBDhAHP60DksMAAAAAQAZ5bakK/AENta7rIYclhgQAAABNBmkBJqEFsmUwId//+qZYAAJWBAAAADEGefkUVLC//AACygAAAABABnp10Qr8AQ4QBz+tA5LDAAAAAEAGen2pCvwBDbWu6yGHJYYEAAAATQZqESahBbJlMCHf//qmWAACVgAAAAAxBnqJFFSwv/wAAsoEAAAAQAZ7BdEK/AEOEAc/rQOSwwAAAABABnsNqQr8AQ21rushhyWGBAAAAE0GayEmoQWyZTAh3//6plgAAlYEAAAAMQZ7mRRUsL/8AALKBAAAAEAGfBXRCvwBDhAHP60DksMEAAAAQAZ8HakK/AENta7rIYclhgAAAABNBmwxJqEFsmUwId//+qZYAAJWAAAAADEGfKkUVLC//AACygQAAABABn0l0Qr8AQ4QBz+tA5LDAAAAAEAGfS2pCvwBDbWu6yGHJYYAAAAATQZtQSahBbJlMCHf//qmWAACVgQAAAAxBn25FFSwv/wAAsoEAAAAQAZ+NdEK/AEOEAc/rQOSwwQAAABABn49qQr8AQ21rushhyWGAAAAAE0GblEmoQWyZTAh3//6plgAAlYAAAAAMQZ+yRRUsL/8AALKBAAAAEAGf0XRCvwBDhAHP60DksMAAAAAQAZ/TakK/AENta7rIYclhgAAAABxBm9hJqEFsmUwId//+qZYAK3pZi0zQHd9GPXDzAAAAEEGf9kUVLC//ADOKu7/N6TAAAAAPAZ4VdEK/AEOEAdCcl7DBAAAADwGeF2pCvwBFdiPJgevcJwAAABNBmhxJqEFsmUwId//+qZYAAJWAAAAAEEGeOkUVLC//ADORLZv0fScAAAAPAZ5ZdEK/AEVdlCk2yVWBAAAADwGeW2pCvwBFdiPJgevcJwAAABNBmkBJqEFsmUwId//+qZYAAJWBAAAAEEGefkUVLC//ADORLZv0fSYAAAAPAZ6ddEK/AEVdlCk2yVWBAAAADwGen2pCvwBFdiPJgevcJwAAABxBmoRJqEFsmUwId//+qZYAQAo6hBmgU+jH6Yy8AAAAEkGeokUVLC//AE1z9y3WFrk83QAAAA8BnsF0Qr8ARV2UKTbJVYEAAAAQAZ7DakK/AGmdqOV/bh9pwQAAABNBmshJqEFsmUwId//+qZYAAJWBAAAAEEGe5kUVLC//AE19A07WSeMAAAAQAZ8FdEK/AGmAQuA/J/+04QAAABABnwdqQr8AaZ2o5X9uH2nAAAAAE0GbDEmoQWyZTAh3//6plgAAlYAAAAAQQZ8qRRUsL/8ATX0DTtZJ4wAAABABn0l0Qr8AaYBC4D8n/7TgAAAAEAGfS2pCvwBpnajlf24facAAAAAZQZtQSahBbJlMCG///qeEAH99g/zV1E8ODwAAABBBn25FFSwv/wBNc/QcodZlAAAADwGfjXRCvwCj9AOhOS8CwQAAABABn49qQr8AaYltOvAE/sqAAAAAGkGbkUmoQWyZTAh3//6plgAqXyDNAHpL7A0wAAAAEkGbtUnhClJlMCHf/qmWAACVgQAAAAxBn9NFNEwv/wAAsoAAAAAQAZ/ydEK/AGmsq7q/Hd/dIAAAABABn/RqQr8AQpUjvZ4+3euBAAAAE0Gb+UmoQWiZTAh3//6plgAAlYAAAAAMQZ4XRREsL/8AALKBAAAAEAGeNnRCvwBprKu6vx3f3SEAAAAQAZ44akK/AEKVI72ePt3rgAAAABNBmj1JqEFsmUwId//+qZYAAJWBAAAAFEGeW0UVLC//ADG7hedo46ZyqwnkAAAAEAGeenRCvwBFdx3lbKHpYYEAAAAQAZ58akK/AEN2iE3GfXp0CQAAABNBmmFJqEFsmUwId//+qZYAAJWAAAAADEGen0UVLC//AACygAAAABABnr50Qr8Aaayrur8d390hAAAAEAGeoGpCvwBClSO9nj7d64AAAAATQZqlSahBbJlMCHf//qmWAACVgQAAAAxBnsNFFSwv/wAAsoAAAAAQAZ7idEK/AGmsq7q/Hd/dIQAAABABnuRqQr8AQpUjvZ4+3euBAAAAE0Ga6UmoQWyZTAh3//6plgAAlYEAAAAMQZ8HRRUsL/8AALKBAAAAEAGfJnRCvwBprKu6vx3f3SAAAAAQAZ8oakK/AEKVI72ePt3rgAAAABNBmy1JqEFsmUwId//+qZYAAJWBAAAADEGfS0UVLC//AACygAAAABABn2p0Qr8Aaayrur8d390gAAAAEAGfbGpCvwBClSO9nj7d64EAAAAcQZtxSahBbJlMCHf//qmWACqe+r74wqBaKYhqkwAAABBBn49FFSwv/wAyQjjO5SehAAAAEAGfrnRCvwBFdx3lbKHpYYAAAAAPAZ+wakK/AC18oHkwRjaAAAAAE0GbtUmoQWyZTAh3//6plgAAlYEAAAAMQZ/TRRUsL/8AALKAAAAADwGf8nRCvwAs9lHEdl2V/wAAAA8Bn/RqQr8ALPZRus9We70AAAATQZv5SahBbJlMCHf//qmWAACVgAAAAAxBnhdFFSwv/wAAsoEAAAAPAZ42dEK/ACz2UcR2XZX/AAAADwGeOGpCvwAs9lG6z1Z7vQAAABNBmj1JqEFsmUwId//+qZYAAJWBAAAADEGeW0UVLC//AACygAAAAA8Bnnp0Qr8ALPZRxHZdlf8AAAAPAZ58akK/ACz2UbrPVnu9AAAAHEGaYUmoQWyZTAhv//6nhABT8VsxP9Xb3U/avGgAAAAQQZ6fRRUsL/8AMkq8b2CReAAAAA8Bnr50Qr8ALXGEBkly/4EAAAAQAZ6gakK/AEN2iE3GfXp0CAAAABJBmqVJqEFsmUwIZ//+nhAABH0AAAAMQZ7DRRUsL/8AALKAAAAAEAGe4nRCvwBprKu6vx3f3SEAAAAQAZ7kakK/AEKVI72ePt3rgQAAABpBmuZJqEFsmUwIb//+p4QAfs4z/Vb5j8Qz4QAAAB1BmwhJ4QpSZTBRUsM//p4QAvde64jn9I6+/pe1oQAAABABnydqQr8Ao+DruH2zaQUwAAAAGEGbKUnhDomUwIZ//p4QAvvxOzrdAyQz7gAAABhBm0pJ4Q8mUwIb//6nhAC++6nH+H1bbQMAAAAdQZtsSeEPJlMFETwz//6eEALX8TvxRLznTYqA2BAAAAAQAZ+LakK/AJbJ851oYXi0wAAAABlBm41J4Q8mUwIb//6nhAB0fYP8JwW6EmLBAAAAGUGbrknhDyZTAhv//qeEAEu+On1HGhIcWUEAAAAeQZvQSeEPJlMFETw3//6nhAAxPsH+WukGrZihIoRtAAAAEAGf72pCvwAnzboqs4/AfrAAAAASQZvySeEPJlMFPDf//qeEAAEnAAAADwGeEWpCvwAZKxA8mCNkgQAAABJBmhRJ4Q8mUwU8N//+p4QAAScAAAAPAZ4zakK/ABjdROQMjaOLAAAAEkGaNknhDyZTBTw3//6nhAABJwAAAA8BnlVqQr8AGN1E5AyNo4sAAAASQZpYSeEPJlMFPDf//qeEAAEnAAAADwGed2pCvwAY3UTkDI2jiwAAABJBmnpJ4Q8mUwU8N//+p4QAAScAAAAPAZ6ZakK/ABjdROQMjaOLAAAAEkGanEnhDyZTBTw3//6nhAABJwAAAA8BnrtqQr8AGN1E5AyNo4sAAAASQZq+SeEPJlMFPDf//qeEAAEnAAAADwGe3WpCvwAY3UTkDI2jiwAAABJBmsBJ4Q8mUwU8N//+p4QAAScAAAAPAZ7/akK/ABjdROQMjaOLAAAAEkGa4knhDyZTBTw3//6nhAABJwAAAA8BnwFqQr8AGN1E5AyNo4sAAAASQZsESeEPJlMFPDP//p4QAAR8AAAADwGfI2pCvwAY3UTkDI2jiwAAABhBmyVJ4Q8mUwIZ//6eEAB3Pf3dpzdxcKcAAAAYQZtGSeEPJlMCGf/+nhAAdH393ac3cXC7AAAAGUGbZ0nhDyZTAhv//qeEAB0ffZ9RxoSHOOEAAAAeQZuJSeEPJlMFETw3//6nhAAS746fary2fCjW6JdLAAAAEAGfqGpCvwAPMEB8B9fwLDAAAAAYQZusSeEPJlMCGf/+nhAAR04Rz+HOb66fAAAAD0GfykURPCv/AA7YP+bKYAAAAA0Bn+tqQr8ADt2BQNTmAAAAGUGb7UmoQWiZTAhn//6eEABuZDHP4c5vreUAAAAbQZoOSeEKUmUwIZ/+nhAArHBjn8OfEBTP1rHBAAAAGEGaL0nhDomUwIb//qeEAENQBZtjFCVUwQAAABlBmlBJ4Q8mUwIb//6nhABpaRP9SOjSGovAAAAAHkGacknhDyZTBRE8N//+p4QAno+aprNuXpzvs9v7/gAAABABnpFqQr8AfxnzG6HJBxelAAAAGEGalUnhDyZTAhn//p4QAnohx/PBfyQ0zAAAAA9BnrNFETwr/wCCybhrekAAAAAOAZ7UakK/AIEqRyIQ1L0AAAAZQZrWSahBaJlMCG///qeEAKditIIRP8ttKwAAAB1BmvhJ4QpSZTBREsN//qeEAKh8afxFsh6lboleywAAAA8BnxdqQr8AhsrdKNIeJkcAAAAYQZsZSeEOiZTAhv/+p4QAaf2D17M+CK9JAAAAGUGbOknhDyZTAh3//qmWADQe0vC1BP7AQsEAAAARQZteSeEPJlMCG//+p4QAAScAAAAMQZ98RRE8L/8AALKBAAAADwGfm3RCvwBQ7KOI7LsrHwAAAA8Bn51qQr8AUOyjdZ6s9ekAAAAcQZuCSahBaJlMCGf//p4QAmohyrcF52vr77bb0AAAABBBn6BFESwv/wBflXd/m8KxAAAADwGf33RCvwBR4wgMkuWPgAAAABABn8FqQr8AfxmDyYHr26CBAAAAGUGbw0moQWyZTAhn//6eEAOwU45/DnN9ZUkAAAAbQZvkSeEKUmUwIb/+p4QBjggs20gBgH9/AUXBAAAAG0GaCEnhDomUwIX//oywEA7GfLj6dRq3Dukx0wAAABFBniZFETwv/wFlEUdUZE+5OQAAAA8BnkV0Qr8B32lYwclmUMEAAAAQAZ5HakK/ATaT5zrQwvDxwAAAABpBmklLqEIQWiRGCCgH8gH9h4AhX/44QAARcAAADBhtb292AAAAbG12aGQAAAAAAAAAAAAAAAAAAAPoAAAfkAABAAABAAAAAAAAAAAAAAAAAQAAAAAAAAAAAAAAAAAAAAEAAAAAAAAAAAAAAAAAAEAAAAAAAAAAAAAAAAAAAAAAAAAAAAAAAAAAAAAAAAACAAALQnRyYWsAAABcdGtoZAAAAAMAAAAAAAAAAAAAAAEAAAAAAAAfkAAAAAAAAAAAAAAAAAAAAAAAAQAAAAAAAAAAAAAAAAAAAAEAAAAAAAAAAAAAAAAAAEAAAAABEAAAARAAAAAAACRlZHRzAAAAHGVsc3QAAAAAAAAAAQAAH5AAAAQAAAEAAAAACrptZGlhAAAAIG1kaGQAAAAAAAAAAAAAAAAAADIAAAGUAFXEAAAAAAAtaGRscgAAAAAAAAAAdmlkZQAAAAAAAAAAAAAAAFZpZGVvSGFuZGxlcgAAAAplbWluZgAAABR2bWhkAAAAAQAAAAAAAAAAAAAAJGRpbmYAAAAcZHJlZgAAAAAAAAABAAAADHVybCAAAAABAAAKJXN0YmwAAACVc3RzZAAAAAAAAAABAAAAhWF2YzEAAAAAAAAAAQAAAAAAAAAAAAAAAAAAAAABEAEQAEgAAABIAAAAAAAAAAEAAAAAAAAAAAAAAAAAAAAAAAAAAAAAAAAAAAAAAAAAAAAY//8AAAAvYXZjQwH0AA3/4QAXZ/QADZGbKCIR0IAAAAMAgAAAGQeKFMsBAAVo6+PESAAAABhzdHRzAAAAAAAAAAEAAADKAAACAAAAABRzdHNzAAAAAAAAAAEAAAABAAAF8GN0dHMAAAAAAAAAvAAAAAIAAAQAAAAAAQAABgAAAAABAAACAAAAAAEAAAQAAAAAAQAABgAAAAABAAACAAAAAAIAAAQAAAAAAQAABgAAAAABAAACAAAAAAIAAAQAAAAAAQAACgAAAAABAAAEAAAAAAEAAAAAAAAAAQAAAgAAAAABAAAKAAAAAAEAAAQAAAAAAQAAAAAAAAABAAACAAAAAAEAAAoAAAAAAQAABAAAAAABAAAAAAAAAAEAAAIAAAAAAQAACgAAAAABAAAEAAAAAAEAAAAAAAAAAQAAAgAAAAABAAAKAAAAAAEAAAQAAAAAAQAAAAAAAAABAAACAAAAAAEAAAoAAAAAAQAABAAAAAABAAAAAAAAAAEAAAIAAAAAAQAACgAAAAABAAAEAAAAAAEAAAAAAAAAAQAAAgAAAAABAAAKAAAAAAEAAAQAAAAAAQAAAAAAAAABAAACAAAAAAEAAAoAAAAAAQAABAAAAAABAAAAAAAAAAEAAAIAAAAAAQAACgAAAAABAAAEAAAAAAEAAAAAAAAAAQAAAgAAAAABAAAKAAAAAAEAAAQAAAAAAQAAAAAAAAABAAACAAAAAAEAAAoAAAAAAQAABAAAAAABAAAAAAAAAAEAAAIAAAAAAQAACgAAAAABAAAEAAAAAAEAAAAAAAAAAQAAAgAAAAABAAAKAAAAAAEAAAQAAAAAAQAAAAAAAAABAAACAAAAAAEAAAoAAAAAAQAABAAAAAABAAAAAAAAAAEAAAIAAAAAAQAACgAAAAABAAAEAAAAAAEAAAAAAAAAAQAAAgAAAAABAAAKAAAAAAEAAAQAAAAAAQAAAAAAAAABAAACAAAAAAEAAAQAAAAAAQAACgAAAAABAAAEAAAAAAEAAAAAAAAAAQAAAgAAAAABAAAKAAAAAAEAAAQAAAAAAQAAAAAAAAABAAACAAAAAAEAAAoAAAAAAQAABAAAAAABAAAAAAAAAAEAAAIAAAAAAQAACgAAAAABAAAEAAAAAAEAAAAAAAAAAQAAAgAAAAABAAAKAAAAAAEAAAQAAAAAAQAAAAAAAAABAAACAAAAAAEAAAoAAAAAAQAABAAAAAABAAAAAAAAAAEAAAIAAAAAAQAACgAAAAABAAAEAAAAAAEAAAAAAAAAAQAAAgAAAAABAAAKAAAAAAEAAAQAAAAAAQAAAAAAAAABAAACAAAAAAEAAAoAAAAAAQAABAAAAAABAAAAAAAAAAEAAAIAAAAAAQAACgAAAAABAAAEAAAAAAEAAAAAAAAAAQAAAgAAAAABAAAKAAAAAAEAAAQAAAAAAQAAAAAAAAABAAACAAAAAAEAAAoAAAAAAQAABAAAAAABAAAAAAAAAAEAAAIAAAAAAQAACgAAAAABAAAEAAAAAAEAAAAAAAAAAQAAAgAAAAABAAAEAAAAAAEAAAYAAAAAAQAAAgAAAAACAAAEAAAAAAEAAAYAAAAAAQAAAgAAAAACAAAEAAAAAAEAAAYAAAAAAQAAAgAAAAABAAAGAAAAAAEAAAIAAAAAAQAABgAAAAABAAACAAAAAAEAAAYAAAAAAQAAAgAAAAABAAAGAAAAAAEAAAIAAAAAAQAABgAAAAABAAACAAAAAAEAAAYAAAAAAQAAAgAAAAABAAAGAAAAAAEAAAIAAAAAAQAABgAAAAABAAACAAAAAAEAAAYAAAAAAQAAAgAAAAABAAAGAAAAAAEAAAIAAAAAAwAABAAAAAABAAAGAAAAAAEAAAIAAAAAAQAACAAAAAACAAACAAAAAAQAAAQAAAAAAQAABgAAAAABAAACAAAAAAEAAAgAAAAAAgAAAgAAAAABAAAEAAAAAAEAAAYAAAAAAQAAAgAAAAACAAAEAAAAAAEAAAoAAAAAAQAABAAAAAABAAAAAAAAAAEAAAIAAAAAAQAACgAAAAABAAAEAAAAAAEAAAAAAAAAAQAAAgAAAAACAAAEAAAAAAEAAAoAAAAAAQAABAAAAAABAAAAAAAAAAEAAAIAAAAAAQAABAAAAAAcc3RzYwAAAAAAAAABAAAAAQAAAMoAAAABAAADPHN0c3oAAAAAAAAAAAAAAMoAAAWxAAAAGQAAACEAAAAUAAAAHQAAACEAAAAUAAAAGwAAAB8AAAAjAAAAFAAAAB0AAAAdAAAAHQAAABQAAAATAAAAFAAAABcAAAAQAAAAFAAAABQAAAAXAAAAEAAAABQAAAAUAAAAFwAAABAAAAAUAAAAFAAAABcAAAAQAAAAFAAAABQAAAAXAAAAEAAAABQAAAAUAAAAFwAAABAAAAAUAAAAFAAAABcAAAAQAAAAFAAAABQAAAAXAAAAEAAAABQAAAAUAAAAFwAAABAAAAAUAAAAFAAAACAAAAAUAAAAEwAAABMAAAAXAAAAFAAAABMAAAATAAAAFwAAABQAAAATAAAAEwAAACAAAAAWAAAAEwAAABQAAAAXAAAAFAAAABQAAAAUAAAAFwAAABQAAAAUAAAAFAAAAB0AAAAUAAAAEwAAABQAAAAeAAAAFgAAABAAAAAUAAAAFAAAABcAAAAQAAAAFAAAABQAAAAXAAAAGAAAABQAAAAUAAAAFwAAABAAAAAUAAAAFAAAABcAAAAQAAAAFAAAABQAAAAXAAAAEAAAABQAAAAUAAAAFwAAABAAAAAUAAAAFAAAACAAAAAUAAAAFAAAABMAAAAXAAAAEAAAABMAAAATAAAAFwAAABAAAAATAAAAEwAAABcAAAAQAAAAEwAAABMAAAAgAAAAFAAAABMAAAAUAAAAFgAAABAAAAAUAAAAFAAAAB4AAAAhAAAAFAAAABwAAAAcAAAAIQAAABQAAAAdAAAAHQAAACIAAAAUAAAAFgAAABMAAAAWAAAAEwAAABYAAAATAAAAFgAAABMAAAAWAAAAEwAAABYAAAATAAAAFgAAABMAAAAWAAAAEwAAABYAAAATAAAAFgAAABMAAAAcAAAAHAAAAB0AAAAiAAAAFAAAABwAAAATAAAAEQAAAB0AAAAfAAAAHAAAAB0AAAAiAAAAFAAAABwAAAATAAAAEgAAAB0AAAAhAAAAEwAAABwAAAAdAAAAFQAAABAAAAATAAAAEwAAACAAAAAUAAAAEwAAABQAAAAdAAAAHwAAAB8AAAAVAAAAEwAAABQAAAAeAAAAFHN0Y28AAAAAAAAAAQAAADAAAABidWR0YQAAAFptZXRhAAAAAAAAACFoZGxyAAAAAAAAAABtZGlyYXBwbAAAAAAAAAAAAAAAAC1pbHN0AAAAJal0b28AAAAdZGF0YQAAAAEAAAAATGF2ZjU3LjgzLjEwMA==\" type=\"video/mp4\" />\n",
       "             </video>"
      ],
      "text/plain": [
       "<IPython.core.display.HTML object>"
      ]
     },
     "execution_count": 34,
     "metadata": {},
     "output_type": "execute_result"
    }
   ],
   "source": [
    "# Mentor training\n",
    "env = EnvironmentExploring(grid_size=size, max_time=T, temperature=0.3)\n",
    "#env = Environment(grid_size=size, max_time=T, temperature=0.3)\n",
    "agent = DQN_CNN(size, epsilon = 0.5, memory_size=2000, batch_size = 32,n_state=3)\n",
    "#agent = DQN_CNN(size, lr=.1, epsilon = 0.5, memory_size=2000, batch_size = 32,n_state=2)\n",
    "train_explore(agent, env, epochs_train, prefix='cnn_train_full_explore', epsilon_decay=0.99) \n",
    "HTML(display_videos('cnn_train_full_explore30.mp4'))"
   ]
  },
  {
   "cell_type": "code",
   "execution_count": 35,
   "metadata": {},
   "outputs": [
    {
     "name": "stdout",
     "output_type": "stream",
     "text": [
      "_________________________________________________________________\n",
      "Layer (type)                 Output Shape              Param #   \n",
      "=================================================================\n",
      "flatten_13 (Flatten)         (None, 75)                0         \n",
      "_________________________________________________________________\n",
      "dense_25 (Dense)             (None, 30)                2280      \n",
      "_________________________________________________________________\n",
      "dense_26 (Dense)             (None, 10)                310       \n",
      "_________________________________________________________________\n",
      "dense_27 (Dense)             (None, 4)                 44        \n",
      "=================================================================\n",
      "Total params: 2,634\n",
      "Trainable params: 2,634\n",
      "Non-trainable params: 0\n",
      "_________________________________________________________________\n",
      "None\n",
      "Epoch 001/030 | Loss 0.3405 | Win/lose count 5.5/9.0 (-3.5) | Agent epsilon: 0.500000\n",
      "Epoch 002/030 | Loss 0.0680 | Win/lose count 5.0/10.0 (-5.0) | Agent epsilon: 0.495000\n",
      "Epoch 003/030 | Loss 0.0568 | Win/lose count 4.5/4.0 (0.5) | Agent epsilon: 0.485149\n",
      "Epoch 004/030 | Loss 0.0667 | Win/lose count 8.0/3.0 (5.0) | Agent epsilon: 0.470740\n",
      "Epoch 005/030 | Loss 0.0096 | Win/lose count 8.5/2.0 (6.5) | Agent epsilon: 0.452191\n",
      "Epoch 006/030 | Loss 0.0059 | Win/lose count 11.5/8.0 (3.5) | Agent epsilon: 0.430029\n",
      "Epoch 007/030 | Loss 0.0337 | Win/lose count 6.0/5.0 (1.0) | Agent epsilon: 0.404864\n",
      "Epoch 008/030 | Loss 0.0023 | Win/lose count 7.0/3.0 (4.0) | Agent epsilon: 0.377360\n",
      "Epoch 009/030 | Loss 0.0022 | Win/lose count 7.0/4.0 (3.0) | Agent epsilon: 0.348207\n",
      "Epoch 010/030 | Loss 0.0225 | Win/lose count 8.0/2.0 (6.0) | Agent epsilon: 0.318093\n",
      "Epoch 011/030 | Loss 0.0015 | Win/lose count 11.0/5.0 (6.0) | Agent epsilon: 0.287677\n",
      "Epoch 012/030 | Loss 0.0007 | Win/lose count 11.0/4.0 (7.0) | Agent epsilon: 0.257569\n",
      "Epoch 013/030 | Loss 0.0017 | Win/lose count 10.5/2.0 (8.5) | Agent epsilon: 0.228305\n",
      "Epoch 014/030 | Loss 0.0009 | Win/lose count 10.5/2.0 (8.5) | Agent epsilon: 0.200342\n",
      "Epoch 015/030 | Loss 0.0003 | Win/lose count 4.0/4.0 (0.0) | Agent epsilon: 0.174047\n",
      "Epoch 016/030 | Loss 0.0010 | Win/lose count 18.5/1.0 (17.5) | Agent epsilon: 0.149690\n",
      "Epoch 017/030 | Loss 0.0005 | Win/lose count 14.0/4.0 (10.0) | Agent epsilon: 0.127455\n",
      "Epoch 018/030 | Loss 0.0056 | Win/lose count 11.5/3.0 (8.5) | Agent epsilon: 0.107437\n",
      "Epoch 019/030 | Loss 0.0004 | Win/lose count 1.5/3.0 (-1.5) | Agent epsilon: 0.089658\n",
      "Epoch 020/030 | Loss 0.0003 | Win/lose count 5.0/1.0 (4.0) | Agent epsilon: 0.074072\n",
      "Epoch 021/030 | Loss 0.0003 | Win/lose count 14.0/0 (14.0) | Agent epsilon: 0.060584\n",
      "Epoch 022/030 | Loss 0.0013 | Win/lose count 11.0/0 (11.0) | Agent epsilon: 0.049057\n",
      "Epoch 023/030 | Loss 0.0015 | Win/lose count 6.0/0 (6.0) | Agent epsilon: 0.039325\n",
      "Epoch 024/030 | Loss 0.0001 | Win/lose count 2.5/1.0 (1.5) | Agent epsilon: 0.031209\n",
      "Epoch 025/030 | Loss 0.0004 | Win/lose count 0/0 (0) | Agent epsilon: 0.024520\n",
      "Epoch 026/030 | Loss 0.0003 | Win/lose count 3.0/0 (3.0) | Agent epsilon: 0.019073\n",
      "Epoch 027/030 | Loss 0.0002 | Win/lose count 3.5/1.0 (2.5) | Agent epsilon: 0.014687\n",
      "Epoch 028/030 | Loss 0.0005 | Win/lose count 4.5/0 (4.5) | Agent epsilon: 0.011196\n",
      "Epoch 029/030 | Loss 0.0003 | Win/lose count 5.5/0 (5.5) | Agent epsilon: 0.008450\n",
      "Epoch 030/030 | Loss 0.0002 | Win/lose count 7.5/0 (7.5) | Agent epsilon: 0.006314\n"
     ]
    },
    {
     "data": {
      "text/html": [
       "<video alt=\"test\" controls>\n",
       "                <source src=\"data:video/mp4;base64,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\" type=\"video/mp4\" />\n",
       "             </video>"
      ],
      "text/plain": [
       "<IPython.core.display.HTML object>"
      ]
     },
     "execution_count": 35,
     "metadata": {},
     "output_type": "execute_result"
    }
   ],
   "source": [
    "# Learner training\n",
    "env = EnvironmentExploring(grid_size=size, max_time=T, temperature=0.3)\n",
    "learner = DQN_imitate(mentor=agent, grid_size=size, epsilon=0.5, memory_size=2000, batch_size=32, n_state=3) # mentor = expert DQN CNN agent\n",
    "train_explore(learner, env, epochs_train, prefix=\"fc_train_imitate\", epsilon_decay=0.99)\n",
    "HTML(display_videos(\"fc_train_imitate30.mp4\"))"
   ]
  },
  {
   "cell_type": "code",
   "execution_count": 36,
   "metadata": {},
   "outputs": [
    {
     "name": "stdout",
     "output_type": "stream",
     "text": [
      "Win/lose count 5.0/0. Average score (5.0)\n",
      "Win/lose count 5.0/0. Average score (5.0)\n",
      "Win/lose count 3.0/0. Average score (4.333333333333333)\n",
      "Win/lose count 7.5/0. Average score (5.125)\n",
      "Win/lose count 0.5/0. Average score (4.2)\n",
      "Win/lose count 3.5/0. Average score (4.083333333333333)\n",
      "Win/lose count 5.0/1.0. Average score (4.071428571428571)\n",
      "Win/lose count 5.5/0. Average score (4.25)\n",
      "Win/lose count 4.5/0. Average score (4.277777777777778)\n",
      "Win/lose count 1.0/0. Average score (3.95)\n",
      "Win/lose count 1.0/0. Average score (3.6818181818181817)\n",
      "Win/lose count 1.0/0. Average score (3.4583333333333335)\n",
      "Win/lose count 3.5/0. Average score (3.4615384615384617)\n",
      "Win/lose count 2.5/0. Average score (3.392857142857143)\n",
      "Win/lose count 2.0/0. Average score (3.3)\n",
      "Win/lose count 8.0/1.0. Average score (3.53125)\n",
      "Win/lose count 2.0/0. Average score (3.4411764705882355)\n",
      "Win/lose count 3.0/0. Average score (3.4166666666666665)\n",
      "Win/lose count 8.5/1.0. Average score (3.6315789473684212)\n",
      "Win/lose count 5.0/0. Average score (3.7)\n",
      "Final score: 3.7\n"
     ]
    },
    {
     "data": {
      "text/html": [
       "<video alt=\"test\" controls>\n",
       "                <source src=\"data:video/mp4;base64,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\" type=\"video/mp4\" />\n",
       "             </video>"
      ],
      "text/plain": [
       "<IPython.core.display.HTML object>"
      ]
     },
     "execution_count": 36,
     "metadata": {},
     "output_type": "execute_result"
    }
   ],
   "source": [
    "# Evaluation\n",
    "test(learner,env,epochs_test,prefix='fc_test_imitate', epsilon_greedy=True) # ϵ-greedy exploration during testing\n",
    "HTML(display_videos('fc_test_imitate20.mp4'))"
   ]
  },
  {
   "cell_type": "markdown",
   "metadata": {},
   "source": [
    "**Comment:**\n",
    "\n",
    "* We get a better average score using an expert CNN DQN as a mentor for the FC DQN to imitate that when training the FC DQN from scratch (but now we also use $\\epsilon$-greedy and count-based explorations as opposed to the FC DQN from scratch). Note however that the learner tends to get stuck and not explore much (this is striking if we omit the $\\epsilon$-greedy exploration in testing.\n",
    "\n",
    "* Note that our implementation directly exploits the expert Q function and not only the action taken at a given state, hence it does not imitate the mentor in the same way as it would if it were only given the action performed by the mentor given the state. Here we have access to the internal model of the expert, which is not the case in practice.\n",
    "\n",
    "* In the following section we learn by using strictly the mentor memory instead of trying to imitate it by having access to its internal model."
   ]
  },
  {
   "cell_type": "markdown",
   "metadata": {},
   "source": [
    "***"
   ]
  },
  {
   "cell_type": "code",
   "execution_count": 37,
   "metadata": {},
   "outputs": [],
   "source": [
    "class DQN_imitate(DQN):\n",
    "    def __init__(self, mentor, *args, lr=0.1,**kwargs):\n",
    "        super(DQN_imitate, self).__init__( *args,**kwargs)\n",
    "        \n",
    "        # NN Model\n",
    "        self.mentor = mentor\n",
    "        \n",
    "        ####### FILL IN\n",
    "        model = Sequential()\n",
    "        model.add(Flatten(input_shape=(5, 5, self.n_state,)))\n",
    "        model.add(Dense(30, activation=\"linear\"))\n",
    "        model.add(Dense(10, activation=\"linear\"))\n",
    "        model.add(Dense(4))\n",
    "        \n",
    "        #model.compile(sgd(lr=lr, decay=1e-4, momentum=0.0), \"mse\")\n",
    "        model.compile(\"adam\", \"mse\")\n",
    "        self.model = model\n",
    "        print(self.model.summary())\n",
    "    \n",
    "    def reinforce(self, s_, n_s_, a_, r_, game_over_):\n",
    "        # Two steps: first memorize the states, second learn from the pool\n",
    "\n",
    "        # We save the state in the memory but do not use it\n",
    "        self.memory.remember([s_, n_s_, a_, r_, game_over_])\n",
    "        \n",
    "        input_states = np.zeros((self.batch_size, 5,5,self.n_state))\n",
    "        target_q = np.zeros((self.batch_size, 4))\n",
    "        \n",
    "        for i in range(self.batch_size):\n",
    "            ######## FILL IN\n",
    "            # Use mentor memory\n",
    "            state, next_state, action, reward, game_over = self.mentor.memory.random_access()\n",
    "            input_states[i] = state\n",
    "            # Get the current model prediction on the current state \n",
    "            target_q[i] = self.model.predict(state.reshape(1, 5, 5, self.n_state))\n",
    "            # Given the action taken, update the target with the next state prediction when the game is on\n",
    "            if game_over:\n",
    "                ######## FILL IN\n",
    "                target_q[i, action] = reward\n",
    "            else:\n",
    "                ######## FILL IN\n",
    "                target_q[i, action] = reward + self.discount * np.max(self.model.predict(next_state.reshape(1, 5, 5, self.n_state)))\n",
    "        ######## FILL IN\n",
    "        # HINT: Clip the target to avoid exploiding gradients.. -- clipping is a bit tighter\n",
    "        target_q = np.clip(target_q, -3, 3)\n",
    "\n",
    "        l = self.model.train_on_batch(input_states, target_q)\n",
    "\n",
    "        return l"
   ]
  },
  {
   "cell_type": "code",
   "execution_count": 38,
   "metadata": {},
   "outputs": [
    {
     "name": "stdout",
     "output_type": "stream",
     "text": [
      "_________________________________________________________________\n",
      "Layer (type)                 Output Shape              Param #   \n",
      "=================================================================\n",
      "flatten_14 (Flatten)         (None, 75)                0         \n",
      "_________________________________________________________________\n",
      "dense_28 (Dense)             (None, 30)                2280      \n",
      "_________________________________________________________________\n",
      "dense_29 (Dense)             (None, 10)                310       \n",
      "_________________________________________________________________\n",
      "dense_30 (Dense)             (None, 4)                 44        \n",
      "=================================================================\n",
      "Total params: 2,634\n",
      "Trainable params: 2,634\n",
      "Non-trainable params: 0\n",
      "_________________________________________________________________\n",
      "None\n",
      "Epoch 001/030 | Loss 0.0504 | Win/lose count 4.0/5.0 (-1.0) | Agent epsilon: 0.500000\n",
      "Epoch 002/030 | Loss 0.0061 | Win/lose count 8.0/3.0 (5.0) | Agent epsilon: 0.495000\n",
      "Epoch 003/030 | Loss 0.0066 | Win/lose count 11.5/14.0 (-2.5) | Agent epsilon: 0.485149\n",
      "Epoch 004/030 | Loss 0.0513 | Win/lose count 2.5/2.0 (0.5) | Agent epsilon: 0.470740\n",
      "Epoch 005/030 | Loss 0.0556 | Win/lose count 12.5/10.0 (2.5) | Agent epsilon: 0.452191\n",
      "Epoch 006/030 | Loss 0.0020 | Win/lose count 9.5/7.0 (2.5) | Agent epsilon: 0.430029\n",
      "Epoch 007/030 | Loss 0.0047 | Win/lose count 6.5/7.0 (-0.5) | Agent epsilon: 0.404864\n",
      "Epoch 008/030 | Loss 0.0300 | Win/lose count 8.5/3.0 (5.5) | Agent epsilon: 0.377360\n",
      "Epoch 009/030 | Loss 0.0026 | Win/lose count 4.5/3.0 (1.5) | Agent epsilon: 0.348207\n",
      "Epoch 010/030 | Loss 0.0016 | Win/lose count 2.5/1.0 (1.5) | Agent epsilon: 0.318093\n",
      "Epoch 011/030 | Loss 0.0028 | Win/lose count 12.0/6.0 (6.0) | Agent epsilon: 0.287677\n",
      "Epoch 012/030 | Loss 0.0027 | Win/lose count 13.5/9.0 (4.5) | Agent epsilon: 0.257569\n",
      "Epoch 013/030 | Loss 0.0015 | Win/lose count 14.5/5.0 (9.5) | Agent epsilon: 0.228305\n",
      "Epoch 014/030 | Loss 0.0410 | Win/lose count 4.0/2.0 (2.0) | Agent epsilon: 0.200342\n",
      "Epoch 015/030 | Loss 0.0877 | Win/lose count 12.5/9.0 (3.5) | Agent epsilon: 0.174047\n",
      "Epoch 016/030 | Loss 0.0012 | Win/lose count 5.5/8.0 (-2.5) | Agent epsilon: 0.149690\n",
      "Epoch 017/030 | Loss 0.0434 | Win/lose count 4.0/4.0 (0.0) | Agent epsilon: 0.127455\n",
      "Epoch 018/030 | Loss 0.0291 | Win/lose count 10.0/3.0 (7.0) | Agent epsilon: 0.107437\n",
      "Epoch 019/030 | Loss 0.0019 | Win/lose count 9.5/3.0 (6.5) | Agent epsilon: 0.089658\n",
      "Epoch 020/030 | Loss 0.0022 | Win/lose count 4.5/2.0 (2.5) | Agent epsilon: 0.074072\n",
      "Epoch 021/030 | Loss 0.0019 | Win/lose count 7.5/0 (7.5) | Agent epsilon: 0.060584\n",
      "Epoch 022/030 | Loss 0.0016 | Win/lose count 12.0/1.0 (11.0) | Agent epsilon: 0.049057\n",
      "Epoch 023/030 | Loss 0.0012 | Win/lose count 8.5/2.0 (6.5) | Agent epsilon: 0.039325\n",
      "Epoch 024/030 | Loss 0.0032 | Win/lose count 7.5/2.0 (5.5) | Agent epsilon: 0.031209\n",
      "Epoch 025/030 | Loss 0.0049 | Win/lose count 6.5/1.0 (5.5) | Agent epsilon: 0.024520\n",
      "Epoch 026/030 | Loss 0.0038 | Win/lose count 10.5/3.0 (7.5) | Agent epsilon: 0.019073\n",
      "Epoch 027/030 | Loss 0.0015 | Win/lose count 5.5/1.0 (4.5) | Agent epsilon: 0.014687\n",
      "Epoch 028/030 | Loss 0.0017 | Win/lose count 8.0/0 (8.0) | Agent epsilon: 0.011196\n",
      "Epoch 029/030 | Loss 0.0024 | Win/lose count 7.5/0 (7.5) | Agent epsilon: 0.008450\n",
      "Epoch 030/030 | Loss 0.0044 | Win/lose count 4.5/0 (4.5) | Agent epsilon: 0.006314\n"
     ]
    },
    {
     "data": {
      "text/html": [
       "<video alt=\"test\" controls>\n",
       "                <source src=\"data:video/mp4;base64,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\" type=\"video/mp4\" />\n",
       "             </video>"
      ],
      "text/plain": [
       "<IPython.core.display.HTML object>"
      ]
     },
     "execution_count": 38,
     "metadata": {},
     "output_type": "execute_result"
    }
   ],
   "source": [
    "# Learner training\n",
    "env = EnvironmentExploring(grid_size=size, max_time=T, temperature=0.3)\n",
    "learner = DQN_imitate(mentor=agent, grid_size=size, epsilon=0.5, memory_size=2000, batch_size=32, n_state=3) # mentor = expert DQN CNN agent\n",
    "train_explore(learner, env, epochs_train, prefix=\"fc_train_imitate\", epsilon_decay=0.99)\n",
    "HTML(display_videos(\"fc_train_imitate30.mp4\"))"
   ]
  },
  {
   "cell_type": "code",
   "execution_count": 39,
   "metadata": {},
   "outputs": [
    {
     "name": "stdout",
     "output_type": "stream",
     "text": [
      "Win/lose count 3.0/1.0. Average score (2.0)\n",
      "Win/lose count 2.0/2.0. Average score (1.0)\n",
      "Win/lose count 4.0/0. Average score (2.0)\n",
      "Win/lose count 0.5/0. Average score (1.625)\n",
      "Win/lose count 1.0/0. Average score (1.5)\n",
      "Win/lose count 1.5/1.0. Average score (1.3333333333333333)\n",
      "Win/lose count 2.0/0. Average score (1.4285714285714286)\n",
      "Win/lose count 8.0/0. Average score (2.25)\n",
      "Win/lose count 1.5/1.0. Average score (2.0555555555555554)\n",
      "Win/lose count 2.5/1.0. Average score (2.0)\n",
      "Win/lose count 0/1.0. Average score (1.7272727272727273)\n",
      "Win/lose count 0.5/0. Average score (1.625)\n",
      "Win/lose count 3.0/1.0. Average score (1.6538461538461537)\n",
      "Win/lose count 1.0/0. Average score (1.6071428571428572)\n",
      "Win/lose count 0/0. Average score (1.5)\n",
      "Win/lose count 1.0/0. Average score (1.46875)\n",
      "Win/lose count 4.5/1.0. Average score (1.588235294117647)\n",
      "Win/lose count 5.5/0. Average score (1.8055555555555556)\n",
      "Win/lose count 5.5/0. Average score (2.0)\n",
      "Win/lose count 2.5/0. Average score (2.025)\n",
      "Final score: 2.025\n"
     ]
    },
    {
     "data": {
      "text/html": [
       "<video alt=\"test\" controls>\n",
       "                <source src=\"data:video/mp4;base64,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\" type=\"video/mp4\" />\n",
       "             </video>"
      ],
      "text/plain": [
       "<IPython.core.display.HTML object>"
      ]
     },
     "execution_count": 39,
     "metadata": {},
     "output_type": "execute_result"
    }
   ],
   "source": [
    "# Evaluation\n",
    "test(learner,env,epochs_test,prefix='fc_test_imitate', epsilon_greedy=True) # ϵ-greedy exploration during testing\n",
    "HTML(display_videos('fc_test_imitate20.mp4'))"
   ]
  },
  {
   "cell_type": "markdown",
   "metadata": {},
   "source": [
    "**Comment:**\n",
    "\n",
    "This time we only use the mentor's memory to obtain its actions/moves and train the learner model to imitate its behavior. As expected, since we do not rely on the expert internal model anymore, it is harder to imitate it by only using its actions/moves. However we see that we still achieve good performance on the test set compared to learning the FC DQN from scratch (albeit this time we use both $\\epsilon$-greedy decreasing exploration and count-based exploration)."
   ]
  }
 ],
 "metadata": {
  "kernelspec": {
   "display_name": "Python 3",
   "language": "python",
   "name": "python3"
  },
  "language_info": {
   "codemirror_mode": {
    "name": "ipython",
    "version": 3
   },
   "file_extension": ".py",
   "mimetype": "text/x-python",
   "name": "python",
   "nbconvert_exporter": "python",
   "pygments_lexer": "ipython3",
   "version": "3.6.7"
  }
 },
 "nbformat": 4,
 "nbformat_minor": 2
}
