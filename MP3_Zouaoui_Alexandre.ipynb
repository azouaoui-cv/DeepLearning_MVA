{
 "cells": [
  {
   "cell_type": "markdown",
   "metadata": {},
   "source": [
    "**You may need to install [OpenCV](https://pypi.python.org/pypi/opencv-python) and [scikit-video](http://www.scikit-video.org/stable/).**"
   ]
  },
  {
   "cell_type": "code",
   "execution_count": 1,
   "metadata": {
    "collapsed": true
   },
   "outputs": [
    {
     "name": "stderr",
     "output_type": "stream",
     "text": [
      "Using TensorFlow backend.\n"
     ]
    }
   ],
   "source": [
    "import keras\n",
    "import numpy as np\n",
    "import io\n",
    "import base64\n",
    "from IPython.display import HTML\n",
    "import skvideo.io\n",
    "import cv2\n",
    "import json\n",
    "\n",
    "from keras.models import Sequential,model_from_json\n",
    "from keras.layers.core import Dense\n",
    "from keras.optimizers import sgd\n",
    "from keras.optimizers import adam\n",
    "from keras.layers import Conv2D, MaxPooling2D, Activation, AveragePooling2D,Reshape,BatchNormalization, Flatten"
   ]
  },
  {
   "cell_type": "markdown",
   "metadata": {},
   "source": [
    "# MiniProject #3: Deep Reinforcement Learning"
   ]
  },
  {
   "cell_type": "markdown",
   "metadata": {},
   "source": [
    "__Notations__: $E_p$ is the expectation under probability $p$. Please justify each of your answer and widely comment your code."
   ]
  },
  {
   "cell_type": "markdown",
   "metadata": {},
   "source": [
    "# Context"
   ]
  },
  {
   "cell_type": "markdown",
   "metadata": {},
   "source": [
    "In a reinforcement learning algorithm, we modelize each step $t$ as an action $a_t$ obtained from a state $s_t$, i.e. $\\{(a_{t},s_{t})_{t\\leq T}\\}$ having the Markov property. We consider a discount factor $\\gamma \\in [0,1]$ that ensures convergence. The goal is to find among all the policies $\\pi$, one that maximizes the expected reward:\n",
    "\n",
    "\\begin{equation*}\n",
    "R(\\pi)=\\sum_{t\\leq T}E_{p^{\\pi}}[\\gamma^t r(s_{t},a_{t})] \\> ,\n",
    "\\end{equation*}\n",
    "\n",
    "where: \n",
    "\\begin{equation*}p^{\\pi}(a_{0},a_{1},s_{1},...,a_{T},s_{T})=p(a_{0})\\prod_{t=0}^{T-1}\\pi(a_{t}|s_{t})p(s_{t+1}|s_{t},a_{t}) \\> .\n",
    "\\end{equation*}\n",
    "\n",
    "We note the $Q$-function:\n",
    "\n",
    "\\begin{equation*}Q^\\pi(s,a)=E_{p^{\\pi}}[\\sum_{t\\leq T}\\gamma^{t}r(s_{t},a_{t})|s_{0}=s,a_{0}=a] \\> .\n",
    "\\end{equation*}\n",
    "\n",
    "Thus, the optimal Q function is:\n",
    "\\begin{equation*}\n",
    "Q^*(s,a)=\\max_{\\pi}Q^\\pi(s,a) \\> .\n",
    "\\end{equation*}\n",
    "\n",
    "In this project, we will apply the deep reinforcement learning techniques to a simple game: an agent will have to learn from scratch a policy that will permit it maximizing a reward."
   ]
  },
  {
   "cell_type": "markdown",
   "metadata": {},
   "source": [
    "## The environment, the agent and the game"
   ]
  },
  {
   "cell_type": "markdown",
   "metadata": {},
   "source": [
    "### The environment"
   ]
  },
  {
   "cell_type": "markdown",
   "metadata": {},
   "source": [
    "```Environment``` is an abstract class that represents the states, rewards, and actions to obtain the new state."
   ]
  },
  {
   "cell_type": "code",
   "execution_count": 2,
   "metadata": {
    "collapsed": true
   },
   "outputs": [],
   "source": [
    "class Environment(object):\n",
    "    def __init__(self):\n",
    "        pass\n",
    "\n",
    "    def act(self, act):\n",
    "        \"\"\"\n",
    "        One can act on the environment and obtain its reaction:\n",
    "        - the new state\n",
    "        - the reward of the new state\n",
    "        - should we continue the game?\n",
    "\n",
    "        :return: state, reward, game_over\n",
    "        \"\"\"\n",
    "        pass\n",
    "\n",
    "\n",
    "    def reset(self):\n",
    "        \"\"\"\n",
    "        Reinitialize the environment to a random state and returns\n",
    "        the original state\n",
    "\n",
    "        :return: state\n",
    "        \"\"\"\n",
    "        pass\n",
    "    \n",
    "    def draw(self):\n",
    "        \"\"\"\n",
    "        Visualize in the console or graphically the current state\n",
    "        \"\"\"\n",
    "        pass"
   ]
  },
  {
   "cell_type": "markdown",
   "metadata": {},
   "source": [
    "The method ```act``` allows to act on the environment at a given state $s_t$ (stored internally), via action $a_t$. The method will return the new state $s_{t+1}$, the reward $r(s_{t},a_{t})$ and determines if $t\\leq T$ (*game_over*).\n",
    "\n",
    "The method ```reset``` simply reinitializes the environment to a random state $s_0$.\n",
    "\n",
    "The method ```draw``` displays the current state $s_t$ (this is useful to check the behavior of the Agent).\n",
    "\n",
    "We modelize $s_t$ as a tensor, while $a_t$ is an integer."
   ]
  },
  {
   "cell_type": "markdown",
   "metadata": {},
   "source": [
    "### The Agent"
   ]
  },
  {
   "cell_type": "markdown",
   "metadata": {},
   "source": [
    "The goal of the ```Agent``` is to interact with the ```Environment``` by proposing actions $a_t$ obtained from a given state $s_t$ to attempt to maximize its __reward__ $r(s_t,a_t)$. We propose the following abstract class:"
   ]
  },
  {
   "cell_type": "code",
   "execution_count": 3,
   "metadata": {
    "collapsed": true
   },
   "outputs": [],
   "source": [
    "class Agent(object):\n",
    "    def __init__(self, epsilon=0.1, n_action=4):\n",
    "        self.epsilon = epsilon\n",
    "        self.n_action = n_action\n",
    "    \n",
    "    def set_epsilon(self,e):\n",
    "        self.epsilon = e\n",
    "\n",
    "    def act(self,s,train=True):\n",
    "        \"\"\" This function should return the next action to do:\n",
    "        an integer between 0 and 4 (not included) with a random exploration of epsilon\"\"\"\n",
    "        if train:\n",
    "            if np.random.rand() <= self.epsilon:\n",
    "                a = np.random.randint(0, self.n_action, size=1)[0]\n",
    "            else:\n",
    "                a = self.learned_act(s)\n",
    "        else: # in some cases, this can improve the performance.. remove it if poor performances\n",
    "            a = self.learned_act(s)\n",
    "\n",
    "        return a\n",
    "\n",
    "    def learned_act(self,s):\n",
    "        \"\"\" Act via the policy of the agent, from a given state s\n",
    "        it proposes an action a\"\"\"\n",
    "        pass\n",
    "\n",
    "    def reinforce(self, s, n_s, a, r, game_over_):\n",
    "        \"\"\" This function is the core of the learning algorithm. \n",
    "        It takes as an input the current state s_, the next state n_s_\n",
    "        the action a_ used to move from s_ to n_s_ and the reward r_.\n",
    "        \n",
    "        Its goal is to learn a policy.\n",
    "        \"\"\"\n",
    "        pass\n",
    "\n",
    "    def save(self):\n",
    "        \"\"\" This function returns basic stats if applicable: the\n",
    "        loss and/or the model\"\"\"\n",
    "        pass\n",
    "\n",
    "    def load(self):\n",
    "        \"\"\" This function allows to restore a model\"\"\"\n",
    "        pass"
   ]
  },
  {
   "cell_type": "markdown",
   "metadata": {},
   "source": [
    "***\n",
    "__Question 1__:\n",
    "Explain the function act. Why is ```epsilon``` essential?"
   ]
  },
  {
   "cell_type": "markdown",
   "metadata": {},
   "source": [
    "Learning the optimal policy $\\pi^*$ induces a trade-off between exploiting the current policy $\\pi$ and exploring the environment by taking actions that are not necessarily in line with the current policy. Here ``epsilon`` is the probability of taking a random action. In other words it fosters exploration. If the randomly generated sample is below ``epsilon``, we explore the environment by taking a random action, else we use the action according to the current policy."
   ]
  },
  {
   "cell_type": "markdown",
   "metadata": {},
   "source": [
    "***\n",
    "### The Game"
   ]
  },
  {
   "cell_type": "markdown",
   "metadata": {},
   "source": [
    "The ```Agent``` and the ```Environment``` work in an interlaced way as in the following (take some time to understand this code as it is the core of the project)\n",
    "\n",
    "```python\n",
    "\n",
    "epoch = 300\n",
    "env = Environment()\n",
    "agent = Agent()\n",
    "\n",
    "\n",
    "# Number of won games\n",
    "score = 0\n",
    "loss = 0\n",
    "\n",
    "\n",
    "for e in range(epoch):\n",
    "    # At each epoch, we restart to a fresh game and get the initial state\n",
    "    state = env.reset()\n",
    "    # This assumes that the games will end\n",
    "    game_over = False\n",
    "\n",
    "    win = 0\n",
    "    lose = 0\n",
    "    \n",
    "    while not game_over:\n",
    "        # The agent performs an action\n",
    "        action = agent.act(state)\n",
    "\n",
    "        # Apply an action to the environment, get the next state, the reward\n",
    "        # and if the games end\n",
    "        prev_state = state\n",
    "        state, reward, game_over = env.act(action)\n",
    "\n",
    "        # Update the counters\n",
    "        if reward > 0:\n",
    "            win = win + reward\n",
    "        if reward < 0:\n",
    "            lose = lose -reward\n",
    "\n",
    "        # Apply the reinforcement strategy\n",
    "        loss = agent.reinforce(prev_state, state,  action, reward, game_over)\n",
    "\n",
    "    # Save as a mp4\n",
    "    if e % 10 == 0:\n",
    "        env.draw(e)\n",
    "\n",
    "    # Update stats\n",
    "    score += win-lose\n",
    "\n",
    "    print(\"Epoch {:03d}/{:03d} | Loss {:.4f} | Win/lose count {}/{} ({})\"\n",
    "          .format(e, epoch, loss, win, lose, win-lose))\n",
    "    agent.save()\n",
    "```"
   ]
  },
  {
   "cell_type": "markdown",
   "metadata": {},
   "source": [
    "# The game, *eat cheese*"
   ]
  },
  {
   "cell_type": "markdown",
   "metadata": {},
   "source": [
    "A rat runs on an island and tries to eat as much as possible. The island is subdivided into $N\\times N$ cells, in which there are cheese (+0.5) and poisonous cells (-1). The rat has a visibility of 2 cells (thus it can see $5^2$ cells). The rat is given a time $T$ to accumulate as much food as possible. It can perform 4 actions: going up, down, left, right. \n",
    "\n",
    "The goal is to code an agent to solve this task that will learn by trial and error. We propose the following environment:"
   ]
  },
  {
   "cell_type": "code",
   "execution_count": 4,
   "metadata": {
    "collapsed": true
   },
   "outputs": [],
   "source": [
    "class Environment(object):\n",
    "    def __init__(self, grid_size=10, max_time=500, temperature=0.1):\n",
    "        grid_size = grid_size+4\n",
    "        self.grid_size = grid_size\n",
    "        self.max_time = max_time\n",
    "        self.temperature = temperature\n",
    "\n",
    "        #board on which one plays\n",
    "        self.board = np.zeros((grid_size,grid_size))\n",
    "        self.position = np.zeros((grid_size,grid_size))\n",
    "\n",
    "        # coordinate of the cat\n",
    "        self.x = 0\n",
    "        self.y = 1\n",
    "\n",
    "        # self time\n",
    "        self.t = 0\n",
    "\n",
    "        self.scale=16\n",
    "\n",
    "        self.to_draw = np.zeros((max_time+2, grid_size*self.scale, grid_size*self.scale, 3))\n",
    "\n",
    "\n",
    "    def draw(self,e):\n",
    "        skvideo.io.vwrite(str(e) + '.mp4', self.to_draw)\n",
    "\n",
    "    def get_frame(self,t):\n",
    "        b = np.zeros((self.grid_size,self.grid_size,3))+128\n",
    "        b[self.board>0,0] = 256\n",
    "        b[self.board < 0, 2] = 256\n",
    "        b[self.x,self.y,:]=256\n",
    "        b[-2:,:,:]=0\n",
    "        b[:,-2:,:]=0\n",
    "        b[:2,:,:]=0\n",
    "        b[:,:2,:]=0\n",
    "        \n",
    "        b =  cv2.resize(b, None, fx=self.scale, fy=self.scale, interpolation=cv2.INTER_NEAREST)\n",
    "\n",
    "        self.to_draw[t,:,:,:]=b\n",
    "\n",
    "\n",
    "    def act(self, action):\n",
    "        \"\"\"This function returns the new state, reward and decides if the\n",
    "        game ends.\"\"\"\n",
    "\n",
    "        self.get_frame(int(self.t))\n",
    "\n",
    "        self.position = np.zeros((self.grid_size, self.grid_size))\n",
    "\n",
    "        self.position[0:2,:]= -1\n",
    "        self.position[:,0:2] = -1\n",
    "        self.position[-2:, :] = -1\n",
    "        self.position[-2:, :] = -1\n",
    "\n",
    "        self.position[self.x, self.y] = 1\n",
    "        if action == 0: # up\n",
    "            if self.x == self.grid_size-3:\n",
    "                self.x = self.x-1\n",
    "            else:\n",
    "                self.x = self.x + 1\n",
    "        elif action == 1: # down\n",
    "            if self.x == 2:\n",
    "                self.x = self.x+1\n",
    "            else:\n",
    "                self.x = self.x-1\n",
    "        elif action == 2: # right\n",
    "            if self.y == self.grid_size - 3:\n",
    "                self.y = self.y - 1\n",
    "            else:\n",
    "                self.y = self.y + 1\n",
    "        elif action == 3: # left\n",
    "            if self.y == 2:\n",
    "                self.y = self.y + 1\n",
    "            else:\n",
    "                self.y = self.y - 1\n",
    "        else:\n",
    "            RuntimeError('Error: action not recognized')\n",
    "\n",
    "        self.t = self.t + 1\n",
    "        reward = self.board[self.x, self.y]\n",
    "        self.board[self.x, self.y] = 0\n",
    "        game_over = self.t > self.max_time\n",
    "        state = np.concatenate((self.board.reshape(self.grid_size, self.grid_size,1),\n",
    "                        self.position.reshape(self.grid_size, self.grid_size,1)),axis=2)\n",
    "        state = state[self.x-2:self.x+3,self.y-2:self.y+3,:]\n",
    "\n",
    "        return state, reward, game_over\n",
    "\n",
    "    def reset(self):\n",
    "        \"\"\"This function resets the game and returns the initial state\"\"\"\n",
    "\n",
    "        self.x = np.random.randint(3, self.grid_size-3, size=1)[0]\n",
    "        self.y = np.random.randint(3, self.grid_size-3, size=1)[0]\n",
    "\n",
    "\n",
    "        bonus = 0.5*np.random.binomial(1,self.temperature,size=self.grid_size**2)\n",
    "        bonus = bonus.reshape(self.grid_size,self.grid_size)\n",
    "\n",
    "        malus = -1.0*np.random.binomial(1,self.temperature,size=self.grid_size**2)\n",
    "        malus = malus.reshape(self.grid_size, self.grid_size)\n",
    "\n",
    "        self.to_draw = np.zeros((self.max_time+2, self.grid_size*self.scale, self.grid_size*self.scale, 3))\n",
    "\n",
    "\n",
    "        malus[bonus>0]=0\n",
    "\n",
    "        self.board = bonus + malus\n",
    "\n",
    "        self.position = np.zeros((self.grid_size, self.grid_size))\n",
    "        self.position[0:2,:]= -1\n",
    "        self.position[:,0:2] = -1\n",
    "        self.position[-2:, :] = -1\n",
    "        #self.position[-2:, :] = -1\n",
    "        self.position[:, -2:] = -1\n",
    "        self.board[self.x,self.y] = 0\n",
    "        self.t = 0\n",
    "\n",
    "        state = np.concatenate((\n",
    "                               self.board.reshape(self.grid_size, self.grid_size,1),\n",
    "                        self.position.reshape(self.grid_size, self.grid_size,1)),axis=2)\n",
    "\n",
    "        state = state[self.x - 2:self.x + 3, self.y - 2:self.y + 3, :]\n",
    "        return state"
   ]
  },
  {
   "cell_type": "markdown",
   "metadata": {},
   "source": [
    "The following elements are important because they correspond to the hyper parameters for this project:"
   ]
  },
  {
   "cell_type": "code",
   "execution_count": 5,
   "metadata": {},
   "outputs": [],
   "source": [
    "# parameters\n",
    "size = 13\n",
    "T=200\n",
    "temperature=0.3\n",
    "epochs_train=30 # set small when debugging\n",
    "epochs_test=20 # set small when debugging\n",
    "\n",
    "# display videos\n",
    "def display_videos(name):\n",
    "    video = io.open(name, 'r+b').read()\n",
    "    encoded = base64.b64encode(video)\n",
    "    return '''<video alt=\"test\" controls>\n",
    "                <source src=\"data:video/mp4;base64,{0}\" type=\"video/mp4\" />\n",
    "             </video>'''.format(encoded.decode('ascii'))"
   ]
  },
  {
   "cell_type": "markdown",
   "metadata": {},
   "source": [
    "__Question 2__ Explain the use of the arrays ```position``` and ```board```."
   ]
  },
  {
   "cell_type": "markdown",
   "metadata": {},
   "source": [
    "The arrays ``position`` and ``board`` are used to form the ``state``. Indeed, the ``state`` is a $5$ by $5$ grid on two channels. The first channel is the ``board`` that is visible for the agent, while the second channel is the ``position`` that is visible for the agent.\n",
    "\n",
    "The ``board`` array contains the *cheese* and *poisonous* cells. The ``bonus`` represents the *cheese* cells while the ``malus`` represents the *poisonous* cells. The ``bonus`` and ``malus`` masks are then mapped onto the ``board`` array.\n",
    "\n",
    "The ``position`` array contains the allowed positions on the board. ``-1`` cells represent *walls*, ``0`` cells are allowed, while the ``1`` cell represents the agent position.\n",
    "\n",
    "**Note:** I corrected a small mistake in the ``position`` variable assignment done in ``Environment.reset`` as can be seen above."
   ]
  },
  {
   "cell_type": "markdown",
   "metadata": {},
   "source": [
    "## Random Agent"
   ]
  },
  {
   "cell_type": "markdown",
   "metadata": {},
   "source": [
    "***\n",
    "__Question 3__ Implement a random Agent (only ```learned_act``` needs to be implemented):"
   ]
  },
  {
   "cell_type": "code",
   "execution_count": 6,
   "metadata": {
    "collapsed": true
   },
   "outputs": [],
   "source": [
    "class RandomAgent(Agent):\n",
    "    def __init__(self):\n",
    "        super(RandomAgent, self).__init__()\n",
    "        pass\n",
    "\n",
    "    def learned_act(self, s):\n",
    "        \"\"\" Act randomly from a given state s\n",
    "        it proposes an random action a\"\"\"\n",
    "        # Randomly select an action\n",
    "        a = np.random.randint(0, self.n_action, size=1)[0]\n",
    "        return a"
   ]
  },
  {
   "cell_type": "markdown",
   "metadata": {},
   "source": [
    "***\n",
    "***\n",
    "__Question 4__ Visualize the game moves. You need to fill in the following function for the evaluation:"
   ]
  },
  {
   "cell_type": "code",
   "execution_count": 7,
   "metadata": {
    "collapsed": true
   },
   "outputs": [],
   "source": [
    "def test(agent,env,epochs,prefix='', epsilon_greedy=True):\n",
    "    # Number of won games\n",
    "    score = 0\n",
    "        \n",
    "    for e in range(epochs):\n",
    "        \n",
    "        ##### FILL IN HERE\n",
    "        state = env.reset()\n",
    "        game_over = False\n",
    "        win = 0\n",
    "        lose = 0\n",
    "        \n",
    "        while not game_over:\n",
    "            if epsilon_greedy: # Are we using sticky actions (i.e. random action with probability ϵ)?\n",
    "                action = agent.act(state, train=True)\n",
    "            else: # Else, no sticky action. This is helpful to enhance the expert DQN\n",
    "                action = agent.act(state, train=False)\n",
    "            prev_state = state\n",
    "            state, reward, game_over = env.act(action)\n",
    "            if reward > 0:\n",
    "                win += reward\n",
    "            if reward < 0:\n",
    "                lose -= reward\n",
    "        \n",
    "        # Save as a mp4\n",
    "        env.draw(prefix+str(e + 1))\n",
    "\n",
    "        # Update stats\n",
    "        score = score + win-lose\n",
    "\n",
    "        print(\"Win/lose count {}/{}. Average score ({})\"\n",
    "              .format(win, lose, score/(1+e)))\n",
    "    print('Final score: '+str(score/epochs))"
   ]
  },
  {
   "cell_type": "code",
   "execution_count": 8,
   "metadata": {},
   "outputs": [
    {
     "name": "stdout",
     "output_type": "stream",
     "text": [
      "Win/lose count 10.0/20.0. Average score (-10.0)\n",
      "Win/lose count 13.5/15.0. Average score (-5.75)\n",
      "Win/lose count 7.0/26.0. Average score (-10.166666666666666)\n",
      "Win/lose count 7.5/20.0. Average score (-10.75)\n",
      "Win/lose count 12.5/14.0. Average score (-8.9)\n",
      "Win/lose count 5.5/10.0. Average score (-8.166666666666666)\n",
      "Win/lose count 10.0/13.0. Average score (-7.428571428571429)\n",
      "Win/lose count 10.0/17.0. Average score (-7.375)\n",
      "Win/lose count 12.5/20.0. Average score (-7.388888888888889)\n",
      "Win/lose count 5.0/11.0. Average score (-7.25)\n",
      "Win/lose count 12.5/12.0. Average score (-6.545454545454546)\n",
      "Win/lose count 12.0/13.0. Average score (-6.083333333333333)\n",
      "Win/lose count 15.0/20.0. Average score (-6.0)\n",
      "Win/lose count 7.0/12.0. Average score (-5.928571428571429)\n",
      "Win/lose count 8.5/12.0. Average score (-5.766666666666667)\n",
      "Win/lose count 11.5/17.0. Average score (-5.75)\n",
      "Win/lose count 10.0/12.0. Average score (-5.529411764705882)\n",
      "Win/lose count 8.0/17.0. Average score (-5.722222222222222)\n",
      "Win/lose count 12.0/12.0. Average score (-5.421052631578948)\n",
      "Win/lose count 10.0/13.0. Average score (-5.3)\n",
      "Final score: -5.3\n"
     ]
    },
    {
     "data": {
      "text/html": [
       "<video alt=\"test\" controls>\n",
       "                <source src=\"data:video/mp4;base64,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\" type=\"video/mp4\" />\n",
       "             </video>"
      ],
      "text/plain": [
       "<IPython.core.display.HTML object>"
      ]
     },
     "execution_count": 8,
     "metadata": {},
     "output_type": "execute_result"
    }
   ],
   "source": [
    "# Initialize the game\n",
    "env = Environment(grid_size=size, max_time=T,temperature=temperature)\n",
    "\n",
    "# Initialize the agent!\n",
    "agent = RandomAgent()\n",
    "\n",
    "test(agent,env,epochs_test,prefix='random')\n",
    "HTML(display_videos('random1.mp4'))\n",
    "\n",
    "########################################################\n",
    "### Note: ``mp4`` videos cannot be played on Firefox ###\n",
    "########################################################"
   ]
  },
  {
   "cell_type": "markdown",
   "metadata": {},
   "source": [
    "***\n",
    "## DQN"
   ]
  },
  {
   "cell_type": "markdown",
   "metadata": {},
   "source": [
    "Let us assume here that $T=\\infty$.\n",
    "\n",
    "***\n",
    "__Question 5__ Let $\\pi$ be a policy, show that:\n",
    "\n",
    "\\begin{equation*}\n",
    "Q^{\\pi}(s,a)=E_{(s',a')\\sim p(.|s,a)}[r(s,a)+\\gamma Q^{\\pi}(s',a')]\n",
    "\\end{equation*}\n",
    "\n",
    "Then, show that for the optimal policy $\\pi^*$ (we assume its existence), the following holds: \n",
    "\n",
    "\\begin{equation*}\n",
    "Q^{*}(s,a)=E_{s'\\sim \\pi^*(.|s,a)}[r(s,a)+\\gamma\\max_{a'}Q^{*}(s',a')].\n",
    "\\end{equation*}\n",
    "Finally, deduce that a plausible objective is:\n",
    "\n",
    "\\begin{equation*}\n",
    "\\mathcal{L}(\\theta)=E_{s' \\sim \\pi^*(.|s,a)}\\Vert r+\\gamma\\max\\max_{a'}Q(s',a',\\theta)-Q(s,a,\\theta)\\Vert^{2}.\n",
    "\\end{equation*}\n",
    "\n",
    "\n"
   ]
  },
  {
   "cell_type": "markdown",
   "metadata": {},
   "source": [
    "**Answer:**\n",
    "\n",
    "\n",
    "1.\n",
    "First, let us rewrite $Q^{\\pi}(s, a)$ now that $T = \\infty$:\n",
    "\n",
    "$$Q^{\\pi}(s,a) = E_{p^{\\pi}}[\\sum_{t=0}^{\\infty} \\gamma^t r(s_t, a_t) | s_0 = s, a_0 = a]$$\n",
    "\n",
    "We can now write:\n",
    "\n",
    "\\begin{align}\n",
    "Q^{\\pi}(s,a) & =  E_{p^{\\pi}}[\\gamma^0 r(s_0, a_0) + \\sum_{t=1}^{\\infty} \\gamma^t r(s_t, a_t) | s_0 = s, a_0 = a] \\\\\n",
    "  & = r(s, a) + \\gamma \\sum_{s', a'} p(s', a' | s, a) E_{p^{\\pi}}[\\sum_{t=1}^{\\infty} \\gamma^{t-1} r(s_t, a_t) | s_1 = s', a_1 = a'] \\\\\n",
    "  & = r(s, a) + \\gamma E_{(s', a') \\sim p(. |s,a)}[Q^{\\pi}(s', a')] \\\\\n",
    "\\end{align}\n",
    "\n",
    "Hence:\n",
    "\n",
    "$$\\boxed{Q^{\\pi}(s,a) = E_{(s', a') \\sim p(. |s,a)}[r(s, a) + \\gamma Q^{\\pi}(s', a')]}$$\n",
    "\n",
    "\n",
    "2.\n",
    "By definition of $Q^*(s,a) = \\max_{\\pi}Q^{\\pi}(s,a)$, we get:\n",
    "\n",
    "\\begin{align}\n",
    "Q^*(s,a) & =  \\max_{\\pi}Q^{\\pi}(s,a) \\\\\n",
    "  & = \\max_{\\pi} E_{(s', a') \\sim p(. |s,a)}[r(s, a) + \\gamma Q^{\\pi}(s', a')] \\\\\n",
    "  & =  \\max_{\\pi} \\sum_{(s', a')} [r(s,a) + \\gamma Q^{\\pi}(s', a')] p(s',a'|s,a)\\\\\n",
    "  & = \\sum_{s'} [r(s, a) + \\gamma \\max_{a'} Q^*(s', a')] \\pi^*(s' |s, a) \\\\\n",
    "\\end{align}\n",
    "\n",
    "Hence we obtain Bellman's optimality equation:\n",
    "\n",
    "$$\\boxed{Q^*(s,a) = E_{s' \\sim \\pi^*(.|s,a)}[r(s,a) + \\gamma \\max_{a'}Q^*(s',a')]}$$\n",
    "\n",
    "3.\n",
    "At this point we can turn this equation into an update. Until the optimal policy $\\pi^*$ is reached, there will always be a difference between $y_t = r(s, a) + \\gamma \\max_{a'} Q(s', a', \\theta)$ and $Q(s, a, \\theta)$ where $s' \\sim \\pi^t(. | s, a)$ and $\\pi^t$ is the current policy. Therefore we can derive a plausible objective:\n",
    "\n",
    "$$\\boxed{\\mathcal{L}(\\theta) = E_{s' \\sim \\pi(. | s, a)} \\big[||r(s, a) + \\gamma \\max_{a'} Q(s', a', \\theta) - Q(s, a, \\theta)||^2\\big]}$$"
   ]
  },
  {
   "cell_type": "markdown",
   "metadata": {},
   "source": [
    "***\n",
    "The DQN-learning algorithm relies on these derivations to train the parameters $\\theta$ of a Deep Neural Network:\n",
    "\n",
    "1. At the state $s_t$, select the action $a_t$ with best reward using $Q_t$ and store the results;\n",
    "\n",
    "2. Obtain the new state $s_{t+1}$ from the environment $p$;\n",
    "\n",
    "3. Store $(s_t,a_t,s_{t+1})$;\n",
    "\n",
    "4. Obtain $Q_{t+1}$ by minimizing  $\\mathcal{L}$ from a recovered batch from the previously stored results.\n",
    "\n",
    "***\n",
    "__Question 6__ Implement the class ```Memory``` that stores moves (in a replay buffer) via ```remember``` and provides a ```random_access``` to these. Specify a maximum memory size to avoid side effects. You can for example use a ```list()``` and set by default ```max_memory=100```."
   ]
  },
  {
   "cell_type": "code",
   "execution_count": 9,
   "metadata": {
    "collapsed": true
   },
   "outputs": [],
   "source": [
    "class Memory(object):\n",
    "    def __init__(self, max_memory=100):\n",
    "        self.max_memory = max_memory\n",
    "        self.memory = list()\n",
    "\n",
    "    def remember(self, m):\n",
    "        memory_size = len(self.memory)\n",
    "        if memory_size == self.max_memory:\n",
    "            self.memory.pop(0) # Remove first element\n",
    "        self.memory.append(m)\n",
    "        \n",
    "\n",
    "    def random_access(self):\n",
    "        # Randomly select an index in the memory buffer\n",
    "        ix = np.random.randint(0, len(self.memory))\n",
    "        # Select the move\n",
    "        m = self.memory[ix]\n",
    "        return m"
   ]
  },
  {
   "cell_type": "markdown",
   "metadata": {},
   "source": [
    "***\n",
    "The pipeline we will use for training is given below:"
   ]
  },
  {
   "cell_type": "code",
   "execution_count": 10,
   "metadata": {
    "collapsed": true
   },
   "outputs": [],
   "source": [
    "def train(agent,env,epoch,prefix=''):\n",
    "    # Number of won games\n",
    "    score = 0\n",
    "    loss = 0\n",
    "\n",
    "    for e in range(epoch):\n",
    "        # At each epoch, we restart to a fresh game and get the initial state\n",
    "        state = env.reset()\n",
    "        # This assumes that the games will terminate\n",
    "        game_over = False\n",
    "\n",
    "        win = 0\n",
    "        lose = 0\n",
    "\n",
    "        while not game_over:\n",
    "            # The agent performs an action\n",
    "            action = agent.act(state)\n",
    "\n",
    "            # Apply an action to the environment, get the next state, the reward\n",
    "            # and if the games end\n",
    "            prev_state = state\n",
    "            state, reward, game_over = env.act(action)\n",
    "\n",
    "            # Update the counters\n",
    "            if reward > 0:\n",
    "                win = win + reward\n",
    "            if reward < 0:\n",
    "                lose = lose -reward\n",
    "\n",
    "            # Apply the reinforcement strategy\n",
    "            loss = agent.reinforce(prev_state, state,  action, reward, game_over)\n",
    "\n",
    "        # Save as a mp4\n",
    "        if (e + 1) % 10 == 0:\n",
    "            env.draw(prefix+str(e + 1))\n",
    "\n",
    "        # Update stats\n",
    "        score += win-lose\n",
    "\n",
    "        print(\"Epoch {:03d}/{:03d} | Loss {:.4f} | Win/lose count {}/{} ({})\"\n",
    "              .format(e + 1, epoch, loss, win, lose, win-lose))\n",
    "        agent.save(name_weights=prefix+'model.h5',name_model=prefix+'model.json')"
   ]
  },
  {
   "cell_type": "markdown",
   "metadata": {},
   "source": [
    "***\n",
    "__Question 7__ Implement the DQN training algorithm using a cascade of fully connected layers. You can use different learning rate, batch size or memory size parameters. In particular, the loss might oscillate while the player will start to win the games. You have to find a good criterium."
   ]
  },
  {
   "cell_type": "code",
   "execution_count": 11,
   "metadata": {
    "collapsed": true
   },
   "outputs": [],
   "source": [
    "class DQN(Agent):\n",
    "    def __init__(self, grid_size,  epsilon = 0.1, memory_size=100, batch_size = 16,n_state=2):\n",
    "        super(DQN, self).__init__(epsilon = epsilon)\n",
    "\n",
    "        # Discount for Q learning\n",
    "        self.discount = 0.99\n",
    "        \n",
    "        self.grid_size = grid_size\n",
    "        \n",
    "        # number of state\n",
    "        self.n_state = n_state\n",
    "\n",
    "        # Memory\n",
    "        self.memory = Memory(memory_size)\n",
    "        \n",
    "        # Batch size when learning\n",
    "        self.batch_size = batch_size\n",
    "\n",
    "    def learned_act(self, s):\n",
    "        # Get the model output\n",
    "        out = self.model.predict(s.reshape(1, 5, 5, self.n_state))\n",
    "        # Return the action that maximizes the output\n",
    "        return np.argmax(out)\n",
    "\n",
    "    def reinforce(self, s_, n_s_, a_, r_, game_over_):\n",
    "        # Two steps: first memorize the states, second learn from the pool\n",
    "\n",
    "        self.memory.remember([s_, n_s_, a_, r_, game_over_])\n",
    "        \n",
    "        input_states = np.zeros((self.batch_size, 5,5,self.n_state))\n",
    "        target_q = np.zeros((self.batch_size, 4))\n",
    "        \n",
    "        for i in range(self.batch_size):\n",
    "            ######## FILL IN\n",
    "            # Randomly access the memory\n",
    "            state, next_state, action, reward, game_over = self.memory.random_access()\n",
    "            input_states[i] = state\n",
    "            # Get the current model prediction on the current state \n",
    "            target_q[i] = self.model.predict(state.reshape(1, 5, 5, self.n_state))\n",
    "            # Given the action taken, update the target with the next state prediction when the game is on\n",
    "            if game_over:\n",
    "                ######## FILL IN\n",
    "                target_q[i, action] = reward\n",
    "            else:\n",
    "                ######## FILL IN\n",
    "                target_q[i, action] = reward + self.discount * np.max(self.model.predict(next_state.reshape(1, 5, 5, self.n_state)))\n",
    "        ######## FILL IN\n",
    "        # HINT: Clip the target to avoid exploiding gradients.. -- clipping is a bit tighter\n",
    "        target_q = np.clip(target_q, -3, 3)\n",
    "\n",
    "        # Train the model on the moves batch\n",
    "        l = self.model.train_on_batch(input_states, target_q)\n",
    "\n",
    "        return l\n",
    "\n",
    "    def save(self,name_weights='model.h5',name_model='model.json'):\n",
    "        self.model.save_weights(name_weights, overwrite=True)\n",
    "        with open(name_model, \"w\") as outfile:\n",
    "            json.dump(self.model.to_json(), outfile)\n",
    "            \n",
    "    def load(self,name_weights='model.h5',name_model='model.json'):\n",
    "        with open(name_model, \"r\") as jfile:\n",
    "            model = model_from_json(json.load(jfile))\n",
    "        model.load_weights(name_weights)\n",
    "        #model.compile(\"sgd\", \"mse\")\n",
    "        model.compile(\"adam\", \"mse\")\n",
    "        self.model = model\n",
    "\n",
    "            \n",
    "class DQN_FC(DQN):\n",
    "    def __init__(self, *args, lr=0.1,**kwargs):\n",
    "        super(DQN_FC, self).__init__( *args,**kwargs)\n",
    "        \n",
    "        # NN Model\n",
    "        \n",
    "        ####### FILL IN\n",
    "        model = Sequential()\n",
    "        model.add(Flatten(input_shape=(5, 5, self.n_state,)))\n",
    "        model.add(Dense(30, activation=\"linear\")) # linear activations work better than ReLU\n",
    "        model.add(Dense(10, activation=\"linear\"))\n",
    "        model.add(Dense(4))\n",
    "        \n",
    "        #model.compile(sgd(lr=lr, decay=1e-4, momentum=0.0), \"mse\")\n",
    "        model.compile(\"adam\", \"mse\") # Use default ADAM instead\n",
    "        self.model = model\n",
    "        print(self.model.summary())\n",
    "        "
   ]
  },
  {
   "cell_type": "code",
   "execution_count": 12,
   "metadata": {
    "collapsed": true
   },
   "outputs": [
    {
     "name": "stdout",
     "output_type": "stream",
     "text": [
      "_________________________________________________________________\n",
      "Layer (type)                 Output Shape              Param #   \n",
      "=================================================================\n",
      "flatten_1 (Flatten)          (None, 50)                0         \n",
      "_________________________________________________________________\n",
      "dense_1 (Dense)              (None, 30)                1530      \n",
      "_________________________________________________________________\n",
      "dense_2 (Dense)              (None, 10)                310       \n",
      "_________________________________________________________________\n",
      "dense_3 (Dense)              (None, 4)                 44        \n",
      "=================================================================\n",
      "Total params: 1,884\n",
      "Trainable params: 1,884\n",
      "Non-trainable params: 0\n",
      "_________________________________________________________________\n",
      "None\n",
      "Epoch 001/030 | Loss 0.0289 | Win/lose count 7.5/5.0 (2.5)\n",
      "Epoch 002/030 | Loss 0.0317 | Win/lose count 9.5/4.0 (5.5)\n",
      "Epoch 003/030 | Loss 0.0103 | Win/lose count 4.5/6.0 (-1.5)\n",
      "Epoch 004/030 | Loss 0.0060 | Win/lose count 6.0/5.0 (1.0)\n",
      "Epoch 005/030 | Loss 0.0026 | Win/lose count 4.5/6.0 (-1.5)\n",
      "Epoch 006/030 | Loss 0.0029 | Win/lose count 13.0/4.0 (9.0)\n",
      "Epoch 007/030 | Loss 0.0386 | Win/lose count 11.5/6.0 (5.5)\n",
      "Epoch 008/030 | Loss 0.0048 | Win/lose count 12.0/2.0 (10.0)\n",
      "Epoch 009/030 | Loss 0.0564 | Win/lose count 9.0/3.0 (6.0)\n",
      "Epoch 010/030 | Loss 0.0090 | Win/lose count 7.5/3.0 (4.5)\n",
      "Epoch 011/030 | Loss 0.0012 | Win/lose count 20.0/5.0 (15.0)\n",
      "Epoch 012/030 | Loss 0.0645 | Win/lose count 8.5/3.0 (5.5)\n",
      "Epoch 013/030 | Loss 0.0054 | Win/lose count 7.0/2.0 (5.0)\n",
      "Epoch 014/030 | Loss 0.0052 | Win/lose count 8.5/3.0 (5.5)\n",
      "Epoch 015/030 | Loss 0.0581 | Win/lose count 11.0/1.0 (10.0)\n",
      "Epoch 016/030 | Loss 0.0019 | Win/lose count 12.0/4.0 (8.0)\n",
      "Epoch 017/030 | Loss 0.0103 | Win/lose count 8.0/3.0 (5.0)\n",
      "Epoch 018/030 | Loss 0.0651 | Win/lose count 6.0/2.0 (4.0)\n",
      "Epoch 019/030 | Loss 0.0034 | Win/lose count 9.5/1.0 (8.5)\n",
      "Epoch 020/030 | Loss 0.0450 | Win/lose count 10.5/6.0 (4.5)\n",
      "Epoch 021/030 | Loss 0.0016 | Win/lose count 4.5/4.0 (0.5)\n",
      "Epoch 022/030 | Loss 0.0014 | Win/lose count 8.0/6.0 (2.0)\n",
      "Epoch 023/030 | Loss 0.0049 | Win/lose count 10.5/6.0 (4.5)\n",
      "Epoch 024/030 | Loss 0.0029 | Win/lose count 14.5/4.0 (10.5)\n",
      "Epoch 025/030 | Loss 0.0031 | Win/lose count 12.5/3.0 (9.5)\n",
      "Epoch 026/030 | Loss 0.0034 | Win/lose count 11.5/2.0 (9.5)\n",
      "Epoch 027/030 | Loss 0.0039 | Win/lose count 11.0/7.0 (4.0)\n",
      "Epoch 028/030 | Loss 0.0031 | Win/lose count 13.0/1.0 (12.0)\n",
      "Epoch 029/030 | Loss 0.0031 | Win/lose count 18.0/5.0 (13.0)\n",
      "Epoch 030/030 | Loss 0.0036 | Win/lose count 12.0/1.0 (11.0)\n"
     ]
    },
    {
     "data": {
      "text/html": [
       "<video alt=\"test\" controls>\n",
       "                <source src=\"data:video/mp4;base64,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\" type=\"video/mp4\" />\n",
       "             </video>"
      ],
      "text/plain": [
       "<IPython.core.display.HTML object>"
      ]
     },
     "execution_count": 12,
     "metadata": {},
     "output_type": "execute_result"
    }
   ],
   "source": [
    "env = Environment(grid_size=size, max_time=T, temperature=0.3)\n",
    "agent = DQN_FC(size, epsilon = 0.2, memory_size=2000, batch_size = 32) # default learning rate lr=0.001\n",
    "train(agent, env, epochs_train, prefix='fc_train')\n",
    "HTML(display_videos('fc_train30.mp4'))"
   ]
  },
  {
   "cell_type": "markdown",
   "metadata": {},
   "source": [
    "***\n",
    "***\n",
    "__Question 8__ Implement the DQN training algorithm using a CNN (for example, 2 convolutional layers and one final fully connected layer)."
   ]
  },
  {
   "cell_type": "code",
   "execution_count": 13,
   "metadata": {
    "collapsed": true
   },
   "outputs": [],
   "source": [
    "class DQN_CNN(DQN):\n",
    "    def __init__(self, *args,lr=0.1,**kwargs):\n",
    "        super(DQN_CNN, self).__init__(*args,**kwargs)\n",
    "        \n",
    "        ###### FILL IN\n",
    "        model = Sequential()\n",
    "        # Note: plain linear activation were found to work better in practice\n",
    "        model.add(Conv2D(16, kernel_size=3, input_shape=(5, 5, self.n_state,), activation=\"linear\"))\n",
    "        model.add(Conv2D(8, kernel_size=3, activation=\"linear\"))\n",
    "        model.add(Flatten())\n",
    "        model.add(Dense(4))\n",
    "        \n",
    "        #model.compile(sgd(lr=lr, decay=1e-4, momentum=0.0), \"mse\")\n",
    "        model.compile(\"adam\", \"mse\")\n",
    "        self.model = model\n",
    "        print(self.model.summary())"
   ]
  },
  {
   "cell_type": "code",
   "execution_count": 14,
   "metadata": {
    "collapsed": true
   },
   "outputs": [
    {
     "name": "stdout",
     "output_type": "stream",
     "text": [
      "_________________________________________________________________\n",
      "Layer (type)                 Output Shape              Param #   \n",
      "=================================================================\n",
      "conv2d_1 (Conv2D)            (None, 3, 3, 16)          304       \n",
      "_________________________________________________________________\n",
      "conv2d_2 (Conv2D)            (None, 1, 1, 8)           1160      \n",
      "_________________________________________________________________\n",
      "flatten_2 (Flatten)          (None, 8)                 0         \n",
      "_________________________________________________________________\n",
      "dense_4 (Dense)              (None, 4)                 36        \n",
      "=================================================================\n",
      "Total params: 1,500\n",
      "Trainable params: 1,500\n",
      "Non-trainable params: 0\n",
      "_________________________________________________________________\n",
      "None\n",
      "Epoch 001/030 | Loss 0.0098 | Win/lose count 3.0/11.0 (-8.0)\n",
      "Epoch 002/030 | Loss 0.0120 | Win/lose count 6.0/2.0 (4.0)\n",
      "Epoch 003/030 | Loss 0.0065 | Win/lose count 5.5/7.0 (-1.5)\n",
      "Epoch 004/030 | Loss 0.0053 | Win/lose count 10.5/12.0 (-1.5)\n",
      "Epoch 005/030 | Loss 0.0019 | Win/lose count 11.0/6.0 (5.0)\n",
      "Epoch 006/030 | Loss 0.0076 | Win/lose count 6.5/4.0 (2.5)\n",
      "Epoch 007/030 | Loss 0.0069 | Win/lose count 4.0/1.0 (3.0)\n",
      "Epoch 008/030 | Loss 0.0017 | Win/lose count 7.0/4.0 (3.0)\n",
      "Epoch 009/030 | Loss 0.0609 | Win/lose count 8.5/3.0 (5.5)\n",
      "Epoch 010/030 | Loss 0.0515 | Win/lose count 12.0/6.0 (6.0)\n",
      "Epoch 011/030 | Loss 0.0037 | Win/lose count 8.5/5.0 (3.5)\n",
      "Epoch 012/030 | Loss 0.0060 | Win/lose count 5.0/5.0 (0.0)\n",
      "Epoch 013/030 | Loss 0.0029 | Win/lose count 7.5/6.0 (1.5)\n",
      "Epoch 014/030 | Loss 0.0025 | Win/lose count 12.0/5.0 (7.0)\n",
      "Epoch 015/030 | Loss 0.0010 | Win/lose count 17.0/2.0 (15.0)\n",
      "Epoch 016/030 | Loss 0.0015 | Win/lose count 21.5/5.0 (16.5)\n",
      "Epoch 017/030 | Loss 0.1200 | Win/lose count 11.0/6.0 (5.0)\n",
      "Epoch 018/030 | Loss 0.1746 | Win/lose count 8.5/1.0 (7.5)\n",
      "Epoch 019/030 | Loss 0.0012 | Win/lose count 9.5/7.0 (2.5)\n",
      "Epoch 020/030 | Loss 0.0018 | Win/lose count 17.0/4.0 (13.0)\n",
      "Epoch 021/030 | Loss 0.0625 | Win/lose count 7.0/4.0 (3.0)\n",
      "Epoch 022/030 | Loss 0.0044 | Win/lose count 16.5/12.0 (4.5)\n",
      "Epoch 023/030 | Loss 0.0068 | Win/lose count 6.5/3.0 (3.5)\n",
      "Epoch 024/030 | Loss 0.0599 | Win/lose count 7.0/6.0 (1.0)\n",
      "Epoch 025/030 | Loss 0.0047 | Win/lose count 8.0/3.0 (5.0)\n",
      "Epoch 026/030 | Loss 0.0071 | Win/lose count 21.0/0 (21.0)\n",
      "Epoch 027/030 | Loss 0.0017 | Win/lose count 10.0/1.0 (9.0)\n",
      "Epoch 028/030 | Loss 0.0062 | Win/lose count 9.0/2.0 (7.0)\n",
      "Epoch 029/030 | Loss 0.0029 | Win/lose count 13.0/9.0 (4.0)\n",
      "Epoch 030/030 | Loss 0.0024 | Win/lose count 7.0/5.0 (2.0)\n"
     ]
    },
    {
     "data": {
      "text/html": [
       "<video alt=\"test\" controls>\n",
       "                <source src=\"data:video/mp4;base64,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\" type=\"video/mp4\" />\n",
       "             </video>"
      ],
      "text/plain": [
       "<IPython.core.display.HTML object>"
      ]
     },
     "execution_count": 14,
     "metadata": {},
     "output_type": "execute_result"
    }
   ],
   "source": [
    "env = Environment(grid_size=size, max_time=T, temperature=0.3)\n",
    "agent = DQN_CNN(size, epsilon = 0.2, memory_size=2000, batch_size = 32) # default learning rate lr=0.001\n",
    "train(agent,env,epochs_train,prefix='cnn_train')\n",
    "HTML(display_videos('cnn_train30.mp4'))"
   ]
  },
  {
   "cell_type": "markdown",
   "metadata": {},
   "source": [
    "***\n",
    "***\n",
    "__Question 9__ Test both algorithms and compare their performances. Which issue(s) do you observe? Observe also different behaviors by changing the temperature."
   ]
  },
  {
   "cell_type": "code",
   "execution_count": 15,
   "metadata": {
    "collapsed": true
   },
   "outputs": [
    {
     "name": "stdout",
     "output_type": "stream",
     "text": [
      "_________________________________________________________________\n",
      "Layer (type)                 Output Shape              Param #   \n",
      "=================================================================\n",
      "conv2d_3 (Conv2D)            (None, 3, 3, 16)          304       \n",
      "_________________________________________________________________\n",
      "conv2d_4 (Conv2D)            (None, 1, 1, 8)           1160      \n",
      "_________________________________________________________________\n",
      "flatten_3 (Flatten)          (None, 8)                 0         \n",
      "_________________________________________________________________\n",
      "dense_5 (Dense)              (None, 4)                 36        \n",
      "=================================================================\n",
      "Total params: 1,500\n",
      "Trainable params: 1,500\n",
      "Non-trainable params: 0\n",
      "_________________________________________________________________\n",
      "None\n",
      "_________________________________________________________________\n",
      "Layer (type)                 Output Shape              Param #   \n",
      "=================================================================\n",
      "flatten_4 (Flatten)          (None, 50)                0         \n",
      "_________________________________________________________________\n",
      "dense_6 (Dense)              (None, 30)                1530      \n",
      "_________________________________________________________________\n",
      "dense_7 (Dense)              (None, 10)                310       \n",
      "_________________________________________________________________\n",
      "dense_8 (Dense)              (None, 4)                 44        \n",
      "=================================================================\n",
      "Total params: 1,884\n",
      "Trainable params: 1,884\n",
      "Non-trainable params: 0\n",
      "_________________________________________________________________\n",
      "None\n",
      "Test of the CNN\n",
      "Win/lose count 7.0/4.0. Average score (3.0)\n",
      "Win/lose count 10.0/1.0. Average score (6.0)\n",
      "Win/lose count 7.0/2.0. Average score (5.666666666666667)\n",
      "Win/lose count 31.5/2.0. Average score (11.625)\n",
      "Win/lose count 12.5/4.0. Average score (11.0)\n",
      "Win/lose count 21.5/8.0. Average score (11.416666666666666)\n",
      "Win/lose count 13.0/2.0. Average score (11.357142857142858)\n",
      "Win/lose count 13.0/4.0. Average score (11.0625)\n",
      "Win/lose count 6.5/2.0. Average score (10.333333333333334)\n",
      "Win/lose count 10.5/1.0. Average score (10.25)\n",
      "Win/lose count 22.0/4.0. Average score (10.954545454545455)\n",
      "Win/lose count 18.0/2.0. Average score (11.375)\n",
      "Win/lose count 14.0/2.0. Average score (11.423076923076923)\n",
      "Win/lose count 11.5/4.0. Average score (11.142857142857142)\n",
      "Win/lose count 12.0/4.0. Average score (10.933333333333334)\n",
      "Win/lose count 26.5/4.0. Average score (11.65625)\n",
      "Win/lose count 21.0/5.0. Average score (11.911764705882353)\n",
      "Win/lose count 21.0/3.0. Average score (12.25)\n",
      "Win/lose count 15.0/2.0. Average score (12.289473684210526)\n",
      "Win/lose count 9.0/0. Average score (12.125)\n",
      "Final score: 12.125\n",
      "Test of the FC\n",
      "Win/lose count 22.0/6.0. Average score (16.0)\n",
      "Win/lose count 4.0/1.0. Average score (9.5)\n",
      "Win/lose count 10.0/6.0. Average score (7.666666666666667)\n",
      "Win/lose count 15.0/1.0. Average score (9.25)\n",
      "Win/lose count 22.5/4.0. Average score (11.1)\n",
      "Win/lose count 12.0/0. Average score (11.25)\n",
      "Win/lose count 19.0/3.0. Average score (11.928571428571429)\n",
      "Win/lose count 12.0/2.0. Average score (11.6875)\n",
      "Win/lose count 10.0/1.0. Average score (11.38888888888889)\n",
      "Win/lose count 17.5/2.0. Average score (11.8)\n",
      "Win/lose count 21.5/1.0. Average score (12.590909090909092)\n",
      "Win/lose count 11.0/3.0. Average score (12.208333333333334)\n",
      "Win/lose count 20.0/2.0. Average score (12.653846153846153)\n",
      "Win/lose count 31.5/0. Average score (14.0)\n",
      "Win/lose count 9.5/1.0. Average score (13.633333333333333)\n",
      "Win/lose count 15.0/2.0. Average score (13.59375)\n",
      "Win/lose count 17.0/5.0. Average score (13.5)\n",
      "Win/lose count 15.5/5.0. Average score (13.333333333333334)\n",
      "Win/lose count 13.5/3.0. Average score (13.18421052631579)\n",
      "Win/lose count 17.0/3.0. Average score (13.225)\n",
      "Final score: 13.225\n"
     ]
    }
   ],
   "source": [
    "env = Environment(grid_size=size, max_time=T, temperature=.45)\n",
    "agent_cnn = DQN_CNN(size, epsilon = 0.1, memory_size=2000, batch_size = 32)\n",
    "agent_cnn.load(name_weights='cnn_trainmodel.h5',name_model='cnn_trainmodel.json')\n",
    "\n",
    "agent_fc = DQN_FC(size, epsilon = 0.1, memory_size=2000, batch_size = 32)\n",
    "#agent_cnn.load(name_weights='fc_trainmodel.h5',name_model='fc_trainmodel.json') # typo here\n",
    "agent_fc.load(name_weights='fc_trainmodel.h5',name_model='fc_trainmodel.json')\n",
    "print('Test of the CNN')\n",
    "test(agent_cnn,env,epochs_test,prefix='cnn_test')\n",
    "print('Test of the FC')\n",
    "test(agent_fc,env,epochs_test,prefix='fc_test')"
   ]
  },
  {
   "cell_type": "code",
   "execution_count": 16,
   "metadata": {
    "collapsed": true
   },
   "outputs": [
    {
     "data": {
      "text/html": [
       "<video alt=\"test\" controls>\n",
       "                <source src=\"data:video/mp4;base64,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\" type=\"video/mp4\" />\n",
       "             </video>"
      ],
      "text/plain": [
       "<IPython.core.display.HTML object>"
      ]
     },
     "execution_count": 16,
     "metadata": {},
     "output_type": "execute_result"
    }
   ],
   "source": [
    "HTML(display_videos('cnn_test20.mp4'))"
   ]
  },
  {
   "cell_type": "code",
   "execution_count": 17,
   "metadata": {
    "collapsed": true
   },
   "outputs": [
    {
     "data": {
      "text/html": [
       "<video alt=\"test\" controls>\n",
       "                <source src=\"data:video/mp4;base64,AAAAIGZ0eXBpc29tAAACAGlzb21pc28yYXZjMW1wNDEAAAAIZnJlZQAAF7JtZGF0AAACrQYF//+p3EXpvebZSLeWLNgg2SPu73gyNjQgLSBjb3JlIDE1MiByMjg1NCBlOWE1OTAzIC0gSC4yNjQvTVBFRy00IEFWQyBjb2RlYyAtIENvcHlsZWZ0IDIwMDMtMjAxNyAtIGh0dHA6Ly93d3cudmlkZW9sYW4ub3JnL3gyNjQuaHRtbCAtIG9wdGlvbnM6IGNhYmFjPTEgcmVmPTMgZGVibG9jaz0xOjA6MCBhbmFseXNlPTB4MToweDExMSBtZT1oZXggc3VibWU9NyBwc3k9MSBwc3lfcmQ9MS4wMDowLjAwIG1peGVkX3JlZj0xIG1lX3JhbmdlPTE2IGNocm9tYV9tZT0xIHRyZWxsaXM9MSA4eDhkY3Q9MCBjcW09MCBkZWFkem9uZT0yMSwxMSBmYXN0X3Bza2lwPTEgY2hyb21hX3FwX29mZnNldD00IHRocmVhZHM9NiBsb29rYWhlYWRfdGhyZWFkcz0xIHNsaWNlZF90aHJlYWRzPTAgbnI9MCBkZWNpbWF0ZT0xIGludGVybGFjZWQ9MCBibHVyYXlfY29tcGF0PTAgY29uc3RyYWluZWRfaW50cmE9MCBiZnJhbWVzPTMgYl9weXJhbWlkPTIgYl9hZGFwdD0xIGJfYmlhcz0wIGRpcmVjdD0xIHdlaWdodGI9MSBvcGVuX2dvcD0wIHdlaWdodHA9MiBrZXlpbnQ9MjUwIGtleWludF9taW49MjUgc2NlbmVjdXQ9NDAgaW50cmFfcmVmcmVzaD0wIHJjX2xvb2thaGVhZD00MCByYz1jcmYgbWJ0cmVlPTEgY3JmPTIzLjAgcWNvbXA9MC42MCBxcG1pbj0wIHFwbWF4PTY5IHFwc3RlcD00IGlwX3JhdGlvPTEuNDAgYXE9MToxLjAwAIAAAAMyZYiEADP//vaG+BTYUyP+T7/8I/+5H7cfWfrixkIJvrVeQ9GAMl8a/5lGYaXpyc8t7R+vTNAEZz6HlLJIofgUkwDfMsjnE+J8s6FP3lFrFWUnaqCtNczDmf8G6bB4fcxqPvruni9p0kkKXtH4yUENiqwKXDIljU8872Q+BopSaP+UG+KCnJeOEALbqK/ag+0XffMwE/4BrXcY0yVzorsftWByBPqdHS2CR+fnNs6HRvzgZexQ3ZQ9T4CZKKa3LJ1PS9nJKHveKBOD2HgsLYnSi4ulQPXT7wgVRqHXoVxCkc5zKJAx2QsW/xNFScBtoyI3GpknOakD4hMdurqgjRTC5L79QvzHAhJxMe0MoV2Wbj9Ek5IKpZ+J/ETLKSKIaLIYhKLLuzFt1r/D2iMaivwtZzcm47FB9EE5XzJnDvTVP2c1mv1VmL2xe4GOcE6EivKJWdrhRk4cEDoFv8oemGLjkWicxo5hNAyLJnQLyLd+NE2KksV4orh8Ar0/aHfvPZnpBbyGZ1vefINvei7p4sdPkLTR/aZCDFyAwLuI/AfGb/RrwyUtnncBR3RSDviqNpS3FwMMMN8TnyIqOTnOVzHinHgvyZ4PvGzRwumGJaLgACR+DN0eyDjAZRjBTjmMHCD2LdlXFhBLUC/wGlCXRzLflIsDuX8AQfcRZ4mKYstnGpYK1PsCzyN/lGYnAbz9ag4fB2AW1pn8kUnDMnD1s852yXfznvOlnHUJABDl+MeqRhF4JqSgmDyl2K6ZhQuErDoAT8pBwG19PJFGTwYzxR01QhVHy9F/HrEgqzuZLiYdnIf/s8+2YCunHXPjIBoNhxFwnYkZKgE+FXGR2FKJsrsPxE6hCEUVPG5ekR9nUD/E6B0q/99+dXcQf9vcOGUeoh6u4rEtzk3kfbk+InxeABkSFHQ8b2tmd+wr8hSsgmELlFKzCLDYljWYX2W1tA+yY4buQYAQomrU7c+a0I5JMQxt4RNbx6B20FPGwbMHD55qHEcXPUACMPbHwkX6/+CAzdYITRTiszACe9lrVV86FWnl9/yfb2OUx9PTKQy8GAlQI3z+9iafy9j4Xv6AfAhitsAASkEAAAAVQZohbEM//p4QA7ELY4YPdQFM/WVJAAAAGEGaQjwhkymEN//+p4QA9wPCjUVAD22Y0QAAAB5BmmRJ4Q8mUwU8N//+p4QBrgrVMf6hsBK+x0+li+4AAAAQAZ6DakK/AUix5bhs2pjwgQAAABdBmoVJ4Q8mUwIb//6nhAHBDwo49i4xxwAAABpBmqhJ4Q8mUwIZ//6eEAcFTjn01GoBtqFLwQAAABFBnsZFETwr/wFapRvNCwfZrQAAAA4BnudqQr8BWmxjJuSTWgAAABxBmulJqEFomUwIb//+p4QFC0T/T/NVAhP6SKmAAAAAHUGbC0nhClJlMFESw3/+p4QFC0T/UNjgcT5GqhbRAAAADwGfKmpCvwH5LGYjSnwyoAAAABdBmyxJ4Q6JlMCG//6nhAHG77M2BOjp/gAAABhBm01J4Q8mUwIb//6nhAGy7qcf4fVWMY0AAAAaQZtxSeEPJlMCG//+p4QEr7MflVszb22vcQ8AAAARQZ+PRRE8L/8Bb/4qhRbdc3EAAAAPAZ+udEK/AexpWMHJZk7AAAAAEAGfsGpCvwFRsI8lzPkk24AAAAASQZuzSahBaJlMFPDf/qeEAAEnAAAADwGf0mpCvwFR5QPJgizFgAAAABJBm9VJ4QpSZTBSw3/+p4QAAScAAAAQAZ/0akK/AU22tsM9WejugQAAABJBm/dJ4Q6JlMFEw3/+p4QAAScAAAAQAZ4WakK/AU22tsM9WejugQAAABJBmhlJ4Q8mUwU8N//+p4QAAScAAAAQAZ44akK/AU22tsM9WejugAAAABJBmjtJ4Q8mUwU8N//+p4QAAScAAAAQAZ5aakK/AU22tsM9WejugAAAABJBml1J4Q8mUwU8N//+p4QAAScAAAAQAZ58akK/AU22tsM9WejugQAAABJBmn9J4Q8mUwU8N//+p4QAAScAAAAQAZ6eakK/AU22tsM9WejugAAAABJBmoFJ4Q8mUwU8N//+p4QAAScAAAAQAZ6gakK/AU22tsM9WejugAAAABJBmqNJ4Q8mUwU8N//+p4QAAScAAAAQAZ7CakK/AU22tsM9WejugAAAABJBmsVJ4Q8mUwU8N//+p4QAAScAAAAQAZ7kakK/AU22tsM9WejugQAAABJBmudJ4Q8mUwU8N//+p4QAAScAAAAQAZ8GakK/AU22tsM9WejugQAAABJBmwlJ4Q8mUwU8N//+p4QAAScAAAAQAZ8oakK/AU22tsM9WejugAAAABJBmytJ4Q8mUwU8N//+p4QAAScAAAAQAZ9KakK/AU22tsM9WejugAAAABJBm01J4Q8mUwU8N//+p4QAAScAAAAQAZ9sakK/AU22tsM9WejugQAAABJBm29J4Q8mUwU8N//+p4QAAScAAAAQAZ+OakK/AU22tsM9WejugQAAABJBm5FJ4Q8mUwU8N//+p4QAAScAAAAQAZ+wakK/AU22tsM9WejugAAAABJBm7NJ4Q8mUwU8N//+p4QAAScAAAAQAZ/SakK/AU22tsM9WejugAAAABJBm9VJ4Q8mUwU8N//+p4QAAScAAAAQAZ/0akK/AU22tsM9WejugQAAABJBm/dJ4Q8mUwU8N//+p4QAAScAAAAQAZ4WakK/AU22tsM9WejugQAAABJBmhlJ4Q8mUwU8N//+p4QAAScAAAAQAZ44akK/AU22tsM9WejugAAAABJBmjtJ4Q8mUwU8N//+p4QAAScAAAAQAZ5aakK/AU22tsM9WejugAAAABJBml1J4Q8mUwU8N//+p4QAAScAAAAQAZ58akK/AU22tsM9WejugQAAABJBmn9J4Q8mUwU8N//+p4QAAScAAAAQAZ6eakK/AU22tsM9WejugAAAABZBmoNJ4Q8mUwIb//6nhAWMVpBUwKmBAAAADkGeoUURPC//AYfvfZswAAAAEAGewHRCvwFNtrbp2XZUi4EAAAAQAZ7CakK/AgsbXdWrnoaVgAAAABJBmsVJqEFomUwU8N/+p4QAAScAAAAPAZ7kakK/AU2yjdZ6s9HdAAAAEkGa50nhClJlMFLDf/6nhAABJwAAAA8BnwZqQr8BTbKN1nqz0d0AAAAcQZsJSeEOiZTBRMM//p4QBsu6b63vvdcR9M0poAAAABABnyhqQr8BUWvnOtDC8OpAAAAAGEGbKknhDyZTAhv//qeEAP37B69mfBFdBwAAABhBm01J4Q8mUwIZ//6eEAPL6+/kSI+sIb0AAAAPQZ9rRRE8K/8AzZLWaX5gAAAADQGfjGpCvwDN2LDxS/MAAAAZQZuOSahBaJlMCGf//p4QAote40LpvuttbQAAABhBm69J4QpSZTAhn/6eEAKP7pvoqVmvfqcAAAAYQZvQSeEOiZTAhn/+nhABr19xoXTfdbf8AAAAGUGb8UnhDyZTAhn//p4QAblfcX/iOoS2/MAAAAAYQZoSSeEPJlMCGf/+nhABu/f38iRH1hHpAAAAGEGaM0nhDyZTAhn//p4QAR74h/bIY+sJgQAAABlBmlRJ4Q8mUwIb//6nhAAv/sH+E4LdCXdAAAAAGUGadUnhDyZTAhv//qeEAB5/YP8JwW6E3cEAAAAeQZqZSeEPJlMCG//+p4QAE1HzNS69y7yFISxckCnAAAAAEEGet0URPC//AAulAingXekAAAAQAZ7WdEK/AA+6hvZdV/BtQQAAAA8BnthqQr8AD7qG7DPVn7cAAAAZQZrcSahBaJlMCGf//p4QAHaKcc/hzm+tyQAAAA9BnvpFESwr/wAZIlrNZ8AAAAANAZ8bakK/ABkrFh4rPwAAABlBmx1JqEFsmUwIZ//+nhAAufBjn8Oc31qpAAAAGEGbPknhClJlMCGf/p4QAL6vuNC6b7renAAAABhBm19J4Q6JlMCGf/6eEAElOEc/RgOzQO4AAAAZQZtgSeEPJlMCG//+p4QAc84z/Ujo0hqDwQAAABhBm4FJ4Q8mUwIb//6nhAB2geFHHslt7oAAAAAeQZujSeEPJlMFETw3//6nhAB5/fZ7tl1A8OLIU59lAAAAEAGfwmpCvwBkmbmuPFW0l+AAAAAZQZvESeEPJlMCHf/+qZYAKF76vrsQbioOkQAAAB9Bm+hJ4Q8mUwId//6plgAaipFoib1fW7CBJGDnfH8hAAAAEUGeBkURPC//AB8PtChkFw3BAAAAEAGeJXRCvwArNo7ytlD04YEAAAAPAZ4nakK/ABtc5N1nqz5tAAAAIkGaLEmoQWiZTAh3//6plgAbypFoZdZebEp5AKOw3H/HSeAAAAAVQZ5KRREsL/8AILnnYr05XIjNzrSpAAAADwGeaXRCvwAdCKTG9QRsgQAAABABnmtqQr8ALWo0TImlZxtAAAAAEkGacEmoQWyZTAhv//6nhAABJwAAAAxBno5FFSwv/wAAsoEAAAAPAZ6tdEK/ACvWUcR2XZYHAAAADwGer2pCvwAr1lG6z1Z7xwAAABJBmrRJqEFsmUwIb//+p4QAAScAAAAMQZ7SRRUsL/8AALKBAAAADwGe8XRCvwAr1lHEdl2WBwAAAA8BnvNqQr8AK9ZRus9We8cAAAAZQZr3SahBbJlMCGf//p4QANP6+7tObuLeHQAAAA9BnxVFFSwr/wAsTW4bHcAAAAANAZ82akK/ACxcpFvY7wAAABpBmzhJqEFsmUwIb//+p4QAUb0T/Vb5j8RSQQAAABhBm1lJ4QpSZTAhv/6nhABT8VpBCJ/ltysAAAAhQZt7SeEOiZTBTRMN//6nhACCj5mpswq35NWuUQJ3+Pg5AAAAEAGfmmpCvwBsHVPJgevbwIAAAAASQZudSeEPJlMFPDf//qeEAAEnAAAADwGfvGpCvwBsLEDyYIuXgQAAABFBm6FJ4Q8mUwIb//6nhAABJwAAABFBn99FETwv/wBPrXGbu6F5gAAAABABn/50Qr8AbAAAMkt/reBBAAAAEAGf4GpCvwBsHVPJgevbwIAAAAASQZvjSahBaJlMFPDf/qeEAAEnAAAADwGeAmpCvwBsLEDyYIuXgAAAABJBmgVJ4QpSZTBSw3/+p4QAAScAAAAPAZ4kakK/AGrzk3WerPV3AAAAEkGaJ0nhDomUwUTDf/6nhAABJwAAAA8BnkZqQr8AavOTdZ6s9XcAAAASQZpJSeEPJlMFPDf//qeEAAEnAAAADwGeaGpCvwBq85N1nqz1dwAAABJBmmtJ4Q8mUwU8N//+p4QAAScAAAAPAZ6KakK/AGrzk3WerPV3AAAAEkGajUnhDyZTBTw3//6nhAABJwAAAA8BnqxqQr8AavOTdZ6s9XcAAAASQZqvSeEPJlMFPDf//qeEAAEnAAAADwGezmpCvwBq85N1nqz1dwAAABJBmtFJ4Q8mUwU8N//+p4QAAScAAAAPAZ7wakK/AGrzk3WerPV3AAAAEkGa80nhDyZTBTwz//6eEAAEfQAAAA8BnxJqQr8AavOTdZ6s9XcAAAASQZsVSeEPJlMFPDP//p4QAAR8AAAADwGfNGpCvwBq85N1nqz1dwAAABpBmzZJ4Q8mUwIZ//6eEAH99j4EJ60cvc46kgAAABhBm1dJ4Q8mUwIZ//6eEAHy9/d2nN3Ft3sAAAAaQZt4SeEPJlMCGf/+nhAC98GOfw58QOH+ER8AAAAZQZuZSeEPJlMCGf/+nhADCr7i/8R1CW2PgAAAABhBm7pJ4Q8mUwIZ//6eEAMevuNC6b7rbF0AAAAZQZvbSeEPJlMCG//+p4QBPEAWbbEYXzNHwAAAABtBm/xJ4Q8mUwIb//6nhAE9+RwCa9ezPgf+a0EAAAAZQZodSeEPJlMCHf/+qZYBM/IMz8nmPuU3oQAAABJBmiFJ4Q8mUwId//6plgAAlYAAAAAMQZ5fRRE8L/8AALKAAAAAEAGefnRCvwGTeTdHbfCo6YEAAAAPAZ5gakK/AZMFjRK55dGVAAAAE0GaZUmoQWiZTAh3//6plgAAlYEAAAAMQZ6DRREsL/8AALKAAAAAEAGeonRCvwGTeTdHbfCo6YEAAAAPAZ6kakK/AZMFjRK55dGVAAAAE0GaqUmoQWyZTAh3//6plgAAlYEAAAAMQZ7HRRUsL/8AALKBAAAAEAGe5nRCvwGTeTdHbfCo6YAAAAAPAZ7oakK/AZMFjRK55dGVAAAAE0Ga7UmoQWyZTAh3//6plgAAlYEAAAAMQZ8LRRUsL/8AALKAAAAAEAGfKnRCvwGTeTdHbfCo6YAAAAAPAZ8sakK/AZMFjRK55dGVAAAAE0GbMUmoQWyZTAh3//6plgAAlYEAAAAMQZ9PRRUsL/8AALKBAAAAEAGfbnRCvwGTeTdHbfCo6YAAAAAPAZ9wakK/AZMFjRK55dGVAAAAE0GbdUmoQWyZTAh3//6plgAAlYEAAAAMQZ+TRRUsL/8AALKAAAAAEAGfsnRCvwGTeTdHbfCo6YAAAAAPAZ+0akK/AZMFjRK55dGVAAAAEkGbuUmoQWyZTAhv//6nhAABJwAAAAxBn9dFFSwv/wAAsoEAAAAQAZ/2dEK/AZN5N0dt8KjpgQAAAA8Bn/hqQr8BkwWNErnl0ZUAAAAaQZv6SahBbJlMCHf//qmWAUcKflNGPzkEhYEAAAAdQZoeSeEKUmUwId/+qZYG0llcfZnn5NiUBurmyoAAAAARQZ48RTRML/8CAR9zo0ifbjkAAAAPAZ5bdEK/ArBAHQdSyWjBAAAADwGeXWpCvwGTJaVIoEqiDgAAABxBmkJJqEFomUwIb//+p4QBNfjp91pZmpt0Ws1YAAAAEEGeYEURLC//ALpQIrSif3UAAAAOAZ6fdEK/AP7cd55xaTcAAAAQAZ6BakK/AP7NG80xVtHXwQAAABJBmoZJqEFsmUwIZ//+nhAABHwAAAAMQZ6kRRUsL/8AALKBAAAADwGew3RCvwCmWUcR2XZVFwAAAA8BnsVqQr8ApllG6z1Z6d0AAAAZQZrHSahBbJlMCGf//p4QAyPr7u05u4tsXQAAABxBmulL4QhClJEYIKAfyAf2HgFFSwr//jhAABFwAAAAJAGfCGpCvwKvY+1BxN2qw0km5aqGByrlJs1mJCklH4kb8zTeMAAAC7htb292AAAAbG12aGQAAAAAAAAAAAAAAAAAAAPoAAAfkAABAAABAAAAAAAAAAAAAAAAAQAAAAAAAAAAAAAAAAAAAAEAAAAAAAAAAAAAAAAAAEAAAAAAAAAAAAAAAAAAAAAAAAAAAAAAAAAAAAAAAAACAAAK4nRyYWsAAABcdGtoZAAAAAMAAAAAAAAAAAAAAAEAAAAAAAAfkAAAAAAAAAAAAAAAAAAAAAAAAQAAAAAAAAAAAAAAAAAAAAEAAAAAAAAAAAAAAAAAAEAAAAABEAAAARAAAAAAACRlZHRzAAAAHGVsc3QAAAAAAAAAAQAAH5AAAAQAAAEAAAAAClptZGlhAAAAIG1kaGQAAAAAAAAAAAAAAAAAADIAAAGUAFXEAAAAAAAtaGRscgAAAAAAAAAAdmlkZQAAAAAAAAAAAAAAAFZpZGVvSGFuZGxlcgAAAAoFbWluZgAAABR2bWhkAAAAAQAAAAAAAAAAAAAAJGRpbmYAAAAcZHJlZgAAAAAAAAABAAAADHVybCAAAAABAAAJxXN0YmwAAACVc3RzZAAAAAAAAAABAAAAhWF2YzEAAAAAAAAAAQAAAAAAAAAAAAAAAAAAAAABEAEQAEgAAABIAAAAAAAAAAEAAAAAAAAAAAAAAAAAAAAAAAAAAAAAAAAAAAAAAAAAAAAY//8AAAAvYXZjQwH0AA3/4QAXZ/QADZGbKCIR0IAAAAMAgAAAGQeKFMsBAAVo6+PESAAAABhzdHRzAAAAAAAAAAEAAADKAAACAAAAABRzdHNzAAAAAAAAAAEAAAABAAAFkGN0dHMAAAAAAAAAsAAAAAMAAAQAAAAAAQAABgAAAAABAAACAAAAAAEAAAQAAAAAAQAACAAAAAACAAACAAAAAAEAAAQAAAAAAQAABgAAAAABAAACAAAAAAIAAAQAAAAAAQAACgAAAAABAAAEAAAAAAEAAAAAAAAAAQAAAgAAAAABAAAGAAAAAAEAAAIAAAAAAQAABgAAAAABAAACAAAAAAEAAAYAAAAAAQAAAgAAAAABAAAGAAAAAAEAAAIAAAAAAQAABgAAAAABAAACAAAAAAEAAAYAAAAAAQAAAgAAAAABAAAGAAAAAAEAAAIAAAAAAQAABgAAAAABAAACAAAAAAEAAAYAAAAAAQAAAgAAAAABAAAGAAAAAAEAAAIAAAAAAQAABgAAAAABAAACAAAAAAEAAAYAAAAAAQAAAgAAAAABAAAGAAAAAAEAAAIAAAAAAQAABgAAAAABAAACAAAAAAEAAAYAAAAAAQAAAgAAAAABAAAGAAAAAAEAAAIAAAAAAQAABgAAAAABAAACAAAAAAEAAAYAAAAAAQAAAgAAAAABAAAGAAAAAAEAAAIAAAAAAQAABgAAAAABAAACAAAAAAEAAAYAAAAAAQAAAgAAAAABAAAGAAAAAAEAAAIAAAAAAQAABgAAAAABAAACAAAAAAEAAAoAAAAAAQAABAAAAAABAAAAAAAAAAEAAAIAAAAAAQAABgAAAAABAAACAAAAAAEAAAYAAAAAAQAAAgAAAAABAAAGAAAAAAEAAAIAAAAAAQAABAAAAAABAAAIAAAAAAIAAAIAAAAACAAABAAAAAABAAAKAAAAAAEAAAQAAAAAAQAAAAAAAAABAAACAAAAAAEAAAgAAAAAAgAAAgAAAAAFAAAEAAAAAAEAAAYAAAAAAQAAAgAAAAABAAAEAAAAAAEAAAoAAAAAAQAABAAAAAABAAAAAAAAAAEAAAIAAAAAAQAACgAAAAABAAAEAAAAAAEAAAAAAAAAAQAAAgAAAAABAAAKAAAAAAEAAAQAAAAAAQAAAAAAAAABAAACAAAAAAEAAAoAAAAAAQAABAAAAAABAAAAAAAAAAEAAAIAAAAAAQAACAAAAAACAAACAAAAAAIAAAQAAAAAAQAABgAAAAABAAACAAAAAAEAAAYAAAAAAQAAAgAAAAABAAAKAAAAAAEAAAQAAAAAAQAAAAAAAAABAAACAAAAAAEAAAYAAAAAAQAAAgAAAAABAAAGAAAAAAEAAAIAAAAAAQAABgAAAAABAAACAAAAAAEAAAYAAAAAAQAAAgAAAAABAAAGAAAAAAEAAAIAAAAAAQAABgAAAAABAAACAAAAAAEAAAYAAAAAAQAAAgAAAAABAAAGAAAAAAEAAAIAAAAAAQAABgAAAAABAAACAAAAAAEAAAYAAAAAAQAAAgAAAAAIAAAEAAAAAAEAAAoAAAAAAQAABAAAAAABAAAAAAAAAAEAAAIAAAAAAQAACgAAAAABAAAEAAAAAAEAAAAAAAAAAQAAAgAAAAABAAAKAAAAAAEAAAQAAAAAAQAAAAAAAAABAAACAAAAAAEAAAoAAAAAAQAABAAAAAABAAAAAAAAAAEAAAIAAAAAAQAACgAAAAABAAAEAAAAAAEAAAAAAAAAAQAAAgAAAAABAAAKAAAAAAEAAAQAAAAAAQAAAAAAAAABAAACAAAAAAEAAAoAAAAAAQAABAAAAAABAAAAAAAAAAEAAAIAAAAAAQAABAAAAAABAAAKAAAAAAEAAAQAAAAAAQAAAAAAAAABAAACAAAAAAEAAAoAAAAAAQAABAAAAAABAAAAAAAAAAEAAAIAAAAAAQAACgAAAAABAAAEAAAAAAEAAAAAAAAAAQAAAgAAAAABAAAEAAAAAAEAAAYAAAAAAQAAAgAAAAAcc3RzYwAAAAAAAAABAAAAAQAAAMoAAAABAAADPHN0c3oAAAAAAAAAAAAAAMoAAAXnAAAAGQAAABwAAAAiAAAAFAAAABsAAAAeAAAAFQAAABIAAAAgAAAAIQAAABMAAAAbAAAAHAAAAB4AAAAVAAAAEwAAABQAAAAWAAAAEwAAABYAAAAUAAAAFgAAABQAAAAWAAAAFAAAABYAAAAUAAAAFgAAABQAAAAWAAAAFAAAABYAAAAUAAAAFgAAABQAAAAWAAAAFAAAABYAAAAUAAAAFgAAABQAAAAWAAAAFAAAABYAAAAUAAAAFgAAABQAAAAWAAAAFAAAABYAAAAUAAAAFgAAABQAAAAWAAAAFAAAABYAAAAUAAAAFgAAABQAAAAWAAAAFAAAABYAAAAUAAAAGgAAABIAAAAUAAAAFAAAABYAAAATAAAAFgAAABMAAAAgAAAAFAAAABwAAAAcAAAAEwAAABEAAAAdAAAAHAAAABwAAAAdAAAAHAAAABwAAAAdAAAAHQAAACIAAAAUAAAAFAAAABMAAAAdAAAAEwAAABEAAAAdAAAAHAAAABwAAAAdAAAAHAAAACIAAAAUAAAAHQAAACMAAAAVAAAAFAAAABMAAAAmAAAAGQAAABMAAAAUAAAAFgAAABAAAAATAAAAEwAAABYAAAAQAAAAEwAAABMAAAAdAAAAEwAAABEAAAAeAAAAHAAAACUAAAAUAAAAFgAAABMAAAAVAAAAFQAAABQAAAAUAAAAFgAAABMAAAAWAAAAEwAAABYAAAATAAAAFgAAABMAAAAWAAAAEwAAABYAAAATAAAAFgAAABMAAAAWAAAAEwAAABYAAAATAAAAFgAAABMAAAAeAAAAHAAAAB4AAAAdAAAAHAAAAB0AAAAfAAAAHQAAABYAAAAQAAAAFAAAABMAAAAXAAAAEAAAABQAAAATAAAAFwAAABAAAAAUAAAAEwAAABcAAAAQAAAAFAAAABMAAAAXAAAAEAAAABQAAAATAAAAFwAAABAAAAAUAAAAEwAAABYAAAAQAAAAFAAAABMAAAAeAAAAIQAAABUAAAATAAAAEwAAACAAAAAUAAAAEgAAABQAAAAWAAAAEAAAABMAAAATAAAAHQAAACAAAAAoAAAAFHN0Y28AAAAAAAAAAQAAADAAAABidWR0YQAAAFptZXRhAAAAAAAAACFoZGxyAAAAAAAAAABtZGlyYXBwbAAAAAAAAAAAAAAAAC1pbHN0AAAAJal0b28AAAAdZGF0YQAAAAEAAAAATGF2ZjU3LjgzLjEwMA==\" type=\"video/mp4\" />\n",
       "             </video>"
      ],
      "text/plain": [
       "<IPython.core.display.HTML object>"
      ]
     },
     "execution_count": 17,
     "metadata": {},
     "output_type": "execute_result"
    }
   ],
   "source": [
    "HTML(display_videos('fc_test20.mp4'))"
   ]
  },
  {
   "cell_type": "markdown",
   "metadata": {},
   "source": [
    "**Comment:**\n",
    "\n",
    "* The ``temperature`` corresponds to the likelihood of a cell to contain either a malus or a bonus. When it decreases, there are fewer malus or bonus cells. In other words, the rewards are sparse. Conversely, when it is equal to 1, then all cells are bonus cells (since bonus cells suppress malus cells by design of the environment). In the testing experiment above, we increased by 0.15 (from 0.3 to 0.45).\n",
    "\n",
    "* What we observe is the tendency of the agent to get stuck in certain loops. However since we currently use the ``epsilon``-greedy exploration even in the testing phase, we get out of these loops from time to time. That being said, we still observe the agent exploring only a small part of the environment.\n",
    "\n",
    "* In addition, the vision range of the agent is fairly limited. This means that given a sparse reward environment and a poorly learned policy, the agent may never see any bonus or malus cells and be stuck in an edge of the grid. We even notice that behavior for the fully connected DQN on the maximal temperature once it has cleared a large reward zone, it does not know where to go next.\n",
    "\n",
    "* Regardless of the ``temperature`` variable, we notice that the CNN DQN performs **similarly** to the fully-connected one while having fewer parameters. Notice that we corrected a bug where ``agent_fc`` was not loading its trained weights."
   ]
  },
  {
   "cell_type": "markdown",
   "metadata": {},
   "source": [
    "***\n",
    "\n",
    "The algorithm tends to not explore the map which can be an issue. We propose two ideas in order to encourage exploration:\n",
    "1. Incorporating a decreasing $\\epsilon$-greedy exploration. You can use the method ```set_epsilon```\n",
    "2. Append via the environment a new state that describes if a cell has been visited or not\n",
    "\n",
    "***\n",
    "__Question 10__ Design a new ```train_explore``` function and environment class ```EnvironmentExploring``` to tackle the issue of exploration.\n",
    "\n"
   ]
  },
  {
   "cell_type": "code",
   "execution_count": 18,
   "metadata": {
    "collapsed": true
   },
   "outputs": [],
   "source": [
    "def train_explore(agent,env,epoch,prefix='', epsilon_decay=0.9, env_explore=False):\n",
    "    # Number of won games\n",
    "    score = 0\n",
    "    loss = 0\n",
    "\n",
    "    for e in range(epoch):\n",
    "        # At each epoch, we restart to a fresh game and get the initial state\n",
    "        state = env.reset()\n",
    "        # This assumes that the games will terminate\n",
    "        game_over = False\n",
    "\n",
    "        win = 0\n",
    "        lose = 0\n",
    "        \n",
    "        # Add the epsilon decay (similar to a learning rate decay) to reduce\n",
    "        # exploration as training goes\n",
    "        agent.set_epsilon(agent.epsilon * (epsilon_decay ** e))\n",
    "\n",
    "        while not game_over:\n",
    "            # The agent performs an action\n",
    "            action = agent.act(state, train=True)\n",
    "\n",
    "            # Apply an action to the environment, get the next state, the reward\n",
    "            # and if the games end\n",
    "            prev_state = state\n",
    "            if env_explore: # Are we using EnvironmentExploring?\n",
    "                state, reward, game_over = env.act(action, train=True)\n",
    "            else: # If not, back to standard environment to compare\n",
    "                state, reward, game_over = env.act(action)\n",
    "\n",
    "            # Update the counters\n",
    "            if reward > 0:\n",
    "                win = win + reward\n",
    "            if reward < 0:\n",
    "                lose = lose -reward\n",
    "\n",
    "            # Apply the reinforcement strategy\n",
    "            loss = agent.reinforce(prev_state, state,  action, reward, game_over)\n",
    "\n",
    "        # Save as a mp4\n",
    "        if (e + 1) % 10 == 0:\n",
    "            env.draw(prefix+str(e + 1))\n",
    "\n",
    "        # Update stats\n",
    "        score += win-lose\n",
    "\n",
    "        print(\"Epoch {:03d}/{:03d} | Loss {:.4f} | Win/lose count {}/{} ({})\"\n",
    "              \" | Agent epsilon: {:.6f}\"\n",
    "              .format(e + 1, epoch, loss, win, lose, win-lose, agent.epsilon))\n",
    "        agent.save(name_weights=prefix+'model.h5',name_model=prefix+'model.json')"
   ]
  },
  {
   "cell_type": "code",
   "execution_count": 19,
   "metadata": {
    "collapsed": true
   },
   "outputs": [
    {
     "name": "stdout",
     "output_type": "stream",
     "text": [
      "_________________________________________________________________\n",
      "Layer (type)                 Output Shape              Param #   \n",
      "=================================================================\n",
      "conv2d_5 (Conv2D)            (None, 3, 3, 16)          304       \n",
      "_________________________________________________________________\n",
      "conv2d_6 (Conv2D)            (None, 1, 1, 8)           1160      \n",
      "_________________________________________________________________\n",
      "flatten_5 (Flatten)          (None, 8)                 0         \n",
      "_________________________________________________________________\n",
      "dense_9 (Dense)              (None, 4)                 36        \n",
      "=================================================================\n",
      "Total params: 1,500\n",
      "Trainable params: 1,500\n",
      "Non-trainable params: 0\n",
      "_________________________________________________________________\n",
      "None\n",
      "Epoch 001/030 | Loss 0.0732 | Win/lose count 3.0/9.0 (-6.0) | Agent epsilon: 0.500000\n",
      "Epoch 002/030 | Loss 0.0042 | Win/lose count 3.5/4.0 (-0.5) | Agent epsilon: 0.495000\n",
      "Epoch 003/030 | Loss 0.0019 | Win/lose count 6.0/3.0 (3.0) | Agent epsilon: 0.485149\n",
      "Epoch 004/030 | Loss 0.0023 | Win/lose count 9.0/4.0 (5.0) | Agent epsilon: 0.470740\n",
      "Epoch 005/030 | Loss 0.0041 | Win/lose count 12.5/13.0 (-0.5) | Agent epsilon: 0.452191\n",
      "Epoch 006/030 | Loss 0.0038 | Win/lose count 9.5/11.0 (-1.5) | Agent epsilon: 0.430029\n",
      "Epoch 007/030 | Loss 0.0058 | Win/lose count 13.5/16.0 (-2.5) | Agent epsilon: 0.404864\n",
      "Epoch 008/030 | Loss 0.0645 | Win/lose count 9.5/9.0 (0.5) | Agent epsilon: 0.377360\n",
      "Epoch 009/030 | Loss 0.0522 | Win/lose count 15.0/9.0 (6.0) | Agent epsilon: 0.348207\n",
      "Epoch 010/030 | Loss 0.0029 | Win/lose count 14.5/11.0 (3.5) | Agent epsilon: 0.318093\n",
      "Epoch 011/030 | Loss 0.0045 | Win/lose count 3.0/2.0 (1.0) | Agent epsilon: 0.287677\n",
      "Epoch 012/030 | Loss 0.0071 | Win/lose count 13.5/3.0 (10.5) | Agent epsilon: 0.257569\n",
      "Epoch 013/030 | Loss 0.0025 | Win/lose count 15.0/4.0 (11.0) | Agent epsilon: 0.228305\n",
      "Epoch 014/030 | Loss 0.0043 | Win/lose count 13.0/8.0 (5.0) | Agent epsilon: 0.200342\n",
      "Epoch 015/030 | Loss 0.0034 | Win/lose count 5.5/2.0 (3.5) | Agent epsilon: 0.174047\n",
      "Epoch 016/030 | Loss 0.1199 | Win/lose count 17.0/3.0 (14.0) | Agent epsilon: 0.149690\n",
      "Epoch 017/030 | Loss 0.0596 | Win/lose count 15.0/2.0 (13.0) | Agent epsilon: 0.127455\n",
      "Epoch 018/030 | Loss 0.0015 | Win/lose count 20.0/4.0 (16.0) | Agent epsilon: 0.107437\n",
      "Epoch 019/030 | Loss 0.0066 | Win/lose count 12.5/2.0 (10.5) | Agent epsilon: 0.089658\n",
      "Epoch 020/030 | Loss 0.0020 | Win/lose count 5.5/1.0 (4.5) | Agent epsilon: 0.074072\n",
      "Epoch 021/030 | Loss 0.0013 | Win/lose count 10.0/0 (10.0) | Agent epsilon: 0.060584\n",
      "Epoch 022/030 | Loss 0.0021 | Win/lose count 5.5/1.0 (4.5) | Agent epsilon: 0.049057\n",
      "Epoch 023/030 | Loss 0.0644 | Win/lose count 11.0/0 (11.0) | Agent epsilon: 0.039325\n",
      "Epoch 024/030 | Loss 0.0021 | Win/lose count 16.5/0 (16.5) | Agent epsilon: 0.031209\n",
      "Epoch 025/030 | Loss 0.0030 | Win/lose count 14.5/2.0 (12.5) | Agent epsilon: 0.024520\n",
      "Epoch 026/030 | Loss 0.0005 | Win/lose count 20.5/3.0 (17.5) | Agent epsilon: 0.019073\n",
      "Epoch 027/030 | Loss 0.0670 | Win/lose count 19.5/1.0 (18.5) | Agent epsilon: 0.014687\n",
      "Epoch 028/030 | Loss 0.0014 | Win/lose count 6.0/2.0 (4.0) | Agent epsilon: 0.011196\n",
      "Epoch 029/030 | Loss 0.0019 | Win/lose count 1.5/1.0 (0.5) | Agent epsilon: 0.008450\n",
      "Epoch 030/030 | Loss 0.0026 | Win/lose count 2.5/0 (2.5) | Agent epsilon: 0.006314\n"
     ]
    },
    {
     "data": {
      "text/html": [
       "<video alt=\"test\" controls>\n",
       "                <source src=\"data:video/mp4;base64,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\" type=\"video/mp4\" />\n",
       "             </video>"
      ],
      "text/plain": [
       "<IPython.core.display.HTML object>"
      ]
     },
     "execution_count": 19,
     "metadata": {},
     "output_type": "execute_result"
    }
   ],
   "source": [
    "# Training\n",
    "#env = EnvironmentExploring(grid_size=size, max_time=T, temperature=0.3)\n",
    "env = Environment(grid_size=size, max_time=T, temperature=0.3) # We only implement the ϵ-greedy exploration first\n",
    "#agent = DQN_CNN(size, lr=.1, epsilon = 0.1, memory_size=2000, batch_size = 32,n_state=3)\n",
    "agent = DQN_CNN(size, epsilon = 0.5, memory_size=2000, batch_size = 32,n_state=2)\n",
    "train_explore(agent, env, epochs_train, prefix='cnn_train_eps_explore', epsilon_decay=0.99)\n",
    "HTML(display_videos('cnn_train_eps_explore30.mp4'))"
   ]
  },
  {
   "cell_type": "code",
   "execution_count": 20,
   "metadata": {
    "collapsed": true
   },
   "outputs": [
    {
     "name": "stdout",
     "output_type": "stream",
     "text": [
      "Win/lose count 2.5/0. Average score (2.5)\n",
      "Win/lose count 2.5/0. Average score (2.5)\n",
      "Win/lose count 6.0/0. Average score (3.6666666666666665)\n",
      "Win/lose count 2.5/0. Average score (3.375)\n",
      "Win/lose count 7.5/0. Average score (4.2)\n",
      "Win/lose count 3.5/0. Average score (4.083333333333333)\n",
      "Win/lose count 6.0/0. Average score (4.357142857142857)\n",
      "Win/lose count 4.0/0. Average score (4.3125)\n",
      "Win/lose count 4.5/0. Average score (4.333333333333333)\n",
      "Win/lose count 1.5/1.0. Average score (3.95)\n",
      "Win/lose count 3.5/2.0. Average score (3.727272727272727)\n",
      "Win/lose count 6.5/1.0. Average score (3.875)\n",
      "Win/lose count 3.5/0. Average score (3.8461538461538463)\n",
      "Win/lose count 4.5/0. Average score (3.892857142857143)\n",
      "Win/lose count 1.0/0. Average score (3.7)\n",
      "Win/lose count 3.5/1.0. Average score (3.625)\n",
      "Win/lose count 5.5/0. Average score (3.735294117647059)\n",
      "Win/lose count 1.5/1.0. Average score (3.5555555555555554)\n",
      "Win/lose count 0.5/0. Average score (3.3947368421052633)\n",
      "Win/lose count 4.5/0. Average score (3.45)\n",
      "Final score: 3.45\n"
     ]
    },
    {
     "data": {
      "text/html": [
       "<video alt=\"test\" controls>\n",
       "                <source src=\"data:video/mp4;base64,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\" type=\"video/mp4\" />\n",
       "             </video>"
      ],
      "text/plain": [
       "<IPython.core.display.HTML object>"
      ]
     },
     "execution_count": 20,
     "metadata": {},
     "output_type": "execute_result"
    }
   ],
   "source": [
    "# Evaluation\n",
    "test(agent,env,epochs_test,prefix='cnn_test_eps_explore', epsilon_greedy=True) # ϵ-greedy exploration during testing\n",
    "HTML(display_videos('cnn_test_eps_explore20.mp4'))"
   ]
  },
  {
   "cell_type": "code",
   "execution_count": 21,
   "metadata": {},
   "outputs": [
    {
     "name": "stdout",
     "output_type": "stream",
     "text": [
      "Win/lose count 2.5/0. Average score (2.5)\n",
      "Win/lose count 3.0/0. Average score (2.75)\n",
      "Win/lose count 1.5/0. Average score (2.3333333333333335)\n",
      "Win/lose count 0/0. Average score (1.75)\n",
      "Win/lose count 5.5/0. Average score (2.5)\n",
      "Win/lose count 3.0/1.0. Average score (2.4166666666666665)\n",
      "Win/lose count 1.5/0. Average score (2.2857142857142856)\n",
      "Win/lose count 0/0. Average score (2.0)\n",
      "Win/lose count 0.5/0. Average score (1.8333333333333333)\n",
      "Win/lose count 7.0/0. Average score (2.35)\n",
      "Win/lose count 4.5/0. Average score (2.5454545454545454)\n",
      "Win/lose count 4.0/0. Average score (2.6666666666666665)\n",
      "Win/lose count 1.0/0. Average score (2.5384615384615383)\n",
      "Win/lose count 2.5/0. Average score (2.5357142857142856)\n",
      "Win/lose count 2.5/0. Average score (2.533333333333333)\n",
      "Win/lose count 1.0/0. Average score (2.4375)\n",
      "Win/lose count 5.0/0. Average score (2.588235294117647)\n",
      "Win/lose count 2.0/0. Average score (2.5555555555555554)\n",
      "Win/lose count 2.0/0. Average score (2.526315789473684)\n",
      "Win/lose count 1.0/0. Average score (2.45)\n",
      "Final score: 2.45\n"
     ]
    },
    {
     "data": {
      "text/html": [
       "<video alt=\"test\" controls>\n",
       "                <source src=\"data:video/mp4;base64,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\" type=\"video/mp4\" />\n",
       "             </video>"
      ],
      "text/plain": [
       "<IPython.core.display.HTML object>"
      ]
     },
     "execution_count": 21,
     "metadata": {},
     "output_type": "execute_result"
    }
   ],
   "source": [
    "# Evaluation\n",
    "test(agent,env,epochs_test,prefix='cnn_test_eps_explore', epsilon_greedy=False) # No ϵ-greedy exploration during test\n",
    "HTML(display_videos('cnn_test_eps_explore20.mp4'))"
   ]
  },
  {
   "cell_type": "markdown",
   "metadata": {},
   "source": [
    "**Comment:**\n",
    "\n",
    "* Using the decreasing $\\epsilon$-greedy scheme alone, we see that the agent is able to explore a significantly larger area of the map and it performs almost flawlessly after 30 epochs during training. Besides, it almost always avoids *poisonous* cells during the testing phase when we do not use $\\epsilon$-greedy scheme in the testing phase. However the testing average score results remain below the results we obtained not using a decreasing $\\epsilon$-greedy policy (although we were using a higher ``temperature`` in our previous tests). In addition, using sticky actions in training seems to help the agent overcome certain loops and get a slightly better average final score than when removing the sticky actions entirely.\n",
    "\n",
    "* Now we add the EnvironmentExploring that indicates whether a state has been visited."
   ]
  },
  {
   "cell_type": "code",
   "execution_count": 22,
   "metadata": {},
   "outputs": [],
   "source": [
    "class EnvironmentExploring(Environment):\n",
    "    def __init__(self, *args, **kwargs):\n",
    "        super(EnvironmentExploring, self).__init__(*args, **kwargs)\n",
    "    # Environment.draw and Environment.get_frame do not change\n",
    "    \n",
    "    def act(self, action, train=False):\n",
    "        \"\"\"This function returns the new state, reward and decides if the\n",
    "        game ends.\"\"\"\n",
    "\n",
    "        self.get_frame(int(self.t))\n",
    "\n",
    "        self.position = np.zeros((self.grid_size, self.grid_size))\n",
    "\n",
    "        self.position[0:2,:]= -1\n",
    "        self.position[:,0:2] = -1\n",
    "        self.position[-2:, :] = -1\n",
    "        self.position[-2:, :] = -1\n",
    "\n",
    "        self.position[self.x, self.y] = 1\n",
    "        if action == 0: # up\n",
    "            if self.x == self.grid_size-3:\n",
    "                self.x = self.x-1\n",
    "            else:\n",
    "                self.x = self.x + 1\n",
    "        elif action == 1: # down\n",
    "            if self.x == 2:\n",
    "                self.x = self.x+1\n",
    "            else:\n",
    "                self.x = self.x-1\n",
    "        elif action == 2: # right\n",
    "            if self.y == self.grid_size - 3:\n",
    "                self.y = self.y - 1\n",
    "            else:\n",
    "                self.y = self.y + 1\n",
    "        elif action == 3: # left\n",
    "            if self.y == 2:\n",
    "                self.y = self.y + 1\n",
    "            else:\n",
    "                self.y = self.y - 1\n",
    "        else:\n",
    "            RuntimeError('Error: action not recognized')\n",
    "\n",
    "        self.t = self.t + 1\n",
    "        \n",
    "        reward = 0\n",
    "        if train:\n",
    "            reward = -self.malus_position[self.x, self.y]\n",
    "        self.malus_position[self.x, self.y] = 0.1\n",
    "\n",
    "        reward = reward + self.board[self.x, self.y]\n",
    "        \n",
    "        #reward = self.board[self.x, self.y]\n",
    "        self.board[self.x, self.y] = 0\n",
    "        game_over = self.t > self.max_time\n",
    "        \n",
    "        \n",
    "        state = np.concatenate((self.malus_position.reshape(self.grid_size, self.grid_size, 1),\n",
    "                                self.board.reshape(self.grid_size, self.grid_size,1),\n",
    "                        self.position.reshape(self.grid_size, self.grid_size,1)),axis=2)\n",
    "        state = state[self.x-2:self.x+3,self.y-2:self.y+3,:]\n",
    "\n",
    "        return state, reward, game_over\n",
    "\n",
    "    def reset(self):\n",
    "        \"\"\"This function resets the game and returns the initial state\"\"\"\n",
    "\n",
    "        self.x = np.random.randint(3, self.grid_size-3, size=1)[0]\n",
    "        self.y = np.random.randint(3, self.grid_size-3, size=1)[0]\n",
    "\n",
    "\n",
    "        bonus = 0.5*np.random.binomial(1,self.temperature,size=self.grid_size**2)\n",
    "        bonus = bonus.reshape(self.grid_size,self.grid_size)\n",
    "\n",
    "        malus = -1.0*np.random.binomial(1,self.temperature,size=self.grid_size**2)\n",
    "        malus = malus.reshape(self.grid_size, self.grid_size)\n",
    "\n",
    "        self.to_draw = np.zeros((self.max_time+2, self.grid_size*self.scale, self.grid_size*self.scale, 3))\n",
    "\n",
    "\n",
    "        self.malus_position = np.zeros((self.grid_size, self.grid_size))\n",
    "        \n",
    "        malus[bonus>0]=0\n",
    "\n",
    "        self.board = bonus + malus\n",
    "\n",
    "        self.position = np.zeros((self.grid_size, self.grid_size))\n",
    "        self.position[0:2,:]= -1\n",
    "        self.position[:,0:2] = -1\n",
    "        self.position[-2:, :] = -1\n",
    "        #self.position[-2:, :] = -1\n",
    "        self.position[:, -2:] = -1\n",
    "        self.board[self.x,self.y] = 0\n",
    "        self.t = 0\n",
    "\n",
    "        state = np.concatenate((self.malus_position.reshape(self.grid_size, self.grid_size,1),\n",
    "                               self.board.reshape(self.grid_size, self.grid_size,1),\n",
    "                        self.position.reshape(self.grid_size, self.grid_size,1)),axis=2)\n",
    "\n",
    "        state = state[self.x - 2:self.x + 3, self.y - 2:self.y + 3, :]\n",
    "        return state\n",
    "    \n",
    "    \n",
    "    #if False:\n",
    "    ## use those samples of code:\n",
    "    #In train explore:\n",
    "    #state, reward, game_over = env.act(action, train=True)\n",
    "\n",
    "    ## In Environment exploring:\n",
    "    # You will have to change n_state to 3 because you will use one more layer!\n",
    "    #reward = 0\n",
    "    #if train:\n",
    "    #    reward = -self.malus_position[self.x, self.y]\n",
    "    #self.malus_position[self.x, self.y] = 0.1\n",
    "\n",
    "    #reward = reward + self.board[self.x, self.y]\n",
    "    # 3 \"feature\" states instead of 2\n",
    "    #state = np.concatenate((self.malus_position.reshape(self.grid_size, self.grid_size,1),\n",
    "    #                                self.board.reshape(self.grid_size, self.grid_size,1),\n",
    "    #                        self.position.reshape(self.grid_size, self.grid_size,1)),axis=2)"
   ]
  },
  {
   "cell_type": "code",
   "execution_count": 23,
   "metadata": {},
   "outputs": [
    {
     "name": "stdout",
     "output_type": "stream",
     "text": [
      "_________________________________________________________________\n",
      "Layer (type)                 Output Shape              Param #   \n",
      "=================================================================\n",
      "conv2d_7 (Conv2D)            (None, 3, 3, 16)          448       \n",
      "_________________________________________________________________\n",
      "conv2d_8 (Conv2D)            (None, 1, 1, 8)           1160      \n",
      "_________________________________________________________________\n",
      "flatten_6 (Flatten)          (None, 8)                 0         \n",
      "_________________________________________________________________\n",
      "dense_10 (Dense)             (None, 4)                 36        \n",
      "=================================================================\n",
      "Total params: 1,644\n",
      "Trainable params: 1,644\n",
      "Non-trainable params: 0\n",
      "_________________________________________________________________\n",
      "None\n",
      "Epoch 001/030 | Loss 0.0131 | Win/lose count 1.5/6.0 (-4.5) | Agent epsilon: 0.500000\n",
      "Epoch 002/030 | Loss 0.0095 | Win/lose count 14.5/12.0 (2.5) | Agent epsilon: 0.495000\n",
      "Epoch 003/030 | Loss 0.0097 | Win/lose count 15.0/14.0 (1.0) | Agent epsilon: 0.485149\n",
      "Epoch 004/030 | Loss 0.0075 | Win/lose count 12.5/7.0 (5.5) | Agent epsilon: 0.470740\n",
      "Epoch 005/030 | Loss 0.0033 | Win/lose count 9.0/7.0 (2.0) | Agent epsilon: 0.452191\n",
      "Epoch 006/030 | Loss 0.0031 | Win/lose count 17.0/7.0 (10.0) | Agent epsilon: 0.430029\n",
      "Epoch 007/030 | Loss 0.0057 | Win/lose count 10.0/7.0 (3.0) | Agent epsilon: 0.404864\n",
      "Epoch 008/030 | Loss 0.0110 | Win/lose count 9.5/4.0 (5.5) | Agent epsilon: 0.377360\n",
      "Epoch 009/030 | Loss 0.0047 | Win/lose count 11.0/6.0 (5.0) | Agent epsilon: 0.348207\n",
      "Epoch 010/030 | Loss 0.0043 | Win/lose count 10.0/13.0 (-3.0) | Agent epsilon: 0.318093\n",
      "Epoch 011/030 | Loss 0.0053 | Win/lose count 12.0/6.0 (6.0) | Agent epsilon: 0.287677\n",
      "Epoch 012/030 | Loss 0.0029 | Win/lose count 10.5/2.0 (8.5) | Agent epsilon: 0.257569\n",
      "Epoch 013/030 | Loss 0.0101 | Win/lose count 5.5/2.0 (3.5) | Agent epsilon: 0.228305\n",
      "Epoch 014/030 | Loss 0.0056 | Win/lose count 8.5/5.0 (3.5) | Agent epsilon: 0.200342\n",
      "Epoch 015/030 | Loss 0.0050 | Win/lose count 10.5/6.0 (4.5) | Agent epsilon: 0.174047\n",
      "Epoch 016/030 | Loss 0.0017 | Win/lose count 13.5/4.0 (9.5) | Agent epsilon: 0.149690\n",
      "Epoch 017/030 | Loss 0.0047 | Win/lose count 13.0/2.0 (11.0) | Agent epsilon: 0.127455\n",
      "Epoch 018/030 | Loss 0.0466 | Win/lose count 7.5/4.0 (3.5) | Agent epsilon: 0.107437\n",
      "Epoch 019/030 | Loss 0.0034 | Win/lose count 4.0/1.0 (3.0) | Agent epsilon: 0.089658\n",
      "Epoch 020/030 | Loss 0.0019 | Win/lose count 14.0/2.0 (12.0) | Agent epsilon: 0.074072\n",
      "Epoch 021/030 | Loss 0.0024 | Win/lose count 6.5/2.0 (4.5) | Agent epsilon: 0.060584\n",
      "Epoch 022/030 | Loss 0.0027 | Win/lose count 1.5/4.0 (-2.5) | Agent epsilon: 0.049057\n",
      "Epoch 023/030 | Loss 0.0019 | Win/lose count 11.0/2.0 (9.0) | Agent epsilon: 0.039325\n",
      "Epoch 024/030 | Loss 0.0022 | Win/lose count 9.0/2.0 (7.0) | Agent epsilon: 0.031209\n",
      "Epoch 025/030 | Loss 0.0029 | Win/lose count 10.0/2.0 (8.0) | Agent epsilon: 0.024520\n",
      "Epoch 026/030 | Loss 0.0019 | Win/lose count 13.5/0 (13.5) | Agent epsilon: 0.019073\n",
      "Epoch 027/030 | Loss 0.0032 | Win/lose count 10.5/0 (10.5) | Agent epsilon: 0.014687\n",
      "Epoch 028/030 | Loss 0.0011 | Win/lose count 4.0/0 (4.0) | Agent epsilon: 0.011196\n",
      "Epoch 029/030 | Loss 0.0020 | Win/lose count 5.0/0 (5.0) | Agent epsilon: 0.008450\n",
      "Epoch 030/030 | Loss 0.0067 | Win/lose count 2.0/0 (2.0) | Agent epsilon: 0.006314\n"
     ]
    },
    {
     "data": {
      "text/html": [
       "<video alt=\"test\" controls>\n",
       "                <source src=\"data:video/mp4;base64,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\" type=\"video/mp4\" />\n",
       "             </video>"
      ],
      "text/plain": [
       "<IPython.core.display.HTML object>"
      ]
     },
     "execution_count": 23,
     "metadata": {},
     "output_type": "execute_result"
    }
   ],
   "source": [
    "# Training\n",
    "env = EnvironmentExploring(grid_size=size, max_time=T, temperature=0.3)\n",
    "#env = Environment(grid_size=size, max_time=T, temperature=0.3)\n",
    "agent = DQN_CNN(size, epsilon = 0.5, memory_size=2000, batch_size = 32,n_state=3)\n",
    "#agent = DQN_CNN(size, lr=.1, epsilon = 0.5, memory_size=2000, batch_size = 32,n_state=2)\n",
    "train_explore(agent, env, epochs_train, prefix='cnn_train_full_explore', epsilon_decay=0.99) \n",
    "HTML(display_videos('cnn_train_full_explore30.mp4'))"
   ]
  },
  {
   "cell_type": "code",
   "execution_count": 24,
   "metadata": {},
   "outputs": [
    {
     "name": "stdout",
     "output_type": "stream",
     "text": [
      "Win/lose count 2.0/1.0. Average score (1.0)\n",
      "Win/lose count 2.0/0. Average score (1.5)\n",
      "Win/lose count 2.0/0. Average score (1.6666666666666667)\n",
      "Win/lose count 3.0/0. Average score (2.0)\n",
      "Win/lose count 3.0/0. Average score (2.2)\n",
      "Win/lose count 1.0/0. Average score (2.0)\n",
      "Win/lose count 3.0/1.0. Average score (2.0)\n",
      "Win/lose count 2.0/0. Average score (2.0)\n",
      "Win/lose count 7.5/0. Average score (2.611111111111111)\n",
      "Win/lose count 6.5/0. Average score (3.0)\n",
      "Win/lose count 1.5/0. Average score (2.8636363636363638)\n",
      "Win/lose count 7.5/0. Average score (3.25)\n",
      "Win/lose count 1.0/0. Average score (3.076923076923077)\n",
      "Win/lose count 5.0/0. Average score (3.2142857142857144)\n",
      "Win/lose count 5.0/0. Average score (3.3333333333333335)\n",
      "Win/lose count 10.5/2.0. Average score (3.65625)\n",
      "Win/lose count 2.0/1.0. Average score (3.5)\n",
      "Win/lose count 15.0/0. Average score (4.138888888888889)\n",
      "Win/lose count 11.5/0. Average score (4.526315789473684)\n",
      "Win/lose count 1.5/0. Average score (4.375)\n",
      "Final score: 4.375\n"
     ]
    },
    {
     "data": {
      "text/html": [
       "<video alt=\"test\" controls>\n",
       "                <source src=\"data:video/mp4;base64,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\" type=\"video/mp4\" />\n",
       "             </video>"
      ],
      "text/plain": [
       "<IPython.core.display.HTML object>"
      ]
     },
     "execution_count": 24,
     "metadata": {},
     "output_type": "execute_result"
    }
   ],
   "source": [
    "# Evaluation\n",
    "test(agent,env,epochs_test,prefix='cnn_test_full_explore_no_eps_test', epsilon_greedy=True) # ϵ-greedy exploration during testing\n",
    "HTML(display_videos('cnn_test_full_explore_no_eps_test20.mp4'))"
   ]
  },
  {
   "cell_type": "markdown",
   "metadata": {},
   "source": [
    "**Comment:**\n",
    "\n",
    "By adding in the count-based exploration scheme, we obtain similar results on the training phase. Even when using the $\\epsilon$-greedy scheme in the testing phase, we obtain slightly better results on average when using the count-based exploration AND the $\\epsilon$-greedy exploration approaches together.\n",
    "\n",
    "Our last experiment consists in using only the count-based exploration but no $\\epsilon$-greedy approach in both training and testing phases."
   ]
  },
  {
   "cell_type": "code",
   "execution_count": 25,
   "metadata": {},
   "outputs": [
    {
     "name": "stdout",
     "output_type": "stream",
     "text": [
      "_________________________________________________________________\n",
      "Layer (type)                 Output Shape              Param #   \n",
      "=================================================================\n",
      "conv2d_9 (Conv2D)            (None, 3, 3, 16)          448       \n",
      "_________________________________________________________________\n",
      "conv2d_10 (Conv2D)           (None, 1, 1, 8)           1160      \n",
      "_________________________________________________________________\n",
      "flatten_7 (Flatten)          (None, 8)                 0         \n",
      "_________________________________________________________________\n",
      "dense_11 (Dense)             (None, 4)                 36        \n",
      "=================================================================\n",
      "Total params: 1,644\n",
      "Trainable params: 1,644\n",
      "Non-trainable params: 0\n",
      "_________________________________________________________________\n",
      "None\n",
      "Epoch 001/030 | Loss 0.0001 | Win/lose count 4.0/4.0 (0.0) | Agent epsilon: 0.000000\n",
      "Epoch 002/030 | Loss 0.0017 | Win/lose count 2.5/1.0 (1.5) | Agent epsilon: 0.000000\n",
      "Epoch 003/030 | Loss 0.0038 | Win/lose count 0.5/0 (0.5) | Agent epsilon: 0.000000\n",
      "Epoch 004/030 | Loss 0.0008 | Win/lose count 2.0/5.0 (-3.0) | Agent epsilon: 0.000000\n",
      "Epoch 005/030 | Loss 0.0012 | Win/lose count 2.5/3.0 (-0.5) | Agent epsilon: 0.000000\n",
      "Epoch 006/030 | Loss 0.0019 | Win/lose count 3.0/4.0 (-1.0) | Agent epsilon: 0.000000\n",
      "Epoch 007/030 | Loss 0.0054 | Win/lose count 0/0 (0) | Agent epsilon: 0.000000\n",
      "Epoch 008/030 | Loss 0.0029 | Win/lose count 2.5/1.0 (1.5) | Agent epsilon: 0.000000\n",
      "Epoch 009/030 | Loss 0.0014 | Win/lose count 1.5/2.0 (-0.5) | Agent epsilon: 0.000000\n",
      "Epoch 010/030 | Loss 0.0016 | Win/lose count 2.5/1.0 (1.5) | Agent epsilon: 0.000000\n",
      "Epoch 011/030 | Loss 0.0087 | Win/lose count 1.5/2.0 (-0.5) | Agent epsilon: 0.000000\n",
      "Epoch 012/030 | Loss 0.0090 | Win/lose count 1.0/0 (1.0) | Agent epsilon: 0.000000\n",
      "Epoch 013/030 | Loss 0.0020 | Win/lose count 0.5/0 (0.5) | Agent epsilon: 0.000000\n",
      "Epoch 014/030 | Loss 0.0026 | Win/lose count 2.0/2.0 (0.0) | Agent epsilon: 0.000000\n",
      "Epoch 015/030 | Loss 0.0050 | Win/lose count 2.0/1.0 (1.0) | Agent epsilon: 0.000000\n",
      "Epoch 016/030 | Loss 0.0001 | Win/lose count 0/1.0 (-1.0) | Agent epsilon: 0.000000\n",
      "Epoch 017/030 | Loss 0.0010 | Win/lose count 0/0 (0) | Agent epsilon: 0.000000\n",
      "Epoch 018/030 | Loss 0.0004 | Win/lose count 1.5/1.0 (0.5) | Agent epsilon: 0.000000\n",
      "Epoch 019/030 | Loss 0.0018 | Win/lose count 0/0 (0) | Agent epsilon: 0.000000\n",
      "Epoch 020/030 | Loss 0.0001 | Win/lose count 0.5/0 (0.5) | Agent epsilon: 0.000000\n",
      "Epoch 021/030 | Loss 0.0016 | Win/lose count 2.0/1.0 (1.0) | Agent epsilon: 0.000000\n",
      "Epoch 022/030 | Loss 0.0060 | Win/lose count 5.5/1.0 (4.5) | Agent epsilon: 0.000000\n",
      "Epoch 023/030 | Loss 0.0012 | Win/lose count 4.0/0 (4.0) | Agent epsilon: 0.000000\n",
      "Epoch 024/030 | Loss 0.0019 | Win/lose count 1.0/0 (1.0) | Agent epsilon: 0.000000\n",
      "Epoch 025/030 | Loss 0.0009 | Win/lose count 0/0 (0) | Agent epsilon: 0.000000\n",
      "Epoch 026/030 | Loss 0.0065 | Win/lose count 0.5/1.0 (-0.5) | Agent epsilon: 0.000000\n",
      "Epoch 027/030 | Loss 0.0029 | Win/lose count 2.0/0 (2.0) | Agent epsilon: 0.000000\n",
      "Epoch 028/030 | Loss 0.0050 | Win/lose count 3.5/1.0 (2.5) | Agent epsilon: 0.000000\n",
      "Epoch 029/030 | Loss 0.0014 | Win/lose count 3.0/0 (3.0) | Agent epsilon: 0.000000\n",
      "Epoch 030/030 | Loss 0.0044 | Win/lose count 2.5/0 (2.5) | Agent epsilon: 0.000000\n"
     ]
    },
    {
     "data": {
      "text/html": [
       "<video alt=\"test\" controls>\n",
       "                <source src=\"data:video/mp4;base64,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\" type=\"video/mp4\" />\n",
       "             </video>"
      ],
      "text/plain": [
       "<IPython.core.display.HTML object>"
      ]
     },
     "execution_count": 25,
     "metadata": {},
     "output_type": "execute_result"
    }
   ],
   "source": [
    "# Training\n",
    "env = EnvironmentExploring(grid_size=size, max_time=T, temperature=0.3)\n",
    "#env = Environment(grid_size=size, max_time=T, temperature=0.3)\n",
    "agent = DQN_CNN(size, lr=.1, epsilon = 0, memory_size=2000, batch_size = 32,n_state=3) # no ϵ-greedy exploration during training\n",
    "#agent = DQN_CNN(size, lr=.1, epsilon = 0.5, memory_size=2000, batch_size = 32,n_state=2)\n",
    "train_explore(agent, env, epochs_train, prefix='cnn_train_count_explore', epsilon_decay=0.99)\n",
    "HTML(display_videos('cnn_train_count_explore30.mp4'))"
   ]
  },
  {
   "cell_type": "code",
   "execution_count": 26,
   "metadata": {},
   "outputs": [
    {
     "name": "stdout",
     "output_type": "stream",
     "text": [
      "Win/lose count 1.5/0. Average score (1.5)\n",
      "Win/lose count 3.5/1.0. Average score (2.0)\n",
      "Win/lose count 0.5/1.0. Average score (1.1666666666666667)\n",
      "Win/lose count 0.5/1.0. Average score (0.75)\n",
      "Win/lose count 0.5/0. Average score (0.7)\n",
      "Win/lose count 0.5/0. Average score (0.6666666666666666)\n",
      "Win/lose count 3.0/0. Average score (1.0)\n",
      "Win/lose count 1.0/0. Average score (1.0)\n",
      "Win/lose count 1.5/2.0. Average score (0.8333333333333334)\n",
      "Win/lose count 1.5/0. Average score (0.9)\n",
      "Win/lose count 3.0/0. Average score (1.0909090909090908)\n",
      "Win/lose count 3.5/1.0. Average score (1.2083333333333333)\n",
      "Win/lose count 1.0/0. Average score (1.1923076923076923)\n",
      "Win/lose count 2.0/1.0. Average score (1.1785714285714286)\n",
      "Win/lose count 2.5/1.0. Average score (1.2)\n",
      "Win/lose count 3.5/0. Average score (1.34375)\n",
      "Win/lose count 1.5/0. Average score (1.3529411764705883)\n",
      "Win/lose count 1.5/0. Average score (1.3611111111111112)\n",
      "Win/lose count 2.0/1.0. Average score (1.3421052631578947)\n",
      "Win/lose count 0/0. Average score (1.275)\n",
      "Final score: 1.275\n"
     ]
    },
    {
     "data": {
      "text/html": [
       "<video alt=\"test\" controls>\n",
       "                <source src=\"data:video/mp4;base64,AAAAIGZ0eXBpc29tAAACAGlzb21pc28yYXZjMW1wNDEAAAAIZnJlZQAAFcFtZGF0AAACrQYF//+p3EXpvebZSLeWLNgg2SPu73gyNjQgLSBjb3JlIDE1MiByMjg1NCBlOWE1OTAzIC0gSC4yNjQvTVBFRy00IEFWQyBjb2RlYyAtIENvcHlsZWZ0IDIwMDMtMjAxNyAtIGh0dHA6Ly93d3cudmlkZW9sYW4ub3JnL3gyNjQuaHRtbCAtIG9wdGlvbnM6IGNhYmFjPTEgcmVmPTMgZGVibG9jaz0xOjA6MCBhbmFseXNlPTB4MToweDExMSBtZT1oZXggc3VibWU9NyBwc3k9MSBwc3lfcmQ9MS4wMDowLjAwIG1peGVkX3JlZj0xIG1lX3JhbmdlPTE2IGNocm9tYV9tZT0xIHRyZWxsaXM9MSA4eDhkY3Q9MCBjcW09MCBkZWFkem9uZT0yMSwxMSBmYXN0X3Bza2lwPTEgY2hyb21hX3FwX29mZnNldD00IHRocmVhZHM9NiBsb29rYWhlYWRfdGhyZWFkcz0xIHNsaWNlZF90aHJlYWRzPTAgbnI9MCBkZWNpbWF0ZT0xIGludGVybGFjZWQ9MCBibHVyYXlfY29tcGF0PTAgY29uc3RyYWluZWRfaW50cmE9MCBiZnJhbWVzPTMgYl9weXJhbWlkPTIgYl9hZGFwdD0xIGJfYmlhcz0wIGRpcmVjdD0xIHdlaWdodGI9MSBvcGVuX2dvcD0wIHdlaWdodHA9MiBrZXlpbnQ9MjUwIGtleWludF9taW49MjUgc2NlbmVjdXQ9NDAgaW50cmFfcmVmcmVzaD0wIHJjX2xvb2thaGVhZD00MCByYz1jcmYgbWJ0cmVlPTEgY3JmPTIzLjAgcWNvbXA9MC42MCBxcG1pbj0wIHFwbWF4PTY5IHFwc3RlcD00IGlwX3JhdGlvPTEuNDAgYXE9MToxLjAwAIAAAALqZYiEADf//vaH+BTZWBP+Wb/9DX/cj9uPrP1xYyEE31qvIejAGS+1H+b/rFFs6Z6UB/fgCJQAc24ZwpIoZ/8CmWxwvgUK/HE+UwozlT/KDbJHQMPKO2F9ljZpjE9bfIT4k6OsHt3BSR3uoS4u+EJUATa9SiRMDCPaUjeCORiKRBCRUIeGZwz4k6IInL2DZqKMNRbkfEm885nd0sGCqNn6BS5jABHLCit+EZQkCsWrequCbIs1IdpS+nkCCr2VxTDcvlEeQ8nZoxIEXE3X0VEyJLSwn6V/GQFGFbGzrHLxTjbwegeqDEqqNXN9cgCJole48SIL+toKEcZlso0fNrtYpe3gMC8TvoJNv7BkIST1NRhKW/5hiGrbAUqMt54xB0M048yRyBkMB/ucM5sq6YgAafjbVYpamutNrTIMPjRqBnNRCcFQp6K2bsJ9vQyI1D8SOMxnIesVg2d9PgD3X75UjRK8s+NIf5Yp6cFNOQ4ATBVDxB31rX0sEIeEMlooRrpaS0KsGuGzaA18RQuvDPgTnACP1OfZZyAZUOXsKFlyMHjAAF3PcZrKQWFdmWoEEgkV8nCRUj+7nAqtZ7fhHKc2BLR90X+csS8qqF0hB7DCP+RGPBUK+U3y/yA3/oeVwY9nc/XiPAf6ZlYQvSBLhpkUljdirDTU2iQydp3SfoUgKFPQnoLuLJRvpTAOK845ikDKLqhHZV/84N1CNK5pqmBDrR0bxsoELotWKXhp6rCsn7pjqag2i+Te/ibVWTATNo6jTAIIQnyA5nyxmIS9YhnqL1k2Gioos6mZcuHlVhyNbPIFX4jqXi3Oxz1BNXUnA9Ctp2DhRZTbIJjDJx+uzC6AKgdI9L8pHHGQ1xx1a/iqQJzXYkFZwxFalwqT9ZF2lEiuTbnko7gDcFDEF5e+cnO4rYY/TXhiSxO92UFd7qSlTNJSb5L0LkmPzNJa2Ffv/7+qNWrYD9aEffBmdOmNZnAEDgenSiN0dAAAGZEAAAAMQZoibEN//qeEAAEnAAAADwGeQXkK/wAJ1ZRus9WgcwAAABBBmkQ8IZMphDf//qeEAAEnAAAADwGeY2pCvwAJ1ZRus9WgcwAAABJBmmZJ4Q8mUwU8N//+p4QAAScAAAAPAZ6FakK/AAnVlG6z1aBzAAAAEkGaiEnhDyZTBTw3//6nhAABJwAAAA8BnqdqQr8ACdWUbrPVoHMAAAASQZqqSeEPJlMFPDf//qeEAAEnAAAADwGeyWpCvwAJ1ZRus9WgcwAAABJBmsxJ4Q8mUwU8N//+p4QAAScAAAAPAZ7rakK/AAnVlG6z1aBzAAAAEkGa7knhDyZTBTw3//6nhAABJwAAAA8Bnw1qQr8ACdWUbrPVoHMAAAASQZsQSeEPJlMFPDf//qeEAAEnAAAADwGfL2pCvwAJ1ZRus9WgcwAAABJBmzJJ4Q8mUwU8N//+p4QAAScAAAAPAZ9RakK/AAnVlG6z1aBzAAAAEkGbVEnhDyZTBTw3//6nhAABJwAAAA8Bn3NqQr8ACdWUbrPVoHMAAAASQZt2SeEPJlMFPDf//qeEAAEnAAAADwGflWpCvwAJ1ZRus9WgcwAAABJBm5hJ4Q8mUwU8N//+p4QAAScAAAAPAZ+3akK/AAnVlG6z1aBzAAAAEkGbuknhDyZTBTw3//6nhAABJwAAAA8Bn9lqQr8ACdWUbrPVoHMAAAASQZvcSeEPJlMFPDf//qeEAAEnAAAADwGf+2pCvwAJ1ZRus9WgcwAAABJBm/5J4Q8mUwU8N//+p4QAAScAAAAPAZ4dakK/AAnVlG6z1aBzAAAAEkGaAEnhDyZTBTw3//6nhAABJwAAAA8Bnj9qQr8ACdWUbrPVoHMAAAASQZoiSeEPJlMFPDf//qeEAAEnAAAADwGeQWpCvwAJ1ZRus9WgcwAAABJBmkRJ4Q8mUwU8N//+p4QAAScAAAAPAZ5jakK/AAnVlG6z1aBzAAAAEkGaZknhDyZTBTw3//6nhAABJwAAAA8BnoVqQr8ACdWUbrPVoHMAAAASQZqISeEPJlMFPDf//qeEAAEnAAAADwGep2pCvwAJ1ZRus9WgcwAAABJBmqpJ4Q8mUwU8N//+p4QAAScAAAAPAZ7JakK/AAnVlG6z1aBzAAAAEkGazEnhDyZTBTw3//6nhAABJwAAAA8BnutqQr8ACdWUbrPVoHMAAAASQZruSeEPJlMFPDf//qeEAAEnAAAADwGfDWpCvwAJ1ZRus9WgcwAAABJBmxBJ4Q8mUwU8N//+p4QAAScAAAAPAZ8vakK/AAnVlG6z1aBzAAAAEkGbMknhDyZTBTw3//6nhAABJwAAAA8Bn1FqQr8ACdWUbrPVoHMAAAASQZtUSeEPJlMFPDf//qeEAAEnAAAADwGfc2pCvwAJ1ZRus9WgcwAAABJBm3ZJ4Q8mUwU8N//+p4QAAScAAAAPAZ+VakK/AAnVlG6z1aBzAAAAEkGbmEnhDyZTBTw3//6nhAABJwAAAA8Bn7dqQr8ACdWUbrPVoHMAAAASQZu6SeEPJlMFPDf//qeEAAEnAAAADwGf2WpCvwAJ1ZRus9WgcwAAABJBm9xJ4Q8mUwU8N//+p4QAAScAAAAPAZ/7akK/AAnVlG6z1aBzAAAAEkGb/knhDyZTBTw3//6nhAABJwAAAA8Bnh1qQr8ACdWUbrPVoHMAAAASQZoASeEPJlMFPDf//qeEAAEnAAAADwGeP2pCvwAJ1ZRus9WgcwAAABJBmiJJ4Q8mUwU8N//+p4QAAScAAAAPAZ5BakK/AAnVlG6z1aBzAAAAEkGaREnhDyZTBTw3//6nhAABJwAAAA8BnmNqQr8ACdWUbrPVoHMAAAASQZpmSeEPJlMFPDf//qeEAAEnAAAADwGehWpCvwAJ1ZRus9WgcwAAABJBmohJ4Q8mUwU8N//+p4QAAScAAAAPAZ6nakK/AAnVlG6z1aBzAAAAEkGaqknhDyZTBTw3//6nhAABJwAAAA8BnslqQr8ACdWUbrPVoHMAAAASQZrMSeEPJlMFPDf//qeEAAEnAAAADwGe62pCvwAJ1ZRus9WgcwAAABJBmu5J4Q8mUwU8N//+p4QAAScAAAAPAZ8NakK/AAnVlG6z1aBzAAAAEkGbEEnhDyZTBTw3//6nhAABJwAAAA8Bny9qQr8ACdWUbrPVoHMAAAASQZsySeEPJlMFPDf//qeEAAEnAAAADwGfUWpCvwAJ1ZRus9WgcwAAABJBm1RJ4Q8mUwU8N//+p4QAAScAAAAPAZ9zakK/AAnVlG6z1aBzAAAAEkGbdknhDyZTBTw3//6nhAABJwAAAA8Bn5VqQr8ACdWUbrPVoHMAAAASQZuYSeEPJlMFPDf//qeEAAEnAAAADwGft2pCvwAJ1ZRus9WgcwAAABJBm7pJ4Q8mUwU8N//+p4QAAScAAAAPAZ/ZakK/AAnVlG6z1aBzAAAAEkGb3EnhDyZTBTw3//6nhAABJwAAAA8Bn/tqQr8ACdWUbrPVoHMAAAASQZv+SeEPJlMFPDf//qeEAAEnAAAADwGeHWpCvwAJ1ZRus9WgcwAAABJBmgBJ4Q8mUwU8N//+p4QAAScAAAAPAZ4/akK/AAnVlG6z1aBzAAAAEkGaIknhDyZTBTw3//6nhAABJwAAAA8BnkFqQr8ACdWUbrPVoHMAAAASQZpESeEPJlMFPDf//qeEAAEnAAAADwGeY2pCvwAJ1ZRus9WgcwAAABJBmmZJ4Q8mUwU8N//+p4QAAScAAAAPAZ6FakK/AAnVlG6z1aBzAAAAEkGaiEnhDyZTBTw3//6nhAABJwAAAA8BnqdqQr8ACdWUbrPVoHMAAAASQZqqSeEPJlMFPDf//qeEAAEnAAAADwGeyWpCvwAJ1ZRus9WgcwAAABJBmsxJ4Q8mUwU8N//+p4QAAScAAAAPAZ7rakK/AAnVlG6z1aBzAAAAEkGa7knhDyZTBTw3//6nhAABJwAAAA8Bnw1qQr8ACdWUbrPVoHMAAAASQZsQSeEPJlMFPDf//qeEAAEnAAAADwGfL2pCvwAJ1ZRus9WgcwAAABJBmzJJ4Q8mUwU8N//+p4QAAScAAAAPAZ9RakK/AAnVlG6z1aBzAAAAEkGbVEnhDyZTBTw3//6nhAABJwAAAA8Bn3NqQr8ACdWUbrPVoHMAAAASQZt2SeEPJlMFPDf//qeEAAEnAAAADwGflWpCvwAJ1ZRus9WgcwAAABJBm5hJ4Q8mUwU8N//+p4QAAScAAAAPAZ+3akK/AAnVlG6z1aBzAAAAEkGbuknhDyZTBTw3//6nhAABJwAAAA8Bn9lqQr8ACdWUbrPVoHMAAAASQZvcSeEPJlMFPDf//qeEAAEnAAAADwGf+2pCvwAJ1ZRus9WgcwAAABJBm/5J4Q8mUwU8N//+p4QAAScAAAAPAZ4dakK/AAnVlG6z1aBzAAAAEkGaAEnhDyZTBTw3//6nhAABJwAAAA8Bnj9qQr8ACdWUbrPVoHMAAAASQZoiSeEPJlMFPDf//qeEAAEnAAAADwGeQWpCvwAJ1ZRus9WgcwAAABJBmkRJ4Q8mUwU8N//+p4QAAScAAAAPAZ5jakK/AAnVlG6z1aBzAAAAEkGaZknhDyZTBTw3//6nhAABJwAAAA8BnoVqQr8ACdWUbrPVoHMAAAASQZqISeEPJlMFPDf//qeEAAEnAAAADwGep2pCvwAJ1ZRus9WgcwAAABJBmqpJ4Q8mUwU8N//+p4QAAScAAAAPAZ7JakK/AAnVlG6z1aBzAAAAEkGazEnhDyZTBTw3//6nhAABJwAAAA8BnutqQr8ACdWUbrPVoHMAAAASQZruSeEPJlMFPDf//qeEAAEnAAAADwGfDWpCvwAJ1ZRus9WgcwAAABJBmxBJ4Q8mUwU8N//+p4QAAScAAAAPAZ8vakK/AAnVlG6z1aBzAAAAEkGbMknhDyZTBTw3//6nhAABJwAAAA8Bn1FqQr8ACdWUbrPVoHMAAAASQZtUSeEPJlMFPDf//qeEAAEnAAAADwGfc2pCvwAJ1ZRus9WgcwAAABJBm3ZJ4Q8mUwU8N//+p4QAAScAAAAPAZ+VakK/AAnVlG6z1aBzAAAAEkGbmEnhDyZTBTw3//6nhAABJwAAAA8Bn7dqQr8ACdWUbrPVoHMAAAASQZu6SeEPJlMFPDf//qeEAAEnAAAADwGf2WpCvwAJ1ZRus9WgcwAAABJBm9xJ4Q8mUwU8N//+p4QAAScAAAAPAZ/7akK/AAnVlG6z1aBzAAAAEkGb/knhDyZTBTw3//6nhAABJwAAAA8Bnh1qQr8ACdWUbrPVoHMAAAASQZoASeEPJlMFPDf//qeEAAEnAAAADwGeP2pCvwAJ1ZRus9WgcwAAABJBmiJJ4Q8mUwU8N//+p4QAAScAAAAPAZ5BakK/AAnVlG6z1aBzAAAAEkGaREnhDyZTBTw3//6nhAABJwAAAA8BnmNqQr8ACdWUbrPVoHMAAAASQZpmSeEPJlMFPDf//qeEAAEnAAAADwGehWpCvwAJ1ZRus9WgcwAAABJBmohJ4Q8mUwU8N//+p4QAAScAAAAPAZ6nakK/AAnVlG6z1aBzAAAAEkGaqknhDyZTBTw3//6nhAABJwAAAA8BnslqQr8ACdWUbrPVoHMAAAASQZrMSeEPJlMFPDf//qeEAAEnAAAADwGe62pCvwAJ1ZRus9WgcwAAABJBmu5J4Q8mUwU8N//+p4QAAScAAAAPAZ8NakK/AAnVlG6z1aBzAAAAEkGbEEnhDyZTBTw3//6nhAABJwAAAA8Bny9qQr8ACdWUbrPVoHMAAAASQZsySeEPJlMFPDf//qeEAAEnAAAADwGfUWpCvwAJ1ZRus9WgcwAAABJBm1RJ4Q8mUwU8N//+p4QAAScAAAAPAZ9zakK/AAnVlG6z1aBzAAAAEkGbdknhDyZTBTw3//6nhAABJwAAAA8Bn5VqQr8ACdWUbrPVoHMAAAASQZuYSeEPJlMFPDf//qeEAAEnAAAADwGft2pCvwAJ1ZRus9WgcwAAABJBm7pJ4Q8mUwU8N//+p4QAAScAAAAPAZ/ZakK/AAnVlG6z1aBzAAAAEkGb3EnhDyZTBTw3//6nhAABJwAAAA8Bn/tqQr8ACdWUbrPVoHMAAAASQZv+SeEPJlMFPDf//qeEAAEnAAAADwGeHWpCvwAJ1ZRus9WgcwAAABJBmgBJ4Q8mUwU8N//+p4QAAScAAAAPAZ4/akK/AAnVlG6z1aBzAAAAEkGaIknhDyZTBTw3//6nhAABJwAAAA8BnkFqQr8ACdWUbrPVoHMAAAASQZpESeEPJlMFPDP//p4QAAR8AAAADwGeY2pCvwAJ1ZRus9WgcwAAABJBmmZJ4Q8mUwU8M//+nhAABH0AAAAPAZ6FakK/AAnVlG6z1aBzAAAAEkGaiEnhDyZTBTwv//6MsAAEjQAAAA8BnqdqQr8ACdWUbrPVoHMAAAAaQZqpS+EIQ8kRggoB/IB/YeAIV//+OEAAEXAAAAyIbW9vdgAAAGxtdmhkAAAAAAAAAAAAAAAAAAAD6AAAH5AAAQAAAQAAAAAAAAAAAAAAAAEAAAAAAAAAAAAAAAAAAAABAAAAAAAAAAAAAAAAAABAAAAAAAAAAAAAAAAAAAAAAAAAAAAAAAAAAAAAAAAAAgAAC7J0cmFrAAAAXHRraGQAAAADAAAAAAAAAAAAAAABAAAAAAAAH5AAAAAAAAAAAAAAAAAAAAAAAAEAAAAAAAAAAAAAAAAAAAABAAAAAAAAAAAAAAAAAABAAAAAARAAAAEQAAAAAAAkZWR0cwAAABxlbHN0AAAAAAAAAAEAAB+QAAAEAAABAAAAAAsqbWRpYQAAACBtZGhkAAAAAAAAAAAAAAAAAAAyAAABlABVxAAAAAAALWhkbHIAAAAAAAAAAHZpZGUAAAAAAAAAAAAAAABWaWRlb0hhbmRsZXIAAAAK1W1pbmYAAAAUdm1oZAAAAAEAAAAAAAAAAAAAACRkaW5mAAAAHGRyZWYAAAAAAAAAAQAAAAx1cmwgAAAAAQAACpVzdGJsAAAAlXN0c2QAAAAAAAAAAQAAAIVhdmMxAAAAAAAAAAEAAAAAAAAAAAAAAAAAAAAAARABEABIAAAASAAAAAAAAAABAAAAAAAAAAAAAAAAAAAAAAAAAAAAAAAAAAAAAAAAAAAAGP//AAAAL2F2Y0MB9AAN/+EAF2f0AA2RmygiEdCAAAADAIAAABkHihTLAQAFaOvjxEgAAAAYc3R0cwAAAAAAAAABAAAAygAAAgAAAAAUc3RzcwAAAAAAAAABAAAAAQAABmBjdHRzAAAAAAAAAMoAAAABAAAEAAAAAAEAAAYAAAAAAQAAAgAAAAABAAAGAAAAAAEAAAIAAAAAAQAABgAAAAABAAACAAAAAAEAAAYAAAAAAQAAAgAAAAABAAAGAAAAAAEAAAIAAAAAAQAABgAAAAABAAACAAAAAAEAAAYAAAAAAQAAAgAAAAABAAAGAAAAAAEAAAIAAAAAAQAABgAAAAABAAACAAAAAAEAAAYAAAAAAQAAAgAAAAABAAAGAAAAAAEAAAIAAAAAAQAABgAAAAABAAACAAAAAAEAAAYAAAAAAQAAAgAAAAABAAAGAAAAAAEAAAIAAAAAAQAABgAAAAABAAACAAAAAAEAAAYAAAAAAQAAAgAAAAABAAAGAAAAAAEAAAIAAAAAAQAABgAAAAABAAACAAAAAAEAAAYAAAAAAQAAAgAAAAABAAAGAAAAAAEAAAIAAAAAAQAABgAAAAABAAACAAAAAAEAAAYAAAAAAQAAAgAAAAABAAAGAAAAAAEAAAIAAAAAAQAABgAAAAABAAACAAAAAAEAAAYAAAAAAQAAAgAAAAABAAAGAAAAAAEAAAIAAAAAAQAABgAAAAABAAACAAAAAAEAAAYAAAAAAQAAAgAAAAABAAAGAAAAAAEAAAIAAAAAAQAABgAAAAABAAACAAAAAAEAAAYAAAAAAQAAAgAAAAABAAAGAAAAAAEAAAIAAAAAAQAABgAAAAABAAACAAAAAAEAAAYAAAAAAQAAAgAAAAABAAAGAAAAAAEAAAIAAAAAAQAABgAAAAABAAACAAAAAAEAAAYAAAAAAQAAAgAAAAABAAAGAAAAAAEAAAIAAAAAAQAABgAAAAABAAACAAAAAAEAAAYAAAAAAQAAAgAAAAABAAAGAAAAAAEAAAIAAAAAAQAABgAAAAABAAACAAAAAAEAAAYAAAAAAQAAAgAAAAABAAAGAAAAAAEAAAIAAAAAAQAABgAAAAABAAACAAAAAAEAAAYAAAAAAQAAAgAAAAABAAAGAAAAAAEAAAIAAAAAAQAABgAAAAABAAACAAAAAAEAAAYAAAAAAQAAAgAAAAABAAAGAAAAAAEAAAIAAAAAAQAABgAAAAABAAACAAAAAAEAAAYAAAAAAQAAAgAAAAABAAAGAAAAAAEAAAIAAAAAAQAABgAAAAABAAACAAAAAAEAAAYAAAAAAQAAAgAAAAABAAAGAAAAAAEAAAIAAAAAAQAABgAAAAABAAACAAAAAAEAAAYAAAAAAQAAAgAAAAABAAAGAAAAAAEAAAIAAAAAAQAABgAAAAABAAACAAAAAAEAAAYAAAAAAQAAAgAAAAABAAAGAAAAAAEAAAIAAAAAAQAABgAAAAABAAACAAAAAAEAAAYAAAAAAQAAAgAAAAABAAAGAAAAAAEAAAIAAAAAAQAABgAAAAABAAACAAAAAAEAAAYAAAAAAQAAAgAAAAABAAAGAAAAAAEAAAIAAAAAAQAABgAAAAABAAACAAAAAAEAAAYAAAAAAQAAAgAAAAABAAAGAAAAAAEAAAIAAAAAAQAABgAAAAABAAACAAAAAAEAAAYAAAAAAQAAAgAAAAABAAAGAAAAAAEAAAIAAAAAAQAABgAAAAABAAACAAAAAAEAAAYAAAAAAQAAAgAAAAABAAAGAAAAAAEAAAIAAAAAAQAABgAAAAABAAACAAAAAAEAAAYAAAAAAQAAAgAAAAABAAAGAAAAAAEAAAIAAAAAAQAABgAAAAABAAACAAAAAAEAAAYAAAAAAQAAAgAAAAABAAAGAAAAAAEAAAIAAAAAAQAABgAAAAABAAACAAAAAAEAAAYAAAAAAQAAAgAAAAABAAAGAAAAAAEAAAIAAAAAAQAABgAAAAABAAACAAAAAAEAAAYAAAAAAQAAAgAAAAABAAAGAAAAAAEAAAIAAAAAAQAABgAAAAABAAACAAAAAAEAAAYAAAAAAQAAAgAAAAABAAAGAAAAAAEAAAIAAAAAAQAABgAAAAABAAACAAAAAAEAAAYAAAAAAQAAAgAAAAABAAAGAAAAAAEAAAIAAAAAAQAABgAAAAABAAACAAAAAAEAAAYAAAAAAQAAAgAAAAABAAAGAAAAAAEAAAIAAAAAAQAABgAAAAABAAACAAAAAAEAAAYAAAAAAQAAAgAAAAABAAAEAAAAABxzdHNjAAAAAAAAAAEAAAABAAAAygAAAAEAAAM8c3RzegAAAAAAAAAAAAAAygAABZ8AAAAQAAAAEwAAABQAAAATAAAAFgAAABMAAAAWAAAAEwAAABYAAAATAAAAFgAAABMAAAAWAAAAEwAAABYAAAATAAAAFgAAABMAAAAWAAAAEwAAABYAAAATAAAAFgAAABMAAAAWAAAAEwAAABYAAAATAAAAFgAAABMAAAAWAAAAEwAAABYAAAATAAAAFgAAABMAAAAWAAAAEwAAABYAAAATAAAAFgAAABMAAAAWAAAAEwAAABYAAAATAAAAFgAAABMAAAAWAAAAEwAAABYAAAATAAAAFgAAABMAAAAWAAAAEwAAABYAAAATAAAAFgAAABMAAAAWAAAAEwAAABYAAAATAAAAFgAAABMAAAAWAAAAEwAAABYAAAATAAAAFgAAABMAAAAWAAAAEwAAABYAAAATAAAAFgAAABMAAAAWAAAAEwAAABYAAAATAAAAFgAAABMAAAAWAAAAEwAAABYAAAATAAAAFgAAABMAAAAWAAAAEwAAABYAAAATAAAAFgAAABMAAAAWAAAAEwAAABYAAAATAAAAFgAAABMAAAAWAAAAEwAAABYAAAATAAAAFgAAABMAAAAWAAAAEwAAABYAAAATAAAAFgAAABMAAAAWAAAAEwAAABYAAAATAAAAFgAAABMAAAAWAAAAEwAAABYAAAATAAAAFgAAABMAAAAWAAAAEwAAABYAAAATAAAAFgAAABMAAAAWAAAAEwAAABYAAAATAAAAFgAAABMAAAAWAAAAEwAAABYAAAATAAAAFgAAABMAAAAWAAAAEwAAABYAAAATAAAAFgAAABMAAAAWAAAAEwAAABYAAAATAAAAFgAAABMAAAAWAAAAEwAAABYAAAATAAAAFgAAABMAAAAWAAAAEwAAABYAAAATAAAAFgAAABMAAAAWAAAAEwAAABYAAAATAAAAFgAAABMAAAAWAAAAEwAAABYAAAATAAAAFgAAABMAAAAWAAAAEwAAABYAAAATAAAAFgAAABMAAAAWAAAAEwAAABYAAAATAAAAFgAAABMAAAAWAAAAEwAAABYAAAATAAAAFgAAABMAAAAWAAAAEwAAAB4AAAAUc3RjbwAAAAAAAAABAAAAMAAAAGJ1ZHRhAAAAWm1ldGEAAAAAAAAAIWhkbHIAAAAAAAAAAG1kaXJhcHBsAAAAAAAAAAAAAAAALWlsc3QAAAAlqXRvbwAAAB1kYXRhAAAAAQAAAABMYXZmNTcuODMuMTAw\" type=\"video/mp4\" />\n",
       "             </video>"
      ],
      "text/plain": [
       "<IPython.core.display.HTML object>"
      ]
     },
     "execution_count": 26,
     "metadata": {},
     "output_type": "execute_result"
    }
   ],
   "source": [
    "# Evaluation\n",
    "test(agent,env,epochs_test,prefix='cnn_test_count_explore', epsilon_greedy=True) # ϵ-greedy exploration during testing\n",
    "HTML(display_videos('cnn_test_count_explore20.mp4'))"
   ]
  },
  {
   "cell_type": "markdown",
   "metadata": {},
   "source": [
    "**Comment:**\n",
    "\n",
    "* Here we observe that the count-based exploration approach on its own performs worse than the $\\epsilon$-greedy approach on its own and worse than both approaches simultaneously. The count-based exploration is not sufficient on its own.\n",
    "\n",
    "* That being said, note that the number of test environments is fairly small (here 20), so the results should be taken with caution as there is significant variance. One should in fact conduct multiple runs and plot the standard deviations. In addition we are only observing the results using the same ``temperature`` in both training and testing phases."
   ]
  },
  {
   "cell_type": "markdown",
   "metadata": {},
   "source": [
    "***\n",
    "***\n",
    "__BONUS question__ Use the expert DQN from the previous question to generate some winning games. Train a model that mimicks its behavior. Compare the performances."
   ]
  },
  {
   "cell_type": "markdown",
   "metadata": {},
   "source": [
    "**Comment:**\n",
    "\n",
    "* In this section we explore training a model that imitates an expert DQN. This can be seen as an instance of Imitation Learning where agents learn from domain (often human) experts.\n",
    "\n",
    "* Moreover, it may relate to the fact that shallow networks might be able to learn complex function by using deeper original models as mentors (see [paper](https://arxiv.org/abs/1312.6184) from Lei Jimmy Ba and Rich Caruana where the authors conclude: \"Our success in training shallow neural nets to mimic deeper models suggests that there probably exist better algorithms for training shallow feed-forward nets than those currently available.\")\n",
    "\n",
    "* In addition, using the output of a fixed and randomly initialized network has recently being used in Reinforcement Learning to tackle sparse reward environments. The authors (Yuri Burda, Harrison Edwards, Amos Storkey and Oleg Klimov) present an intrinsic reward (as opposed to extrinsinc reward given by the environment) that acts as a curiosity module and that is essentially the prediction error on the output of a fixed and randomly intialized network. They coin this technique as [Random Network Distillation](https://arxiv.org/pdf/1810.12894.pdf) and achieve state-of-the-art on the infamous Montezuma's Revenge game from the Atari Learning Environment that is considered as an exploration benchmark since the rewards are very rare (i.e. sparse)."
   ]
  },
  {
   "cell_type": "code",
   "execution_count": 27,
   "metadata": {},
   "outputs": [],
   "source": [
    "class DQN_imitate(DQN):\n",
    "    def __init__(self, mentor, *args, lr=0.1,**kwargs):\n",
    "        super(DQN_imitate, self).__init__( *args,**kwargs)\n",
    "        \n",
    "        # NN Model\n",
    "        self.mentor = mentor\n",
    "        \n",
    "        ####### FILL IN\n",
    "        model = Sequential()\n",
    "        model.add(Flatten(input_shape=(5, 5, self.n_state,)))\n",
    "        model.add(Dense(30, activation=\"linear\"))\n",
    "        model.add(Dense(10, activation=\"linear\"))\n",
    "        model.add(Dense(4))\n",
    "        \n",
    "        #model.compile(sgd(lr=lr, decay=1e-4, momentum=0.0), \"mse\")\n",
    "        model.compile(\"adam\", \"mse\") # default ADAM\n",
    "        self.model = model\n",
    "        print(self.model.summary())\n",
    "        \n",
    "    # Overwrite reinforce\n",
    "    def reinforce(self, s_, n_s_, a_, r_, game_over_):\n",
    "        # Two steps: first memorize the states, second learn from the pool\n",
    "\n",
    "        # Use the agent own memory\n",
    "        self.memory.remember([s_, n_s_, a_, r_, game_over_])\n",
    "        \n",
    "        input_states = np.zeros((self.batch_size, 5,5,self.n_state))\n",
    "        target_q = np.zeros((self.batch_size, 4))\n",
    "        \n",
    "        for i in range(self.batch_size):\n",
    "            ######## FILL IN\n",
    "            state, next_state, action, reward, game_over = self.memory.random_access()\n",
    "            input_states[i] = state\n",
    "            #target_q[i] = self.model.predict(state.reshape(1, 5, 5, self.n_state))\n",
    "            # Use the mentor model predictions\n",
    "            target_q[i] = self.mentor.model.predict(state.reshape(1, 5, 5, self.n_state))\n",
    "            \n",
    "        # HINT: Clip the target to avoid exploiding gradients.. -- clipping is a bit tighter\n",
    "        target_q = np.clip(target_q, -3, 3)\n",
    "\n",
    "        l = self.model.train_on_batch(input_states, target_q)\n",
    "\n",
    "        return l "
   ]
  },
  {
   "cell_type": "code",
   "execution_count": 28,
   "metadata": {},
   "outputs": [
    {
     "name": "stdout",
     "output_type": "stream",
     "text": [
      "_________________________________________________________________\n",
      "Layer (type)                 Output Shape              Param #   \n",
      "=================================================================\n",
      "conv2d_11 (Conv2D)           (None, 3, 3, 16)          448       \n",
      "_________________________________________________________________\n",
      "conv2d_12 (Conv2D)           (None, 1, 1, 8)           1160      \n",
      "_________________________________________________________________\n",
      "flatten_8 (Flatten)          (None, 8)                 0         \n",
      "_________________________________________________________________\n",
      "dense_12 (Dense)             (None, 4)                 36        \n",
      "=================================================================\n",
      "Total params: 1,644\n",
      "Trainable params: 1,644\n",
      "Non-trainable params: 0\n",
      "_________________________________________________________________\n",
      "None\n",
      "Epoch 001/030 | Loss 0.0119 | Win/lose count 5.0/4.0 (1.0) | Agent epsilon: 0.500000\n",
      "Epoch 002/030 | Loss 0.0093 | Win/lose count 2.5/5.0 (-2.5) | Agent epsilon: 0.495000\n",
      "Epoch 003/030 | Loss 0.0071 | Win/lose count 6.0/4.0 (2.0) | Agent epsilon: 0.485149\n",
      "Epoch 004/030 | Loss 0.0041 | Win/lose count 6.5/7.0 (-0.5) | Agent epsilon: 0.470740\n",
      "Epoch 005/030 | Loss 0.0045 | Win/lose count 3.0/8.0 (-5.0) | Agent epsilon: 0.452191\n",
      "Epoch 006/030 | Loss 0.0051 | Win/lose count 4.5/4.0 (0.5) | Agent epsilon: 0.430029\n",
      "Epoch 007/030 | Loss 0.0642 | Win/lose count 7.0/7.0 (0.0) | Agent epsilon: 0.404864\n",
      "Epoch 008/030 | Loss 0.0565 | Win/lose count 3.5/6.0 (-2.5) | Agent epsilon: 0.377360\n",
      "Epoch 009/030 | Loss 0.0065 | Win/lose count 3.0/5.0 (-2.0) | Agent epsilon: 0.348207\n",
      "Epoch 010/030 | Loss 0.0038 | Win/lose count 6.5/7.0 (-0.5) | Agent epsilon: 0.318093\n",
      "Epoch 011/030 | Loss 0.0032 | Win/lose count 16.0/7.0 (9.0) | Agent epsilon: 0.287677\n",
      "Epoch 012/030 | Loss 0.0019 | Win/lose count 3.5/7.0 (-3.5) | Agent epsilon: 0.257569\n",
      "Epoch 013/030 | Loss 0.0649 | Win/lose count 7.0/5.0 (2.0) | Agent epsilon: 0.228305\n",
      "Epoch 014/030 | Loss 0.0530 | Win/lose count 13.5/5.0 (8.5) | Agent epsilon: 0.200342\n",
      "Epoch 015/030 | Loss 0.0054 | Win/lose count 10.5/3.0 (7.5) | Agent epsilon: 0.174047\n",
      "Epoch 016/030 | Loss 0.0610 | Win/lose count 11.5/6.0 (5.5) | Agent epsilon: 0.149690\n",
      "Epoch 017/030 | Loss 0.0035 | Win/lose count 9.0/6.0 (3.0) | Agent epsilon: 0.127455\n",
      "Epoch 018/030 | Loss 0.0566 | Win/lose count 7.0/1.0 (6.0) | Agent epsilon: 0.107437\n",
      "Epoch 019/030 | Loss 0.0029 | Win/lose count 10.0/3.0 (7.0) | Agent epsilon: 0.089658\n",
      "Epoch 020/030 | Loss 0.0029 | Win/lose count 10.0/2.0 (8.0) | Agent epsilon: 0.074072\n",
      "Epoch 021/030 | Loss 0.0023 | Win/lose count 4.5/1.0 (3.5) | Agent epsilon: 0.060584\n",
      "Epoch 022/030 | Loss 0.0020 | Win/lose count 8.5/1.0 (7.5) | Agent epsilon: 0.049057\n",
      "Epoch 023/030 | Loss 0.0019 | Win/lose count 7.5/2.0 (5.5) | Agent epsilon: 0.039325\n",
      "Epoch 024/030 | Loss 0.0014 | Win/lose count 3.5/1.0 (2.5) | Agent epsilon: 0.031209\n",
      "Epoch 025/030 | Loss 0.0007 | Win/lose count 10.0/1.0 (9.0) | Agent epsilon: 0.024520\n",
      "Epoch 026/030 | Loss 0.0023 | Win/lose count 18.0/1.0 (17.0) | Agent epsilon: 0.019073\n",
      "Epoch 027/030 | Loss 0.0014 | Win/lose count 11.0/2.0 (9.0) | Agent epsilon: 0.014687\n",
      "Epoch 028/030 | Loss 0.0025 | Win/lose count 16.0/0 (16.0) | Agent epsilon: 0.011196\n",
      "Epoch 029/030 | Loss 0.0563 | Win/lose count 11.0/0 (11.0) | Agent epsilon: 0.008450\n",
      "Epoch 030/030 | Loss 0.0014 | Win/lose count 8.0/0 (8.0) | Agent epsilon: 0.006314\n"
     ]
    },
    {
     "data": {
      "text/html": [
       "<video alt=\"test\" controls>\n",
       "                <source src=\"data:video/mp4;base64,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\" type=\"video/mp4\" />\n",
       "             </video>"
      ],
      "text/plain": [
       "<IPython.core.display.HTML object>"
      ]
     },
     "execution_count": 28,
     "metadata": {},
     "output_type": "execute_result"
    }
   ],
   "source": [
    "# Mentor training\n",
    "env = EnvironmentExploring(grid_size=size, max_time=T, temperature=0.3)\n",
    "#env = Environment(grid_size=size, max_time=T, temperature=0.3)\n",
    "agent = DQN_CNN(size, epsilon = 0.5, memory_size=2000, batch_size = 32,n_state=3)\n",
    "#agent = DQN_CNN(size, lr=.1, epsilon = 0.5, memory_size=2000, batch_size = 32,n_state=2)\n",
    "train_explore(agent, env, epochs_train, prefix='cnn_train_full_explore', epsilon_decay=0.99) \n",
    "HTML(display_videos('cnn_train_full_explore30.mp4'))"
   ]
  },
  {
   "cell_type": "code",
   "execution_count": 29,
   "metadata": {},
   "outputs": [
    {
     "name": "stdout",
     "output_type": "stream",
     "text": [
      "_________________________________________________________________\n",
      "Layer (type)                 Output Shape              Param #   \n",
      "=================================================================\n",
      "flatten_9 (Flatten)          (None, 75)                0         \n",
      "_________________________________________________________________\n",
      "dense_13 (Dense)             (None, 30)                2280      \n",
      "_________________________________________________________________\n",
      "dense_14 (Dense)             (None, 10)                310       \n",
      "_________________________________________________________________\n",
      "dense_15 (Dense)             (None, 4)                 44        \n",
      "=================================================================\n",
      "Total params: 2,634\n",
      "Trainable params: 2,634\n",
      "Non-trainable params: 0\n",
      "_________________________________________________________________\n",
      "None\n",
      "Epoch 001/030 | Loss 0.1686 | Win/lose count 16.5/15.0 (1.5) | Agent epsilon: 0.500000\n",
      "Epoch 002/030 | Loss 0.0810 | Win/lose count 10.0/8.0 (2.0) | Agent epsilon: 0.495000\n",
      "Epoch 003/030 | Loss 0.0269 | Win/lose count 12.5/9.0 (3.5) | Agent epsilon: 0.485149\n",
      "Epoch 004/030 | Loss 0.0096 | Win/lose count 6.0/7.0 (-1.0) | Agent epsilon: 0.470740\n",
      "Epoch 005/030 | Loss 0.0285 | Win/lose count 11.5/8.0 (3.5) | Agent epsilon: 0.452191\n",
      "Epoch 006/030 | Loss 0.0034 | Win/lose count 10.0/5.0 (5.0) | Agent epsilon: 0.430029\n",
      "Epoch 007/030 | Loss 0.0035 | Win/lose count 13.0/4.0 (9.0) | Agent epsilon: 0.404864\n",
      "Epoch 008/030 | Loss 0.0015 | Win/lose count 12.5/7.0 (5.5) | Agent epsilon: 0.377360\n",
      "Epoch 009/030 | Loss 0.0012 | Win/lose count 12.5/3.0 (9.5) | Agent epsilon: 0.348207\n",
      "Epoch 010/030 | Loss 0.0009 | Win/lose count 7.5/3.0 (4.5) | Agent epsilon: 0.318093\n",
      "Epoch 011/030 | Loss 0.0006 | Win/lose count 8.5/6.0 (2.5) | Agent epsilon: 0.287677\n",
      "Epoch 012/030 | Loss 0.0009 | Win/lose count 3.5/4.0 (-0.5) | Agent epsilon: 0.257569\n",
      "Epoch 013/030 | Loss 0.0003 | Win/lose count 6.5/3.0 (3.5) | Agent epsilon: 0.228305\n",
      "Epoch 014/030 | Loss 0.0011 | Win/lose count 12.5/5.0 (7.5) | Agent epsilon: 0.200342\n",
      "Epoch 015/030 | Loss 0.0008 | Win/lose count 13.5/6.0 (7.5) | Agent epsilon: 0.174047\n",
      "Epoch 016/030 | Loss 0.0007 | Win/lose count 2.5/1.0 (1.5) | Agent epsilon: 0.149690\n",
      "Epoch 017/030 | Loss 0.0009 | Win/lose count 2.5/1.0 (1.5) | Agent epsilon: 0.127455\n",
      "Epoch 018/030 | Loss 0.0031 | Win/lose count 9.0/6.0 (3.0) | Agent epsilon: 0.107437\n",
      "Epoch 019/030 | Loss 0.0007 | Win/lose count 4.0/2.0 (2.0) | Agent epsilon: 0.089658\n",
      "Epoch 020/030 | Loss 0.0003 | Win/lose count 2.5/2.0 (0.5) | Agent epsilon: 0.074072\n",
      "Epoch 021/030 | Loss 0.0021 | Win/lose count 3.0/2.0 (1.0) | Agent epsilon: 0.060584\n",
      "Epoch 022/030 | Loss 0.0003 | Win/lose count 8.0/2.0 (6.0) | Agent epsilon: 0.049057\n",
      "Epoch 023/030 | Loss 0.0003 | Win/lose count 9.0/0 (9.0) | Agent epsilon: 0.039325\n",
      "Epoch 024/030 | Loss 0.0001 | Win/lose count 7.0/1.0 (6.0) | Agent epsilon: 0.031209\n",
      "Epoch 025/030 | Loss 0.0002 | Win/lose count 4.0/0 (4.0) | Agent epsilon: 0.024520\n",
      "Epoch 026/030 | Loss 0.0005 | Win/lose count 5.0/0 (5.0) | Agent epsilon: 0.019073\n",
      "Epoch 027/030 | Loss 0.0002 | Win/lose count 2.5/1.0 (1.5) | Agent epsilon: 0.014687\n",
      "Epoch 028/030 | Loss 0.0004 | Win/lose count 1.5/0 (1.5) | Agent epsilon: 0.011196\n",
      "Epoch 029/030 | Loss 0.0002 | Win/lose count 8.5/0 (8.5) | Agent epsilon: 0.008450\n",
      "Epoch 030/030 | Loss 0.0004 | Win/lose count 5.0/0 (5.0) | Agent epsilon: 0.006314\n"
     ]
    },
    {
     "data": {
      "text/html": [
       "<video alt=\"test\" controls>\n",
       "                <source src=\"data:video/mp4;base64,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\" type=\"video/mp4\" />\n",
       "             </video>"
      ],
      "text/plain": [
       "<IPython.core.display.HTML object>"
      ]
     },
     "execution_count": 29,
     "metadata": {},
     "output_type": "execute_result"
    }
   ],
   "source": [
    "# Learner training\n",
    "env = EnvironmentExploring(grid_size=size, max_time=T, temperature=0.3)\n",
    "learner = DQN_imitate(mentor=agent, grid_size=size, epsilon=0.5, memory_size=2000, batch_size=32, n_state=3) # mentor = expert DQN CNN agent\n",
    "train_explore(learner, env, epochs_train, prefix=\"fc_train_imitate\", epsilon_decay=0.99)\n",
    "HTML(display_videos(\"fc_train_imitate30.mp4\"))"
   ]
  },
  {
   "cell_type": "code",
   "execution_count": 30,
   "metadata": {},
   "outputs": [
    {
     "name": "stdout",
     "output_type": "stream",
     "text": [
      "Win/lose count 3.5/1.0. Average score (2.5)\n",
      "Win/lose count 3.5/0. Average score (3.0)\n",
      "Win/lose count 2.0/0. Average score (2.6666666666666665)\n",
      "Win/lose count 6.0/1.0. Average score (3.25)\n",
      "Win/lose count 2.5/0. Average score (3.1)\n",
      "Win/lose count 1.0/0. Average score (2.75)\n",
      "Win/lose count 9.0/0. Average score (3.642857142857143)\n",
      "Win/lose count 3.5/0. Average score (3.625)\n",
      "Win/lose count 2.0/0. Average score (3.4444444444444446)\n",
      "Win/lose count 0/0. Average score (3.1)\n",
      "Win/lose count 3.0/0. Average score (3.090909090909091)\n",
      "Win/lose count 0.5/0. Average score (2.875)\n",
      "Win/lose count 13.0/0. Average score (3.6538461538461537)\n",
      "Win/lose count 14.5/1.0. Average score (4.357142857142857)\n",
      "Win/lose count 5.0/0. Average score (4.4)\n",
      "Win/lose count 2.0/0. Average score (4.25)\n",
      "Win/lose count 2.5/0. Average score (4.147058823529412)\n",
      "Win/lose count 0.5/0. Average score (3.9444444444444446)\n",
      "Win/lose count 1.5/0. Average score (3.8157894736842106)\n",
      "Win/lose count 11.0/0. Average score (4.175)\n",
      "Final score: 4.175\n"
     ]
    },
    {
     "data": {
      "text/html": [
       "<video alt=\"test\" controls>\n",
       "                <source src=\"data:video/mp4;base64,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\" type=\"video/mp4\" />\n",
       "             </video>"
      ],
      "text/plain": [
       "<IPython.core.display.HTML object>"
      ]
     },
     "execution_count": 30,
     "metadata": {},
     "output_type": "execute_result"
    }
   ],
   "source": [
    "# Evaluation\n",
    "test(learner,env,epochs_test,prefix='fc_test_imitate', epsilon_greedy=True) # ϵ-greedy exploration during testing\n",
    "HTML(display_videos('fc_test_imitate20.mp4'))"
   ]
  },
  {
   "cell_type": "markdown",
   "metadata": {},
   "source": [
    "**Comment:**\n",
    "\n",
    "* The learner tends to get stuck and not explore much (this is striking if we omit the $\\epsilon$-greedy exploration in testing.\n",
    "\n",
    "* It is pointless to compare these results to the FC DQN network trained from scratch as the latter was then evaluated on a different ``temperature`` (0.45 vs 0.3). \n",
    "\n",
    "* Note that our implementation directly exploits the expert Q function and not only the action taken at a given state, hence it does not imitate the mentor in the same way as it would if it were only given the action performed by the mentor given the state. Here we have access to the internal model of the expert, which is not the case in practice.\n",
    "\n",
    "* In the following section we learn by using strictly the mentor memory instead of trying to imitate it by having access to its internal model."
   ]
  },
  {
   "cell_type": "markdown",
   "metadata": {},
   "source": [
    "***"
   ]
  },
  {
   "cell_type": "code",
   "execution_count": 31,
   "metadata": {},
   "outputs": [],
   "source": [
    "class DQN_imitate(DQN):\n",
    "    def __init__(self, mentor, *args, lr=0.1,**kwargs):\n",
    "        super(DQN_imitate, self).__init__( *args,**kwargs)\n",
    "        \n",
    "        # NN Model\n",
    "        self.mentor = mentor\n",
    "        \n",
    "        ####### FILL IN\n",
    "        model = Sequential()\n",
    "        model.add(Flatten(input_shape=(5, 5, self.n_state,)))\n",
    "        model.add(Dense(30, activation=\"linear\"))\n",
    "        model.add(Dense(10, activation=\"linear\"))\n",
    "        model.add(Dense(4))\n",
    "        \n",
    "        #model.compile(sgd(lr=lr, decay=1e-4, momentum=0.0), \"mse\")\n",
    "        model.compile(\"adam\", \"mse\")\n",
    "        self.model = model\n",
    "        print(self.model.summary())\n",
    "    \n",
    "    def reinforce(self, s_, n_s_, a_, r_, game_over_):\n",
    "        # Two steps: first memorize the states, second learn from the pool\n",
    "\n",
    "        # We save the state in the memory but do not use it\n",
    "        self.memory.remember([s_, n_s_, a_, r_, game_over_])\n",
    "        \n",
    "        input_states = np.zeros((self.batch_size, 5,5,self.n_state))\n",
    "        target_q = np.zeros((self.batch_size, 4))\n",
    "        \n",
    "        for i in range(self.batch_size):\n",
    "            ######## FILL IN\n",
    "            # Use mentor memory\n",
    "            state, next_state, action, reward, game_over = self.mentor.memory.random_access()\n",
    "            input_states[i] = state\n",
    "            # Get the current model prediction on the current state \n",
    "            target_q[i] = self.model.predict(state.reshape(1, 5, 5, self.n_state))\n",
    "            # Given the action taken, update the target with the next state prediction when the game is on\n",
    "            if game_over:\n",
    "                ######## FILL IN\n",
    "                target_q[i, action] = reward\n",
    "            else:\n",
    "                ######## FILL IN\n",
    "                target_q[i, action] = reward + self.discount * np.max(self.model.predict(next_state.reshape(1, 5, 5, self.n_state)))\n",
    "        ######## FILL IN\n",
    "        # HINT: Clip the target to avoid exploiding gradients.. -- clipping is a bit tighter\n",
    "        target_q = np.clip(target_q, -3, 3)\n",
    "\n",
    "        l = self.model.train_on_batch(input_states, target_q)\n",
    "\n",
    "        return l"
   ]
  },
  {
   "cell_type": "code",
   "execution_count": 32,
   "metadata": {},
   "outputs": [
    {
     "name": "stdout",
     "output_type": "stream",
     "text": [
      "_________________________________________________________________\n",
      "Layer (type)                 Output Shape              Param #   \n",
      "=================================================================\n",
      "flatten_10 (Flatten)         (None, 75)                0         \n",
      "_________________________________________________________________\n",
      "dense_16 (Dense)             (None, 30)                2280      \n",
      "_________________________________________________________________\n",
      "dense_17 (Dense)             (None, 10)                310       \n",
      "_________________________________________________________________\n",
      "dense_18 (Dense)             (None, 4)                 44        \n",
      "=================================================================\n",
      "Total params: 2,634\n",
      "Trainable params: 2,634\n",
      "Non-trainable params: 0\n",
      "_________________________________________________________________\n",
      "None\n",
      "Epoch 001/030 | Loss 0.0616 | Win/lose count 7.5/16.0 (-8.5) | Agent epsilon: 0.500000\n",
      "Epoch 002/030 | Loss 0.0107 | Win/lose count 12.0/10.0 (2.0) | Agent epsilon: 0.495000\n",
      "Epoch 003/030 | Loss 0.0042 | Win/lose count 8.0/9.0 (-1.0) | Agent epsilon: 0.485149\n",
      "Epoch 004/030 | Loss 0.0108 | Win/lose count 11.5/8.0 (3.5) | Agent epsilon: 0.470740\n",
      "Epoch 005/030 | Loss 0.0574 | Win/lose count 10.0/5.0 (5.0) | Agent epsilon: 0.452191\n",
      "Epoch 006/030 | Loss 0.0033 | Win/lose count 17.0/10.0 (7.0) | Agent epsilon: 0.430029\n",
      "Epoch 007/030 | Loss 0.0033 | Win/lose count 15.0/11.0 (4.0) | Agent epsilon: 0.404864\n",
      "Epoch 008/030 | Loss 0.0012 | Win/lose count 12.0/5.0 (7.0) | Agent epsilon: 0.377360\n",
      "Epoch 009/030 | Loss 0.0017 | Win/lose count 6.5/9.0 (-2.5) | Agent epsilon: 0.348207\n",
      "Epoch 010/030 | Loss 0.1026 | Win/lose count 12.5/9.0 (3.5) | Agent epsilon: 0.318093\n",
      "Epoch 011/030 | Loss 0.0057 | Win/lose count 12.5/11.0 (1.5) | Agent epsilon: 0.287677\n",
      "Epoch 012/030 | Loss 0.0021 | Win/lose count 10.5/2.0 (8.5) | Agent epsilon: 0.257569\n",
      "Epoch 013/030 | Loss 0.0013 | Win/lose count 13.0/4.0 (9.0) | Agent epsilon: 0.228305\n",
      "Epoch 014/030 | Loss 0.0045 | Win/lose count 8.0/2.0 (6.0) | Agent epsilon: 0.200342\n",
      "Epoch 015/030 | Loss 0.0477 | Win/lose count 6.0/3.0 (3.0) | Agent epsilon: 0.174047\n",
      "Epoch 016/030 | Loss 0.0023 | Win/lose count 11.0/1.0 (10.0) | Agent epsilon: 0.149690\n",
      "Epoch 017/030 | Loss 0.0021 | Win/lose count 17.5/1.0 (16.5) | Agent epsilon: 0.127455\n",
      "Epoch 018/030 | Loss 0.0018 | Win/lose count 10.5/3.0 (7.5) | Agent epsilon: 0.107437\n",
      "Epoch 019/030 | Loss 0.0032 | Win/lose count 7.5/3.0 (4.5) | Agent epsilon: 0.089658\n",
      "Epoch 020/030 | Loss 0.0018 | Win/lose count 10.5/0 (10.5) | Agent epsilon: 0.074072\n",
      "Epoch 021/030 | Loss 0.0013 | Win/lose count 1.5/0 (1.5) | Agent epsilon: 0.060584\n",
      "Epoch 022/030 | Loss 0.0032 | Win/lose count 6.5/5.0 (1.5) | Agent epsilon: 0.049057\n",
      "Epoch 023/030 | Loss 0.0022 | Win/lose count 11.5/3.0 (8.5) | Agent epsilon: 0.039325\n",
      "Epoch 024/030 | Loss 0.0024 | Win/lose count 4.0/1.0 (3.0) | Agent epsilon: 0.031209\n",
      "Epoch 025/030 | Loss 0.0021 | Win/lose count 6.5/0 (6.5) | Agent epsilon: 0.024520\n",
      "Epoch 026/030 | Loss 0.0433 | Win/lose count 7.0/0 (7.0) | Agent epsilon: 0.019073\n",
      "Epoch 027/030 | Loss 0.0011 | Win/lose count 4.0/1.0 (3.0) | Agent epsilon: 0.014687\n",
      "Epoch 028/030 | Loss 0.0027 | Win/lose count 6.5/0 (6.5) | Agent epsilon: 0.011196\n",
      "Epoch 029/030 | Loss 0.0014 | Win/lose count 1.0/0 (1.0) | Agent epsilon: 0.008450\n",
      "Epoch 030/030 | Loss 0.0019 | Win/lose count 3.0/1.0 (2.0) | Agent epsilon: 0.006314\n"
     ]
    },
    {
     "data": {
      "text/html": [
       "<video alt=\"test\" controls>\n",
       "                <source src=\"data:video/mp4;base64,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\" type=\"video/mp4\" />\n",
       "             </video>"
      ],
      "text/plain": [
       "<IPython.core.display.HTML object>"
      ]
     },
     "execution_count": 32,
     "metadata": {},
     "output_type": "execute_result"
    }
   ],
   "source": [
    "# Learner training\n",
    "env = EnvironmentExploring(grid_size=size, max_time=T, temperature=0.3)\n",
    "learner = DQN_imitate(mentor=agent, grid_size=size, epsilon=0.5, memory_size=2000, batch_size=32, n_state=3) # mentor = expert DQN CNN agent\n",
    "train_explore(learner, env, epochs_train, prefix=\"fc_train_imitate\", epsilon_decay=0.99)\n",
    "HTML(display_videos(\"fc_train_imitate30.mp4\"))"
   ]
  },
  {
   "cell_type": "code",
   "execution_count": 33,
   "metadata": {},
   "outputs": [
    {
     "name": "stdout",
     "output_type": "stream",
     "text": [
      "Win/lose count 3.0/0. Average score (3.0)\n",
      "Win/lose count 5.0/0. Average score (4.0)\n",
      "Win/lose count 6.0/0. Average score (4.666666666666667)\n",
      "Win/lose count 0.5/0. Average score (3.625)\n",
      "Win/lose count 5.5/0. Average score (4.0)\n",
      "Win/lose count 3.0/0. Average score (3.8333333333333335)\n",
      "Win/lose count 0.5/0. Average score (3.357142857142857)\n",
      "Win/lose count 4.0/0. Average score (3.4375)\n",
      "Win/lose count 6.0/0. Average score (3.7222222222222223)\n",
      "Win/lose count 2.5/0. Average score (3.6)\n",
      "Win/lose count 5.5/0. Average score (3.772727272727273)\n",
      "Win/lose count 2.5/0. Average score (3.6666666666666665)\n",
      "Win/lose count 6.0/0. Average score (3.8461538461538463)\n",
      "Win/lose count 0.5/0. Average score (3.607142857142857)\n",
      "Win/lose count 7.5/0. Average score (3.8666666666666667)\n",
      "Win/lose count 3.5/0. Average score (3.84375)\n",
      "Win/lose count 1.0/0. Average score (3.676470588235294)\n",
      "Win/lose count 2.5/0. Average score (3.611111111111111)\n",
      "Win/lose count 1.5/0. Average score (3.5)\n",
      "Win/lose count 0.5/0. Average score (3.35)\n",
      "Final score: 3.35\n"
     ]
    },
    {
     "data": {
      "text/html": [
       "<video alt=\"test\" controls>\n",
       "                <source src=\"data:video/mp4;base64,AAAAIGZ0eXBpc29tAAACAGlzb21pc28yYXZjMW1wNDEAAAAIZnJlZQAAFS9tZGF0AAACrQYF//+p3EXpvebZSLeWLNgg2SPu73gyNjQgLSBjb3JlIDE1MiByMjg1NCBlOWE1OTAzIC0gSC4yNjQvTVBFRy00IEFWQyBjb2RlYyAtIENvcHlsZWZ0IDIwMDMtMjAxNyAtIGh0dHA6Ly93d3cudmlkZW9sYW4ub3JnL3gyNjQuaHRtbCAtIG9wdGlvbnM6IGNhYmFjPTEgcmVmPTMgZGVibG9jaz0xOjA6MCBhbmFseXNlPTB4MToweDExMSBtZT1oZXggc3VibWU9NyBwc3k9MSBwc3lfcmQ9MS4wMDowLjAwIG1peGVkX3JlZj0xIG1lX3JhbmdlPTE2IGNocm9tYV9tZT0xIHRyZWxsaXM9MSA4eDhkY3Q9MCBjcW09MCBkZWFkem9uZT0yMSwxMSBmYXN0X3Bza2lwPTEgY2hyb21hX3FwX29mZnNldD00IHRocmVhZHM9NiBsb29rYWhlYWRfdGhyZWFkcz0xIHNsaWNlZF90aHJlYWRzPTAgbnI9MCBkZWNpbWF0ZT0xIGludGVybGFjZWQ9MCBibHVyYXlfY29tcGF0PTAgY29uc3RyYWluZWRfaW50cmE9MCBiZnJhbWVzPTMgYl9weXJhbWlkPTIgYl9hZGFwdD0xIGJfYmlhcz0wIGRpcmVjdD0xIHdlaWdodGI9MSBvcGVuX2dvcD0wIHdlaWdodHA9MiBrZXlpbnQ9MjUwIGtleWludF9taW49MjUgc2NlbmVjdXQ9NDAgaW50cmFfcmVmcmVzaD0wIHJjX2xvb2thaGVhZD00MCByYz1jcmYgbWJ0cmVlPTEgY3JmPTIzLjAgcWNvbXA9MC42MCBxcG1pbj0wIHFwbWF4PTY5IHFwc3RlcD00IGlwX3JhdGlvPTEuNDAgYXE9MToxLjAwAIAAAALjZYiEADv//vb8/AptUwn/LZ/+iL/lb+9P2a61uFE7M7QacwPQC/3cd/Xi1bCrc27LcdG8bJkAU3Roif7wCeUHx8S5yO3fApcBQPwKaTIuQD23BPwpcpHJ8/b4iDoy6J/zbS2s96cRRBNwKX5hLuzDq1gm9A4AeWH+kOZJqYAlb7SVc30IC6xBIGZHh2wSmtpCs8HJnovjMvx3OAjguKynQy2bpMTz5UU761lJeggGAabE68qjKNttUYZEWgH9vgPI9IId0HRLR5WXJAjAsJLMOn0Cl/R6vFCwWGHG1JTdT+pHDVyxqntXv421OBQLuv1kemLbOJZFcFiSsq4OnOBXY6C2V73FJFRh0HmkjTnbUbacwwr7GeJZGMghFm3mgk5IrR2jNhAX8HDaxhy8OUU4NGfqGHskt7E8c5Ip94ETjWSe2V24hmTRgI8gdVMf2BtM1lUkj7uNacGZ1ikvFCG3l9xUrZUFCuRL9j/3gixrkAorQQ/DKYhe3OyN2eKkp5MCOhhRDv6CPta5+0/PbmpDr9MIBw57FihTNRVOy2M+4orwAvmzBO4R2owDSZbjjijQBST0CpyDGccGV6fxlq6CkXnoYZBQDOSEYnVjiEcDUFj0yp8fu+Vnzdv7n6jUTwOtS+b5TokA5z+fpz573xul+nOqwan4msfyHA4VWbzHFZcRR8fROqMCXEMKQju7NGBq1EtOhvLQJelL4kLbGUDP8CXF6b6g4yDoGzZSLMEpVaIQZyunpGpkqlYudGSOCoCmkzRTUWEHvCxweupftRUN7RqkrtpapG114v4ZgOajkFMFpHCl04LawZZf6LhzjapOXJZoDFs/dXZ4zI1HRSkLs39xElsCG08YWCKqh/1pJ9R/enrbl6a5quidNoPKevo+5GMjZ6TR8GXIntcNYPjDdwHXgX0SfcmEq3zic+qyMELin7niUnasB27VYjgeR9VMtxqeOLhSR+VYRHgLO7iYFMACBwAAABhBmiRsQ7/+qZYABMfo5+RdshWjkKYbGsAAAAAOQZ5CeIX/AAWtlJS27GEAAAAQAZ5hdEK/AAeXieKTbJYYgAAAAA8BnmNqQr8AB2zUOhaN9sEAAAATQZpoSahBaJlMCHf//qmWAACVgQAAAAxBnoZFESwv/wAAsoEAAAAQAZ6ldEK/AAduxWLz+BzoQQAAABABnqdqQr8AB2zUOf5lvGBAAAAAE0GarEmoQWyZTAh3//6plgAAlYAAAAAMQZ7KRRUsL/8AALKBAAAAEAGe6XRCvwAHbsVi8/gc6EAAAAAQAZ7rakK/AAds1Dn+ZbxgQAAAABNBmvBJqEFsmUwId//+qZYAAJWBAAAADEGfDkUVLC//AACygQAAABABny10Qr8AB27FYvP4HOhBAAAAEAGfL2pCvwAHbNQ5/mW8YEAAAAATQZs0SahBbJlMCHf//qmWAACVgAAAAAxBn1JFFSwv/wAAsoEAAAAQAZ9xdEK/AAduxWLz+BzoQAAAABABn3NqQr8AB2zUOf5lvGBAAAAAE0GbeEmoQWyZTAh3//6plgAAlYEAAAAMQZ+WRRUsL/8AALKAAAAAEAGftXRCvwAHbsVi8/gc6EEAAAAQAZ+3akK/AAds1Dn+ZbxgQQAAABNBm7xJqEFsmUwId//+qZYAAJWAAAAADEGf2kUVLC//AACygQAAABABn/l0Qr8AB27FYvP4HOhAAAAAEAGf+2pCvwAHbNQ5/mW8YEEAAAATQZvgSahBbJlMCHf//qmWAACVgQAAAAxBnh5FFSwv/wAAsoAAAAAQAZ49dEK/AAduxWLz+BzoQAAAABABnj9qQr8AB2zUOf5lvGBBAAAAE0GaJEmoQWyZTAh3//6plgAAlYAAAAAMQZ5CRRUsL/8AALKBAAAAEAGeYXRCvwAHbsVi8/gc6EAAAAAQAZ5jakK/AAds1Dn+ZbxgQQAAABNBmmhJqEFsmUwId//+qZYAAJWBAAAADEGehkUVLC//AACygQAAABABnqV0Qr8AB27FYvP4HOhBAAAAEAGep2pCvwAHbNQ5/mW8YEAAAAATQZqsSahBbJlMCHf//qmWAACVgAAAAAxBnspFFSwv/wAAsoEAAAAQAZ7pdEK/AAduxWLz+BzoQAAAABABnutqQr8AB2zUOf5lvGBAAAAAE0Ga8EmoQWyZTAh3//6plgAAlYEAAAAMQZ8ORRUsL/8AALKBAAAAEAGfLXRCvwAHbsVi8/gc6EEAAAAQAZ8vakK/AAds1Dn+ZbxgQAAAABNBmzRJqEFsmUwId//+qZYAAJWAAAAADEGfUkUVLC//AACygQAAABABn3F0Qr8AB27FYvP4HOhAAAAAEAGfc2pCvwAHbNQ5/mW8YEAAAAATQZt4SahBbJlMCHf//qmWAACVgQAAAAxBn5ZFFSwv/wAAsoAAAAAQAZ+1dEK/AAduxWLz+BzoQQAAABABn7dqQr8AB2zUOf5lvGBBAAAAE0GbvEmoQWyZTAh3//6plgAAlYAAAAAMQZ/aRRUsL/8AALKBAAAAEAGf+XRCvwAHbsVi8/gc6EAAAAAQAZ/7akK/AAds1Dn+ZbxgQQAAABNBm+BJqEFsmUwId//+qZYAAJWBAAAADEGeHkUVLC//AACygAAAABABnj10Qr8AB27FYvP4HOhAAAAAEAGeP2pCvwAHbNQ5/mW8YEEAAAATQZokSahBbJlMCHf//qmWAACVgAAAAAxBnkJFFSwv/wAAsoEAAAAQAZ5hdEK/AAduxWLz+BzoQAAAABABnmNqQr8AB2zUOf5lvGBBAAAAE0GaaEmoQWyZTAh3//6plgAAlYEAAAAMQZ6GRRUsL/8AALKBAAAAEAGepXRCvwAHbsVi8/gc6EEAAAAQAZ6nakK/AAds1Dn+ZbxgQAAAABNBmqxJqEFsmUwId//+qZYAAJWAAAAADEGeykUVLC//AACygQAAABABnul0Qr8AB27FYvP4HOhAAAAAEAGe62pCvwAHbNQ5/mW8YEAAAAATQZrwSahBbJlMCHf//qmWAACVgQAAAAxBnw5FFSwv/wAAsoEAAAAQAZ8tdEK/AAduxWLz+BzoQQAAABABny9qQr8AB2zUOf5lvGBAAAAAE0GbNEmoQWyZTAh3//6plgAAlYAAAAAMQZ9SRRUsL/8AALKBAAAAEAGfcXRCvwAHbsVi8/gc6EAAAAAQAZ9zakK/AAds1Dn+ZbxgQAAAABNBm3hJqEFsmUwId//+qZYAAJWBAAAADEGflkUVLC//AACygAAAABABn7V0Qr8AB27FYvP4HOhBAAAAEAGft2pCvwAHbNQ5/mW8YEEAAAATQZu8SahBbJlMCHf//qmWAACVgAAAAAxBn9pFFSwv/wAAsoEAAAAQAZ/5dEK/AAduxWLz+BzoQAAAABABn/tqQr8AB2zUOf5lvGBBAAAAE0Gb4EmoQWyZTAh3//6plgAAlYEAAAAMQZ4eRRUsL/8AALKAAAAAEAGePXRCvwAHbsVi8/gc6EAAAAAQAZ4/akK/AAds1Dn+ZbxgQQAAABNBmiRJqEFsmUwId//+qZYAAJWAAAAADEGeQkUVLC//AACygQAAABABnmF0Qr8AB27FYvP4HOhAAAAAEAGeY2pCvwAHbNQ5/mW8YEEAAAATQZpoSahBbJlMCHf//qmWAACVgQAAAAxBnoZFFSwv/wAAsoEAAAAQAZ6ldEK/AAduxWLz+BzoQQAAABABnqdqQr8AB2zUOf5lvGBAAAAAE0GarEmoQWyZTAh3//6plgAAlYAAAAAMQZ7KRRUsL/8AALKBAAAAEAGe6XRCvwAHbsVi8/gc6EAAAAAQAZ7rakK/AAds1Dn+ZbxgQAAAABNBmvBJqEFsmUwId//+qZYAAJWBAAAADEGfDkUVLC//AACygQAAABABny10Qr8AB27FYvP4HOhBAAAAEAGfL2pCvwAHbNQ5/mW8YEAAAAATQZs0SahBbJlMCHf//qmWAACVgAAAAAxBn1JFFSwv/wAAsoEAAAAQAZ9xdEK/AAduxWLz+BzoQAAAABABn3NqQr8AB2zUOf5lvGBAAAAAE0GbeEmoQWyZTAh3//6plgAAlYEAAAAMQZ+WRRUsL/8AALKAAAAAEAGftXRCvwAHbsVi8/gc6EEAAAAQAZ+3akK/AAds1Dn+ZbxgQQAAABNBm7xJqEFsmUwId//+qZYAAJWAAAAADEGf2kUVLC//AACygQAAABABn/l0Qr8AB27FYvP4HOhAAAAAEAGf+2pCvwAHbNQ5/mW8YEEAAAATQZvgSahBbJlMCHf//qmWAACVgQAAAAxBnh5FFSwv/wAAsoAAAAAQAZ49dEK/AAduxWLz+BzoQAAAABABnj9qQr8AB2zUOf5lvGBBAAAAE0GaJEmoQWyZTAh3//6plgAAlYAAAAAMQZ5CRRUsL/8AALKBAAAAEAGeYXRCvwAHbsVi8/gc6EAAAAAQAZ5jakK/AAds1Dn+ZbxgQQAAABNBmmhJqEFsmUwId//+qZYAAJWBAAAADEGehkUVLC//AACygQAAABABnqV0Qr8AB27FYvP4HOhBAAAAEAGep2pCvwAHbNQ5/mW8YEAAAAATQZqsSahBbJlMCHf//qmWAACVgAAAAAxBnspFFSwv/wAAsoEAAAAQAZ7pdEK/AAduxWLz+BzoQAAAABABnutqQr8AB2zUOf5lvGBAAAAAE0Ga8EmoQWyZTAh3//6plgAAlYEAAAAMQZ8ORRUsL/8AALKBAAAAEAGfLXRCvwAHbsVi8/gc6EEAAAAQAZ8vakK/AAds1Dn+ZbxgQAAAABNBmzRJqEFsmUwId//+qZYAAJWAAAAADEGfUkUVLC//AACygQAAABABn3F0Qr8AB27FYvP4HOhAAAAAEAGfc2pCvwAHbNQ5/mW8YEAAAAATQZt4SahBbJlMCHf//qmWAACVgQAAAAxBn5ZFFSwv/wAAsoAAAAAQAZ+1dEK/AAduxWLz+BzoQQAAABABn7dqQr8AB2zUOf5lvGBBAAAAE0GbvEmoQWyZTAh3//6plgAAlYAAAAAMQZ/aRRUsL/8AALKBAAAAEAGf+XRCvwAHbsVi8/gc6EAAAAAQAZ/7akK/AAds1Dn+ZbxgQQAAABNBm+BJqEFsmUwId//+qZYAAJWBAAAADEGeHkUVLC//AACygAAAABABnj10Qr8AB27FYvP4HOhAAAAAEAGeP2pCvwAHbNQ5/mW8YEEAAAATQZokSahBbJlMCHf//qmWAACVgAAAAAxBnkJFFSwv/wAAsoEAAAAQAZ5hdEK/AAduxWLz+BzoQAAAABABnmNqQr8AB2zUOf5lvGBBAAAAE0GaaEmoQWyZTAh3//6plgAAlYEAAAAMQZ6GRRUsL/8AALKBAAAAEAGepXRCvwAHbsVi8/gc6EEAAAAQAZ6nakK/AAds1Dn+ZbxgQAAAABNBmqxJqEFsmUwId//+qZYAAJWAAAAADEGeykUVLC//AACygQAAABABnul0Qr8AB27FYvP4HOhAAAAAEAGe62pCvwAHbNQ5/mW8YEAAAAATQZrwSahBbJlMCHf//qmWAACVgQAAAAxBnw5FFSwv/wAAsoEAAAAQAZ8tdEK/AAduxWLz+BzoQQAAABABny9qQr8AB2zUOf5lvGBAAAAAE0GbNEmoQWyZTAh3//6plgAAlYAAAAAMQZ9SRRUsL/8AALKBAAAAEAGfcXRCvwAHbsVi8/gc6EAAAAAQAZ9zakK/AAds1Dn+ZbxgQAAAABNBm3hJqEFsmUwId//+qZYAAJWBAAAADEGflkUVLC//AACygAAAABABn7V0Qr8AB27FYvP4HOhBAAAAEAGft2pCvwAHbNQ5/mW8YEEAAAATQZu8SahBbJlMCHf//qmWAACVgAAAAAxBn9pFFSwv/wAAsoEAAAAQAZ/5dEK/AAduxWLz+BzoQAAAABABn/tqQr8AB2zUOf5lvGBBAAAAEkGb4EmoQWyZTAhv//6nhAABJwAAAAxBnh5FFSwv/wAAsoAAAAAQAZ49dEK/AAduxWLz+BzoQAAAABABnj9qQr8AB2zUOf5lvGBBAAAAEkGaJEmoQWyZTAhv//6nhAABJwAAAAxBnkJFFSwv/wAAsoEAAAAQAZ5hdEK/AAduxWLz+BzoQAAAABABnmNqQr8AB2zUOf5lvGBBAAAAEkGaaEmoQWyZTAhf//6MsAAEjQAAAAxBnoZFFSwv/wAAsoEAAAAQAZ6ldEK/AAduxWLz+BzoQQAAABABnqdqQr8AB2zUOf5lvGBAAAAAGkGaqUuoQhBbJEYIKAfyAf2HgCFf/jhAABFwAAAMiG1vb3YAAABsbXZoZAAAAAAAAAAAAAAAAAAAA+gAAB+QAAEAAAEAAAAAAAAAAAAAAAABAAAAAAAAAAAAAAAAAAAAAQAAAAAAAAAAAAAAAAAAQAAAAAAAAAAAAAAAAAAAAAAAAAAAAAAAAAAAAAAAAAIAAAuydHJhawAAAFx0a2hkAAAAAwAAAAAAAAAAAAAAAQAAAAAAAB+QAAAAAAAAAAAAAAAAAAAAAAABAAAAAAAAAAAAAAAAAAAAAQAAAAAAAAAAAAAAAAAAQAAAAAEQAAABEAAAAAAAJGVkdHMAAAAcZWxzdAAAAAAAAAABAAAfkAAABAAAAQAAAAALKm1kaWEAAAAgbWRoZAAAAAAAAAAAAAAAAAAAMgAAAZQAVcQAAAAAAC1oZGxyAAAAAAAAAAB2aWRlAAAAAAAAAAAAAAAAVmlkZW9IYW5kbGVyAAAACtVtaW5mAAAAFHZtaGQAAAABAAAAAAAAAAAAAAAkZGluZgAAABxkcmVmAAAAAAAAAAEAAAAMdXJsIAAAAAEAAAqVc3RibAAAAJVzdHNkAAAAAAAAAAEAAACFYXZjMQAAAAAAAAABAAAAAAAAAAAAAAAAAAAAAAEQARAASAAAAEgAAAAAAAAAAQAAAAAAAAAAAAAAAAAAAAAAAAAAAAAAAAAAAAAAAAAAABj//wAAAC9hdmNDAfQADf/hABdn9AANkZsoIhHQgAAAAwCAAAAZB4oUywEABWjr48RIAAAAGHN0dHMAAAAAAAAAAQAAAMoAAAIAAAAAFHN0c3MAAAAAAAAAAQAAAAEAAAZgY3R0cwAAAAAAAADKAAAAAQAABAAAAAABAAAKAAAAAAEAAAQAAAAAAQAAAAAAAAABAAACAAAAAAEAAAoAAAAAAQAABAAAAAABAAAAAAAAAAEAAAIAAAAAAQAACgAAAAABAAAEAAAAAAEAAAAAAAAAAQAAAgAAAAABAAAKAAAAAAEAAAQAAAAAAQAAAAAAAAABAAACAAAAAAEAAAoAAAAAAQAABAAAAAABAAAAAAAAAAEAAAIAAAAAAQAACgAAAAABAAAEAAAAAAEAAAAAAAAAAQAAAgAAAAABAAAKAAAAAAEAAAQAAAAAAQAAAAAAAAABAAACAAAAAAEAAAoAAAAAAQAABAAAAAABAAAAAAAAAAEAAAIAAAAAAQAACgAAAAABAAAEAAAAAAEAAAAAAAAAAQAAAgAAAAABAAAKAAAAAAEAAAQAAAAAAQAAAAAAAAABAAACAAAAAAEAAAoAAAAAAQAABAAAAAABAAAAAAAAAAEAAAIAAAAAAQAACgAAAAABAAAEAAAAAAEAAAAAAAAAAQAAAgAAAAABAAAKAAAAAAEAAAQAAAAAAQAAAAAAAAABAAACAAAAAAEAAAoAAAAAAQAABAAAAAABAAAAAAAAAAEAAAIAAAAAAQAACgAAAAABAAAEAAAAAAEAAAAAAAAAAQAAAgAAAAABAAAKAAAAAAEAAAQAAAAAAQAAAAAAAAABAAACAAAAAAEAAAoAAAAAAQAABAAAAAABAAAAAAAAAAEAAAIAAAAAAQAACgAAAAABAAAEAAAAAAEAAAAAAAAAAQAAAgAAAAABAAAKAAAAAAEAAAQAAAAAAQAAAAAAAAABAAACAAAAAAEAAAoAAAAAAQAABAAAAAABAAAAAAAAAAEAAAIAAAAAAQAACgAAAAABAAAEAAAAAAEAAAAAAAAAAQAAAgAAAAABAAAKAAAAAAEAAAQAAAAAAQAAAAAAAAABAAACAAAAAAEAAAoAAAAAAQAABAAAAAABAAAAAAAAAAEAAAIAAAAAAQAACgAAAAABAAAEAAAAAAEAAAAAAAAAAQAAAgAAAAABAAAKAAAAAAEAAAQAAAAAAQAAAAAAAAABAAACAAAAAAEAAAoAAAAAAQAABAAAAAABAAAAAAAAAAEAAAIAAAAAAQAACgAAAAABAAAEAAAAAAEAAAAAAAAAAQAAAgAAAAABAAAKAAAAAAEAAAQAAAAAAQAAAAAAAAABAAACAAAAAAEAAAoAAAAAAQAABAAAAAABAAAAAAAAAAEAAAIAAAAAAQAACgAAAAABAAAEAAAAAAEAAAAAAAAAAQAAAgAAAAABAAAKAAAAAAEAAAQAAAAAAQAAAAAAAAABAAACAAAAAAEAAAoAAAAAAQAABAAAAAABAAAAAAAAAAEAAAIAAAAAAQAACgAAAAABAAAEAAAAAAEAAAAAAAAAAQAAAgAAAAABAAAKAAAAAAEAAAQAAAAAAQAAAAAAAAABAAACAAAAAAEAAAoAAAAAAQAABAAAAAABAAAAAAAAAAEAAAIAAAAAAQAACgAAAAABAAAEAAAAAAEAAAAAAAAAAQAAAgAAAAABAAAKAAAAAAEAAAQAAAAAAQAAAAAAAAABAAACAAAAAAEAAAoAAAAAAQAABAAAAAABAAAAAAAAAAEAAAIAAAAAAQAACgAAAAABAAAEAAAAAAEAAAAAAAAAAQAAAgAAAAABAAAKAAAAAAEAAAQAAAAAAQAAAAAAAAABAAACAAAAAAEAAAoAAAAAAQAABAAAAAABAAAAAAAAAAEAAAIAAAAAAQAACgAAAAABAAAEAAAAAAEAAAAAAAAAAQAAAgAAAAABAAAKAAAAAAEAAAQAAAAAAQAAAAAAAAABAAACAAAAAAEAAAoAAAAAAQAABAAAAAABAAAAAAAAAAEAAAIAAAAAAQAACgAAAAABAAAEAAAAAAEAAAAAAAAAAQAAAgAAAAABAAAKAAAAAAEAAAQAAAAAAQAAAAAAAAABAAACAAAAAAEAAAoAAAAAAQAABAAAAAABAAAAAAAAAAEAAAIAAAAAAQAACgAAAAABAAAEAAAAAAEAAAAAAAAAAQAAAgAAAAABAAAKAAAAAAEAAAQAAAAAAQAAAAAAAAABAAACAAAAAAEAAAoAAAAAAQAABAAAAAABAAAAAAAAAAEAAAIAAAAAAQAABAAAAAAcc3RzYwAAAAAAAAABAAAAAQAAAMoAAAABAAADPHN0c3oAAAAAAAAAAAAAAMoAAAWYAAAAHAAAABIAAAAUAAAAEwAAABcAAAAQAAAAFAAAABQAAAAXAAAAEAAAABQAAAAUAAAAFwAAABAAAAAUAAAAFAAAABcAAAAQAAAAFAAAABQAAAAXAAAAEAAAABQAAAAUAAAAFwAAABAAAAAUAAAAFAAAABcAAAAQAAAAFAAAABQAAAAXAAAAEAAAABQAAAAUAAAAFwAAABAAAAAUAAAAFAAAABcAAAAQAAAAFAAAABQAAAAXAAAAEAAAABQAAAAUAAAAFwAAABAAAAAUAAAAFAAAABcAAAAQAAAAFAAAABQAAAAXAAAAEAAAABQAAAAUAAAAFwAAABAAAAAUAAAAFAAAABcAAAAQAAAAFAAAABQAAAAXAAAAEAAAABQAAAAUAAAAFwAAABAAAAAUAAAAFAAAABcAAAAQAAAAFAAAABQAAAAXAAAAEAAAABQAAAAUAAAAFwAAABAAAAAUAAAAFAAAABcAAAAQAAAAFAAAABQAAAAXAAAAEAAAABQAAAAUAAAAFwAAABAAAAAUAAAAFAAAABcAAAAQAAAAFAAAABQAAAAXAAAAEAAAABQAAAAUAAAAFwAAABAAAAAUAAAAFAAAABcAAAAQAAAAFAAAABQAAAAXAAAAEAAAABQAAAAUAAAAFwAAABAAAAAUAAAAFAAAABcAAAAQAAAAFAAAABQAAAAXAAAAEAAAABQAAAAUAAAAFwAAABAAAAAUAAAAFAAAABcAAAAQAAAAFAAAABQAAAAXAAAAEAAAABQAAAAUAAAAFwAAABAAAAAUAAAAFAAAABcAAAAQAAAAFAAAABQAAAAXAAAAEAAAABQAAAAUAAAAFwAAABAAAAAUAAAAFAAAABcAAAAQAAAAFAAAABQAAAAXAAAAEAAAABQAAAAUAAAAFwAAABAAAAAUAAAAFAAAABcAAAAQAAAAFAAAABQAAAAXAAAAEAAAABQAAAAUAAAAFwAAABAAAAAUAAAAFAAAABcAAAAQAAAAFAAAABQAAAAWAAAAEAAAABQAAAAUAAAAFgAAABAAAAAUAAAAFAAAABYAAAAQAAAAFAAAABQAAAAeAAAAFHN0Y28AAAAAAAAAAQAAADAAAABidWR0YQAAAFptZXRhAAAAAAAAACFoZGxyAAAAAAAAAABtZGlyYXBwbAAAAAAAAAAAAAAAAC1pbHN0AAAAJal0b28AAAAdZGF0YQAAAAEAAAAATGF2ZjU3LjgzLjEwMA==\" type=\"video/mp4\" />\n",
       "             </video>"
      ],
      "text/plain": [
       "<IPython.core.display.HTML object>"
      ]
     },
     "execution_count": 33,
     "metadata": {},
     "output_type": "execute_result"
    }
   ],
   "source": [
    "# Evaluation\n",
    "test(learner,env,epochs_test,prefix='fc_test_imitate', epsilon_greedy=True) # ϵ-greedy exploration during testing\n",
    "HTML(display_videos('fc_test_imitate20.mp4'))"
   ]
  },
  {
   "cell_type": "markdown",
   "metadata": {},
   "source": [
    "**Comment:**\n",
    "\n",
    "This time we only use the mentor's memory to obtain its actions/moves and train the learner model to imitate its behavior. As expected, since we do not rely on the expert internal model anymore, it is harder to imitate it by only using its actions/moves, thus we obtain a slightly worse average score."
   ]
  }
 ],
 "metadata": {
  "kernelspec": {
   "display_name": "Python 3",
   "language": "python",
   "name": "python3"
  },
  "language_info": {
   "codemirror_mode": {
    "name": "ipython",
    "version": 3
   },
   "file_extension": ".py",
   "mimetype": "text/x-python",
   "name": "python",
   "nbconvert_exporter": "python",
   "pygments_lexer": "ipython3",
   "version": "3.6.7"
  }
 },
 "nbformat": 4,
 "nbformat_minor": 2
}
